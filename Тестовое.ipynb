{
 "cells": [
  {
   "cell_type": "markdown",
   "id": "1cd5ad66",
   "metadata": {},
   "source": [
    "# A/B-тестирование для проверки динамики платежной активности"
   ]
  },
  {
   "cell_type": "markdown",
   "id": "dddfea91",
   "metadata": {},
   "source": [
    "# Содержание"
   ]
  },
  {
   "cell_type": "markdown",
   "id": "8330c5cf",
   "metadata": {},
   "source": [
    "**Часть 0: Описание задачи\n",
    "<br>\n",
    "<br>\n",
    "Часть 1: Проверка корректности данных\n",
    "<br>\n",
    "<br>\n",
    "Часть 2: Анализ равномерности и валидности распределения юзеров по группам\n",
    "<br>\n",
    "<br>\n",
    "Часть 3: Анализ результатов эксперимента\n",
    "<br>\n",
    "<br>\n",
    "Часть 4: Заключение**"
   ]
  },
  {
   "cell_type": "markdown",
   "id": "3c16268e",
   "metadata": {},
   "source": [
    "# Часть 0: Описание задачи"
   ]
  },
  {
   "cell_type": "markdown",
   "id": "d160dca3",
   "metadata": {},
   "source": [
    "Был запущен сплит-тест (а/б-тест), направленный на улучшение платежной активности пользователей. Вам дан датасет с транзакциями пользователей до и во время теста в контрольной и тестовых группах\n",
    "<br>\n",
    "<br>\n",
    "1. Какие вы можете сделать выводы? Какая группа показала лучшие результаты?\n",
    "<br>\n",
    "2. Можем ли мы как-то оценить из этих данных равномерность и валидность распределения юзеров по разным группам?\n",
    "<br>\n",
    "3. Если не ограничиваться теми данными, которые приведены в рамках этого задания, что ещё вы бы посчитали для оценки результатов групп?\n",
    "<br>\n",
    "<br>\n",
    "Описание данных:\n",
    "<br>\n",
    "<br>\n",
    "В таблице users_ приведена информация о том, какой юзер в какой момент времени попал в а/б тест:\n",
    "<br>\n",
    "tag - лэйбл группы (control - контрольная, остальные - тестовые)\n",
    "<br>\n",
    "ts - время, когда впервые был выдан tag. То есть, все события до наступления времени ts происходили с юзером до попадания в а/б тест\n",
    "<br>\n",
    "user_uid - внутренний id юзера (для матчинга со второй таблицей)\n",
    "<br>\n",
    "registration_time - время регистрации пользователя в сервисе\n",
    "<br>\n",
    "conv_ts - время совершения первой покупки пользователем в сервисе\n",
    "<br>\n",
    "<br>\n",
    "В таблице purchases_ приведена информация о транзакциях пользователей из таблицы users_ до и во время а/б теста:\n",
    "<br>\n",
    "user_uid - внутренний id юзера (для матчинга со второй таблицей)\n",
    "<br>\n",
    "time - время совершения транзакции\n",
    "<br>\n",
    "consumption_mode - вид потребления контента (dto - единица контента куплена навсегда, rent - единица контента взята в аренду, subscription - оформлена подписка)\n",
    "<br>\n",
    "element_uid - уникальный id единицы контента или подписки\n",
    "<br>\n",
    "price - цена (преобразованная)\n",
    "<br>\n",
    "<br>\n",
    "Значения в полях price и всех полях, указывающих на время - преобразованы. Это значит, что значение в таблице не настоящее, но является линейным преобразованием реального значения, где ко всем значениям одного поля применено одно и то же преобразование - между ними сохранено отношение порядка. Ко всем полям, обозначающим время, применено одно и то же преобразование."
   ]
  },
  {
   "cell_type": "markdown",
   "id": "1884df26",
   "metadata": {},
   "source": [
    "# Часть 1: Проверка корректности данных"
   ]
  },
  {
   "cell_type": "code",
   "execution_count": 2,
   "id": "a912a612",
   "metadata": {},
   "outputs": [],
   "source": [
    "import pandas as pd\n",
    "import numpy as np\n",
    "import matplotlib.pyplot as plt\n",
    "import seaborn as sns\n",
    "\n",
    "%matplotlib inline"
   ]
  },
  {
   "cell_type": "code",
   "execution_count": 3,
   "id": "4e3fb8af",
   "metadata": {},
   "outputs": [
    {
     "data": {
      "text/html": [
       "<div>\n",
       "<style scoped>\n",
       "    .dataframe tbody tr th:only-of-type {\n",
       "        vertical-align: middle;\n",
       "    }\n",
       "\n",
       "    .dataframe tbody tr th {\n",
       "        vertical-align: top;\n",
       "    }\n",
       "\n",
       "    .dataframe thead th {\n",
       "        text-align: right;\n",
       "    }\n",
       "</style>\n",
       "<table border=\"1\" class=\"dataframe\">\n",
       "  <thead>\n",
       "    <tr style=\"text-align: right;\">\n",
       "      <th></th>\n",
       "      <th>tag</th>\n",
       "      <th>ts</th>\n",
       "      <th>user_uid</th>\n",
       "      <th>registration_time</th>\n",
       "      <th>conv_ts</th>\n",
       "    </tr>\n",
       "  </thead>\n",
       "  <tbody>\n",
       "    <tr>\n",
       "      <th>0</th>\n",
       "      <td>test4</td>\n",
       "      <td>30152.843868</td>\n",
       "      <td>001885550d78efd82c0f5cc02ad3369a</td>\n",
       "      <td>27410.154590</td>\n",
       "      <td>29485.529691</td>\n",
       "    </tr>\n",
       "    <tr>\n",
       "      <th>1</th>\n",
       "      <td>control</td>\n",
       "      <td>30133.146255</td>\n",
       "      <td>deb7d0e9bf9813d4f21b579d3703c6e1</td>\n",
       "      <td>27410.171795</td>\n",
       "      <td>27632.424734</td>\n",
       "    </tr>\n",
       "    <tr>\n",
       "      <th>2</th>\n",
       "      <td>test1</td>\n",
       "      <td>30140.447675</td>\n",
       "      <td>32095e22f853e595a0f407ad081e7da8</td>\n",
       "      <td>27410.217536</td>\n",
       "      <td>27414.028899</td>\n",
       "    </tr>\n",
       "    <tr>\n",
       "      <th>3</th>\n",
       "      <td>control</td>\n",
       "      <td>30136.790772</td>\n",
       "      <td>9932d33f40ad07d7f3ddb7c6aee1bc60</td>\n",
       "      <td>27410.227367</td>\n",
       "      <td>27573.751226</td>\n",
       "    </tr>\n",
       "    <tr>\n",
       "      <th>4</th>\n",
       "      <td>test2</td>\n",
       "      <td>30150.339264</td>\n",
       "      <td>4a122db1ad0214e969df154d2dbb4622</td>\n",
       "      <td>27410.230786</td>\n",
       "      <td>29545.833019</td>\n",
       "    </tr>\n",
       "    <tr>\n",
       "      <th>...</th>\n",
       "      <td>...</td>\n",
       "      <td>...</td>\n",
       "      <td>...</td>\n",
       "      <td>...</td>\n",
       "      <td>...</td>\n",
       "    </tr>\n",
       "    <tr>\n",
       "      <th>696977</th>\n",
       "      <td>test3</td>\n",
       "      <td>30135.048875</td>\n",
       "      <td>e10d8044e619248ed68e54bc9f78efa9</td>\n",
       "      <td>27410.028612</td>\n",
       "      <td>27640.573832</td>\n",
       "    </tr>\n",
       "    <tr>\n",
       "      <th>696978</th>\n",
       "      <td>test2</td>\n",
       "      <td>30144.864583</td>\n",
       "      <td>75c4da27fde4db78cf7e92e1847d1661</td>\n",
       "      <td>27410.037686</td>\n",
       "      <td>29293.210971</td>\n",
       "    </tr>\n",
       "    <tr>\n",
       "      <th>696979</th>\n",
       "      <td>test4</td>\n",
       "      <td>30157.801078</td>\n",
       "      <td>d679d86c76c03f86e1459bde6b582664</td>\n",
       "      <td>27410.050534</td>\n",
       "      <td>29633.843281</td>\n",
       "    </tr>\n",
       "    <tr>\n",
       "      <th>696980</th>\n",
       "      <td>test4</td>\n",
       "      <td>30140.139148</td>\n",
       "      <td>ca7d91f45bcc7eed9402a781e48cd6f5</td>\n",
       "      <td>27410.114820</td>\n",
       "      <td>27448.255112</td>\n",
       "    </tr>\n",
       "    <tr>\n",
       "      <th>696981</th>\n",
       "      <td>test4</td>\n",
       "      <td>30135.493437</td>\n",
       "      <td>23f24586aaddd9229c724fac4725c94f</td>\n",
       "      <td>27410.140327</td>\n",
       "      <td>29017.771448</td>\n",
       "    </tr>\n",
       "  </tbody>\n",
       "</table>\n",
       "<p>696982 rows × 5 columns</p>\n",
       "</div>"
      ],
      "text/plain": [
       "            tag            ts                          user_uid  \\\n",
       "0         test4  30152.843868  001885550d78efd82c0f5cc02ad3369a   \n",
       "1       control  30133.146255  deb7d0e9bf9813d4f21b579d3703c6e1   \n",
       "2         test1  30140.447675  32095e22f853e595a0f407ad081e7da8   \n",
       "3       control  30136.790772  9932d33f40ad07d7f3ddb7c6aee1bc60   \n",
       "4         test2  30150.339264  4a122db1ad0214e969df154d2dbb4622   \n",
       "...         ...           ...                               ...   \n",
       "696977    test3  30135.048875  e10d8044e619248ed68e54bc9f78efa9   \n",
       "696978    test2  30144.864583  75c4da27fde4db78cf7e92e1847d1661   \n",
       "696979    test4  30157.801078  d679d86c76c03f86e1459bde6b582664   \n",
       "696980    test4  30140.139148  ca7d91f45bcc7eed9402a781e48cd6f5   \n",
       "696981    test4  30135.493437  23f24586aaddd9229c724fac4725c94f   \n",
       "\n",
       "        registration_time       conv_ts  \n",
       "0            27410.154590  29485.529691  \n",
       "1            27410.171795  27632.424734  \n",
       "2            27410.217536  27414.028899  \n",
       "3            27410.227367  27573.751226  \n",
       "4            27410.230786  29545.833019  \n",
       "...                   ...           ...  \n",
       "696977       27410.028612  27640.573832  \n",
       "696978       27410.037686  29293.210971  \n",
       "696979       27410.050534  29633.843281  \n",
       "696980       27410.114820  27448.255112  \n",
       "696981       27410.140327  29017.771448  \n",
       "\n",
       "[696982 rows x 5 columns]"
      ]
     },
     "execution_count": 3,
     "metadata": {},
     "output_type": "execute_result"
    }
   ],
   "source": [
    "users = pd.read_csv('users_.csv')\n",
    "users"
   ]
  },
  {
   "cell_type": "code",
   "execution_count": 389,
   "id": "e8585fa5",
   "metadata": {},
   "outputs": [
    {
     "data": {
      "text/plain": [
       "696500"
      ]
     },
     "execution_count": 389,
     "metadata": {},
     "output_type": "execute_result"
    }
   ],
   "source": [
    "users.ts.nunique()"
   ]
  },
  {
   "cell_type": "code",
   "execution_count": 390,
   "id": "d4efd98c",
   "metadata": {},
   "outputs": [
    {
     "data": {
      "text/plain": [
       "27"
      ]
     },
     "execution_count": 390,
     "metadata": {},
     "output_type": "execute_result"
    }
   ],
   "source": [
    "pd.to_datetime(users['ts']).nunique()"
   ]
  },
  {
   "cell_type": "markdown",
   "id": "d8d9c12e",
   "metadata": {},
   "source": [
    "Переводить данные в формат времени не имеет смысла - теряются уникальные значения"
   ]
  },
  {
   "cell_type": "code",
   "execution_count": 391,
   "id": "518eb031",
   "metadata": {},
   "outputs": [
    {
     "data": {
      "text/plain": [
       "tag                   object\n",
       "ts                   float64\n",
       "user_uid              object\n",
       "registration_time    float64\n",
       "conv_ts              float64\n",
       "dtype: object"
      ]
     },
     "execution_count": 391,
     "metadata": {},
     "output_type": "execute_result"
    }
   ],
   "source": [
    "users.dtypes"
   ]
  },
  {
   "cell_type": "code",
   "execution_count": 392,
   "id": "bb847883",
   "metadata": {},
   "outputs": [
    {
     "data": {
      "text/plain": [
       "tag                       5\n",
       "ts                   696500\n",
       "user_uid             694819\n",
       "registration_time    690641\n",
       "conv_ts                2893\n",
       "dtype: int64"
      ]
     },
     "execution_count": 392,
     "metadata": {},
     "output_type": "execute_result"
    }
   ],
   "source": [
    "users.nunique()"
   ]
  },
  {
   "cell_type": "code",
   "execution_count": 393,
   "id": "3bb620cb",
   "metadata": {},
   "outputs": [
    {
     "data": {
      "text/plain": [
       "1    693358\n",
       "2      1437\n",
       "3        23\n",
       "4         1\n",
       "Name: tag, dtype: int64"
      ]
     },
     "execution_count": 393,
     "metadata": {},
     "output_type": "execute_result"
    }
   ],
   "source": [
    "users.groupby('user_uid').agg({'tag': 'nunique'}).tag.value_counts()"
   ]
  },
  {
   "cell_type": "markdown",
   "id": "d23755f6",
   "metadata": {},
   "source": [
    "У нас есть 1461 пользователь, которым одновременно присвоено 2, 3 и даже 4 тэга. Это пересечение, таких пользователей надо удалить из датасета. Они в сумме занимают 0.2% от общего числа юзеров."
   ]
  },
  {
   "cell_type": "code",
   "execution_count": 4,
   "id": "d7267961",
   "metadata": {},
   "outputs": [
    {
     "data": {
      "text/plain": [
       "1461"
      ]
     },
     "execution_count": 4,
     "metadata": {},
     "output_type": "execute_result"
    }
   ],
   "source": [
    "with_1_tag = []\n",
    "[with_1_tag.append(i) for i in users.groupby('user_uid', as_index=False).agg({'tag': 'nunique'}).query(\"tag != 1\").user_uid]\n",
    "len(with_1_tag)"
   ]
  },
  {
   "cell_type": "code",
   "execution_count": 5,
   "id": "5c42eb86",
   "metadata": {},
   "outputs": [
    {
     "data": {
      "text/plain": [
       "(694011, 5)"
      ]
     },
     "execution_count": 5,
     "metadata": {},
     "output_type": "execute_result"
    }
   ],
   "source": [
    "users = users.query(\"user_uid not in @with_1_tag\")\n",
    "users.shape"
   ]
  },
  {
   "cell_type": "code",
   "execution_count": 396,
   "id": "a5417cbe",
   "metadata": {},
   "outputs": [
    {
     "data": {
      "text/plain": [
       "tag                       5\n",
       "ts                   693534\n",
       "user_uid             693358\n",
       "registration_time    689211\n",
       "conv_ts                2893\n",
       "dtype: int64"
      ]
     },
     "execution_count": 396,
     "metadata": {},
     "output_type": "execute_result"
    }
   ],
   "source": [
    "users.nunique()"
   ]
  },
  {
   "cell_type": "code",
   "execution_count": 168,
   "id": "8814879d",
   "metadata": {},
   "outputs": [
    {
     "data": {
      "text/plain": [
       "(141, 5)"
      ]
     },
     "execution_count": 168,
     "metadata": {},
     "output_type": "execute_result"
    }
   ],
   "source": [
    "users.query(\"registration_time > ts\").shape"
   ]
  },
  {
   "cell_type": "markdown",
   "id": "b55dd7c7",
   "metadata": {},
   "source": [
    "В датасете 141 человек (0.02% от всех пользователей), у которого дата регистрации меньше даты присвоения тэга. Исключим их"
   ]
  },
  {
   "cell_type": "code",
   "execution_count": 6,
   "id": "6421be65",
   "metadata": {},
   "outputs": [],
   "source": [
    "ts_before_reg = []\n",
    "[ts_before_reg.append(i) for i in users.query(\"registration_time > ts\").user_uid]\n",
    "users = users.query(\"user_uid not in @ts_before_reg\")"
   ]
  },
  {
   "cell_type": "code",
   "execution_count": 62,
   "id": "40e02e78",
   "metadata": {},
   "outputs": [
    {
     "data": {
      "text/plain": [
       "(693870, 5)"
      ]
     },
     "execution_count": 62,
     "metadata": {},
     "output_type": "execute_result"
    }
   ],
   "source": [
    "users.shape"
   ]
  },
  {
   "cell_type": "code",
   "execution_count": 400,
   "id": "750406c3",
   "metadata": {},
   "outputs": [
    {
     "data": {
      "text/plain": [
       "1    692744\n",
       "0       473\n",
       "Name: registration_time, dtype: int64"
      ]
     },
     "execution_count": 400,
     "metadata": {},
     "output_type": "execute_result"
    }
   ],
   "source": [
    "users.groupby('user_uid').agg({'registration_time': 'nunique'}).registration_time.value_counts()"
   ]
  },
  {
   "cell_type": "code",
   "execution_count": 401,
   "id": "5dd8f237",
   "metadata": {},
   "outputs": [
    {
     "data": {
      "text/plain": [
       "1    692582\n",
       "2       617\n",
       "3        18\n",
       "Name: ts, dtype: int64"
      ]
     },
     "execution_count": 401,
     "metadata": {},
     "output_type": "execute_result"
    }
   ],
   "source": [
    "users.groupby('user_uid').agg({'ts': 'nunique'}).ts.value_counts()"
   ]
  },
  {
   "cell_type": "code",
   "execution_count": 402,
   "id": "cca68051",
   "metadata": {},
   "outputs": [
    {
     "data": {
      "text/plain": [
       "1    692975\n",
       "0       242\n",
       "Name: conv_ts, dtype: int64"
      ]
     },
     "execution_count": 402,
     "metadata": {},
     "output_type": "execute_result"
    }
   ],
   "source": [
    "users.groupby('user_uid').agg({'conv_ts': 'nunique'}).conv_ts.value_counts()"
   ]
  },
  {
   "cell_type": "markdown",
   "id": "5dcd0abd",
   "metadata": {},
   "source": [
    "В выборке есть юзеры, по которым произошли дубли - их 635 (0.09% от выборки). Им присваивались одни и те же тэги, но более одного раза в разные даты. Удалим их"
   ]
  },
  {
   "cell_type": "code",
   "execution_count": 7,
   "id": "b23bd6f1",
   "metadata": {},
   "outputs": [],
   "source": [
    "duplicates_list = []\n",
    "[duplicates_list.append(i) for i in users.groupby('user_uid', as_index=False).agg({'ts': 'nunique'}).query(\"ts > 1\").user_uid]\n",
    "users = users.query(\"user_uid not in @duplicates_list\")"
   ]
  },
  {
   "cell_type": "code",
   "execution_count": 64,
   "id": "ba625694",
   "metadata": {},
   "outputs": [
    {
     "data": {
      "text/plain": [
       "(692582, 5)"
      ]
     },
     "execution_count": 64,
     "metadata": {},
     "output_type": "execute_result"
    }
   ],
   "source": [
    "users.shape"
   ]
  },
  {
   "cell_type": "code",
   "execution_count": 405,
   "id": "39b29ac9",
   "metadata": {},
   "outputs": [
    {
     "data": {
      "text/plain": [
       "tag                       5\n",
       "ts                   692105\n",
       "user_uid             692582\n",
       "registration_time    688443\n",
       "conv_ts                2887\n",
       "dtype: int64"
      ]
     },
     "execution_count": 405,
     "metadata": {},
     "output_type": "execute_result"
    }
   ],
   "source": [
    "users.nunique()"
   ]
  },
  {
   "cell_type": "markdown",
   "id": "4413da45",
   "metadata": {},
   "source": [
    "Предобработка датасета users закончена. Перейдем к таблице purchases"
   ]
  },
  {
   "cell_type": "code",
   "execution_count": 8,
   "id": "5fc0c428",
   "metadata": {},
   "outputs": [
    {
     "data": {
      "text/html": [
       "<div>\n",
       "<style scoped>\n",
       "    .dataframe tbody tr th:only-of-type {\n",
       "        vertical-align: middle;\n",
       "    }\n",
       "\n",
       "    .dataframe tbody tr th {\n",
       "        vertical-align: top;\n",
       "    }\n",
       "\n",
       "    .dataframe thead th {\n",
       "        text-align: right;\n",
       "    }\n",
       "</style>\n",
       "<table border=\"1\" class=\"dataframe\">\n",
       "  <thead>\n",
       "    <tr style=\"text-align: right;\">\n",
       "      <th></th>\n",
       "      <th>user_uid</th>\n",
       "      <th>time</th>\n",
       "      <th>consumption_mode</th>\n",
       "      <th>element_uid</th>\n",
       "      <th>price</th>\n",
       "    </tr>\n",
       "  </thead>\n",
       "  <tbody>\n",
       "    <tr>\n",
       "      <th>0</th>\n",
       "      <td>d60a7038c7b7e99146ffea6f6535862b</td>\n",
       "      <td>30158.645112</td>\n",
       "      <td>dto</td>\n",
       "      <td>2ba66ac9785731da67b2b6155efaca5c</td>\n",
       "      <td>44.470588</td>\n",
       "    </tr>\n",
       "    <tr>\n",
       "      <th>1</th>\n",
       "      <td>0906074e1a1a9229b5e749860b646962</td>\n",
       "      <td>30158.645015</td>\n",
       "      <td>dto</td>\n",
       "      <td>e56d422275d90c96762f81db85d80f3d</td>\n",
       "      <td>38.588235</td>\n",
       "    </tr>\n",
       "    <tr>\n",
       "      <th>2</th>\n",
       "      <td>efb6eeca3135d573739e5c5d4dbce330</td>\n",
       "      <td>30158.644990</td>\n",
       "      <td>dto</td>\n",
       "      <td>544f7dd31bd61558c9c738adcff6aafa</td>\n",
       "      <td>50.352941</td>\n",
       "    </tr>\n",
       "    <tr>\n",
       "      <th>3</th>\n",
       "      <td>ccd658e372645c991ce49b444839712f</td>\n",
       "      <td>30158.644789</td>\n",
       "      <td>dto</td>\n",
       "      <td>8256d0fc7b25382aacfec0066e39cde3</td>\n",
       "      <td>44.470588</td>\n",
       "    </tr>\n",
       "    <tr>\n",
       "      <th>4</th>\n",
       "      <td>89ae5e43ff7b89f9d262d507dedc1760</td>\n",
       "      <td>30158.644200</td>\n",
       "      <td>dto</td>\n",
       "      <td>a579f32b5c116624cc661c9d3b96d5e5</td>\n",
       "      <td>44.470588</td>\n",
       "    </tr>\n",
       "    <tr>\n",
       "      <th>...</th>\n",
       "      <td>...</td>\n",
       "      <td>...</td>\n",
       "      <td>...</td>\n",
       "      <td>...</td>\n",
       "      <td>...</td>\n",
       "    </tr>\n",
       "    <tr>\n",
       "      <th>663844</th>\n",
       "      <td>b95eb8746f20dba6ddc804a382b0763a</td>\n",
       "      <td>30106.491242</td>\n",
       "      <td>rent</td>\n",
       "      <td>f17e9ea5412551ddb4b258595413f98c</td>\n",
       "      <td>26.823529</td>\n",
       "    </tr>\n",
       "    <tr>\n",
       "      <th>663845</th>\n",
       "      <td>facc4c49dd6e6bccd77be41845297f2a</td>\n",
       "      <td>30106.491145</td>\n",
       "      <td>dto</td>\n",
       "      <td>0ccd083bb2e44eeed4d6e2b6ca86a480</td>\n",
       "      <td>44.470588</td>\n",
       "    </tr>\n",
       "    <tr>\n",
       "      <th>663846</th>\n",
       "      <td>f81a8bf7f6d136108da82dcf0b8e1141</td>\n",
       "      <td>30106.491129</td>\n",
       "      <td>rent</td>\n",
       "      <td>7bbdee0cb298b62ab4766241d2fb477d</td>\n",
       "      <td>26.823529</td>\n",
       "    </tr>\n",
       "    <tr>\n",
       "      <th>663847</th>\n",
       "      <td>0ffbe5d7a89472510b757f4c674c3b4d</td>\n",
       "      <td>30106.491029</td>\n",
       "      <td>dto</td>\n",
       "      <td>5aa724c0393087cde3a18c625b310645</td>\n",
       "      <td>21.058824</td>\n",
       "    </tr>\n",
       "    <tr>\n",
       "      <th>663848</th>\n",
       "      <td>cf96616ad179d1b6d3443c9cd33fcb18</td>\n",
       "      <td>30106.490995</td>\n",
       "      <td>dto</td>\n",
       "      <td>50e4aa7ed0212e2740b40f5409332f8d</td>\n",
       "      <td>38.588235</td>\n",
       "    </tr>\n",
       "  </tbody>\n",
       "</table>\n",
       "<p>663849 rows × 5 columns</p>\n",
       "</div>"
      ],
      "text/plain": [
       "                                user_uid          time consumption_mode  \\\n",
       "0       d60a7038c7b7e99146ffea6f6535862b  30158.645112              dto   \n",
       "1       0906074e1a1a9229b5e749860b646962  30158.645015              dto   \n",
       "2       efb6eeca3135d573739e5c5d4dbce330  30158.644990              dto   \n",
       "3       ccd658e372645c991ce49b444839712f  30158.644789              dto   \n",
       "4       89ae5e43ff7b89f9d262d507dedc1760  30158.644200              dto   \n",
       "...                                  ...           ...              ...   \n",
       "663844  b95eb8746f20dba6ddc804a382b0763a  30106.491242             rent   \n",
       "663845  facc4c49dd6e6bccd77be41845297f2a  30106.491145              dto   \n",
       "663846  f81a8bf7f6d136108da82dcf0b8e1141  30106.491129             rent   \n",
       "663847  0ffbe5d7a89472510b757f4c674c3b4d  30106.491029              dto   \n",
       "663848  cf96616ad179d1b6d3443c9cd33fcb18  30106.490995              dto   \n",
       "\n",
       "                             element_uid      price  \n",
       "0       2ba66ac9785731da67b2b6155efaca5c  44.470588  \n",
       "1       e56d422275d90c96762f81db85d80f3d  38.588235  \n",
       "2       544f7dd31bd61558c9c738adcff6aafa  50.352941  \n",
       "3       8256d0fc7b25382aacfec0066e39cde3  44.470588  \n",
       "4       a579f32b5c116624cc661c9d3b96d5e5  44.470588  \n",
       "...                                  ...        ...  \n",
       "663844  f17e9ea5412551ddb4b258595413f98c  26.823529  \n",
       "663845  0ccd083bb2e44eeed4d6e2b6ca86a480  44.470588  \n",
       "663846  7bbdee0cb298b62ab4766241d2fb477d  26.823529  \n",
       "663847  5aa724c0393087cde3a18c625b310645  21.058824  \n",
       "663848  50e4aa7ed0212e2740b40f5409332f8d  38.588235  \n",
       "\n",
       "[663849 rows x 5 columns]"
      ]
     },
     "execution_count": 8,
     "metadata": {},
     "output_type": "execute_result"
    }
   ],
   "source": [
    "purchases = pd.read_csv('purchases_.csv')\n",
    "purchases"
   ]
  },
  {
   "cell_type": "code",
   "execution_count": 5,
   "id": "8fec1769",
   "metadata": {},
   "outputs": [
    {
     "data": {
      "text/plain": [
       "user_uid             object\n",
       "time                float64\n",
       "consumption_mode     object\n",
       "element_uid          object\n",
       "price               float64\n",
       "dtype: object"
      ]
     },
     "execution_count": 5,
     "metadata": {},
     "output_type": "execute_result"
    }
   ],
   "source": [
    "purchases.dtypes"
   ]
  },
  {
   "cell_type": "code",
   "execution_count": 407,
   "id": "8cca0635",
   "metadata": {},
   "outputs": [
    {
     "data": {
      "text/plain": [
       "user_uid            0\n",
       "time                0\n",
       "consumption_mode    0\n",
       "element_uid         0\n",
       "price               0\n",
       "dtype: int64"
      ]
     },
     "execution_count": 407,
     "metadata": {},
     "output_type": "execute_result"
    }
   ],
   "source": [
    "purchases.isna().sum()"
   ]
  },
  {
   "cell_type": "code",
   "execution_count": 408,
   "id": "db0bd910",
   "metadata": {},
   "outputs": [
    {
     "data": {
      "text/plain": [
       "(663849, 5)"
      ]
     },
     "execution_count": 408,
     "metadata": {},
     "output_type": "execute_result"
    }
   ],
   "source": [
    "purchases.drop_duplicates().shape"
   ]
  },
  {
   "cell_type": "markdown",
   "id": "393f39b2",
   "metadata": {},
   "source": [
    "Таблица purchases не содержит пропусков и дубликатов, форматы данных корректные"
   ]
  },
  {
   "cell_type": "code",
   "execution_count": 13,
   "id": "4943f15b",
   "metadata": {},
   "outputs": [
    {
     "data": {
      "text/html": [
       "<div>\n",
       "<style scoped>\n",
       "    .dataframe tbody tr th:only-of-type {\n",
       "        vertical-align: middle;\n",
       "    }\n",
       "\n",
       "    .dataframe tbody tr th {\n",
       "        vertical-align: top;\n",
       "    }\n",
       "\n",
       "    .dataframe thead th {\n",
       "        text-align: right;\n",
       "    }\n",
       "</style>\n",
       "<table border=\"1\" class=\"dataframe\">\n",
       "  <thead>\n",
       "    <tr style=\"text-align: right;\">\n",
       "      <th></th>\n",
       "      <th>tag</th>\n",
       "      <th>ts</th>\n",
       "      <th>registration_time</th>\n",
       "      <th>conv_ts</th>\n",
       "      <th>user_uid</th>\n",
       "      <th>time</th>\n",
       "      <th>consumption_mode</th>\n",
       "    </tr>\n",
       "  </thead>\n",
       "  <tbody>\n",
       "  </tbody>\n",
       "</table>\n",
       "</div>"
      ],
      "text/plain": [
       "Empty DataFrame\n",
       "Columns: [tag, ts, registration_time, conv_ts, user_uid, time, consumption_mode]\n",
       "Index: []"
      ]
     },
     "execution_count": 13,
     "metadata": {},
     "output_type": "execute_result"
    }
   ],
   "source": [
    "users.query(\"ts < conv_ts and ts < registration_time\") \\\n",
    "    .merge(purchases[['user_uid', 'time', 'consumption_mode']], how='left', on='user_uid')"
   ]
  },
  {
   "cell_type": "markdown",
   "id": "e34f5765",
   "metadata": {},
   "source": [
    "В датасете нет юзеров, у которых время присвоения тега произошло до регистрации и до первой покупки"
   ]
  },
  {
   "cell_type": "markdown",
   "id": "91b47920",
   "metadata": {},
   "source": [
    "Теперь данные корректные, с ними можно работать"
   ]
  },
  {
   "cell_type": "markdown",
   "id": "05a1a217",
   "metadata": {},
   "source": [
    "# Часть 2: Анализ равномерности и валидности распределения юзеров по группам"
   ]
  },
  {
   "cell_type": "markdown",
   "id": "8bb6fa6d",
   "metadata": {},
   "source": [
    "Теперь посмотрим на равномерность и валидность выборок"
   ]
  },
  {
   "cell_type": "code",
   "execution_count": 410,
   "id": "609bcf1c",
   "metadata": {},
   "outputs": [
    {
     "data": {
      "text/plain": [
       "test1      0.200977\n",
       "test2      0.199985\n",
       "test4      0.199793\n",
       "test3      0.199793\n",
       "control    0.199452\n",
       "Name: tag, dtype: float64"
      ]
     },
     "execution_count": 410,
     "metadata": {},
     "output_type": "execute_result"
    }
   ],
   "source": [
    "users.tag.value_counts(normalize=True)"
   ]
  },
  {
   "cell_type": "markdown",
   "id": "c8cf2a09",
   "metadata": {},
   "source": [
    "В каждой из 5 групп находится примерно 20% трафика, соответственно **распределение юзеров примерно одинаковое**"
   ]
  },
  {
   "cell_type": "code",
   "execution_count": 9,
   "id": "e3aa51b4",
   "metadata": {},
   "outputs": [],
   "source": [
    "df = users.merge(purchases, on='user_uid', how='left')"
   ]
  },
  {
   "cell_type": "markdown",
   "id": "923a2457",
   "metadata": {},
   "source": [
    "Отберем данные, отражающие период до начала проведения A/B-теста - тех, у кого время покупки меньше времени присвоения лейбла, а так же тех, кто зарегистрировался до начала тестирования и при этом ничего не купил"
   ]
  },
  {
   "cell_type": "code",
   "execution_count": 412,
   "id": "d1858910",
   "metadata": {},
   "outputs": [
    {
     "data": {
      "text/plain": [
       "30132.31051184637"
      ]
     },
     "execution_count": 412,
     "metadata": {},
     "output_type": "execute_result"
    }
   ],
   "source": [
    "df.ts.min()"
   ]
  },
  {
   "cell_type": "code",
   "execution_count": 10,
   "id": "aa6d8256",
   "metadata": {},
   "outputs": [],
   "source": [
    "df_before = df.query(\"time < ts or registration_time < 30132.31051184637 and time.isnull()\")"
   ]
  },
  {
   "cell_type": "markdown",
   "id": "c562f119",
   "metadata": {},
   "source": [
    "Посмотрим на **средний чек** - отличается ли он по выборкам"
   ]
  },
  {
   "cell_type": "code",
   "execution_count": 415,
   "id": "47cb9c44",
   "metadata": {},
   "outputs": [
    {
     "data": {
      "text/html": [
       "<div>\n",
       "<style scoped>\n",
       "    .dataframe tbody tr th:only-of-type {\n",
       "        vertical-align: middle;\n",
       "    }\n",
       "\n",
       "    .dataframe tbody tr th {\n",
       "        vertical-align: top;\n",
       "    }\n",
       "\n",
       "    .dataframe thead th {\n",
       "        text-align: right;\n",
       "    }\n",
       "</style>\n",
       "<table border=\"1\" class=\"dataframe\">\n",
       "  <thead>\n",
       "    <tr style=\"text-align: right;\">\n",
       "      <th></th>\n",
       "      <th>tag</th>\n",
       "      <th>avg_check</th>\n",
       "    </tr>\n",
       "  </thead>\n",
       "  <tbody>\n",
       "    <tr>\n",
       "      <th>0</th>\n",
       "      <td>control</td>\n",
       "      <td>35.981236</td>\n",
       "    </tr>\n",
       "    <tr>\n",
       "      <th>1</th>\n",
       "      <td>test1</td>\n",
       "      <td>35.907625</td>\n",
       "    </tr>\n",
       "    <tr>\n",
       "      <th>2</th>\n",
       "      <td>test2</td>\n",
       "      <td>35.868327</td>\n",
       "    </tr>\n",
       "    <tr>\n",
       "      <th>3</th>\n",
       "      <td>test3</td>\n",
       "      <td>35.875315</td>\n",
       "    </tr>\n",
       "    <tr>\n",
       "      <th>4</th>\n",
       "      <td>test4</td>\n",
       "      <td>35.951459</td>\n",
       "    </tr>\n",
       "  </tbody>\n",
       "</table>\n",
       "</div>"
      ],
      "text/plain": [
       "       tag  avg_check\n",
       "0  control  35.981236\n",
       "1    test1  35.907625\n",
       "2    test2  35.868327\n",
       "3    test3  35.875315\n",
       "4    test4  35.951459"
      ]
     },
     "execution_count": 415,
     "metadata": {},
     "output_type": "execute_result"
    }
   ],
   "source": [
    "df_before.groupby('tag', as_index=False).agg({'price': 'mean'}).rename(columns={'price': 'avg_check'})"
   ]
  },
  {
   "cell_type": "code",
   "execution_count": 46,
   "id": "e8e7cdca",
   "metadata": {},
   "outputs": [
    {
     "data": {
      "image/png": "[encoded data removed]",
      "text/plain": [
       "<Figure size 864x432 with 1 Axes>"
      ]
     },
     "metadata": {
      "needs_background": "light"
     },
     "output_type": "display_data"
    }
   ],
   "source": [
    "plt.figure(figsize=(12,6))\n",
    "ax = sns.barplot(data=df_before.groupby('tag', as_index=False) \\\n",
    "                 .agg({'price': 'mean'}) \\\n",
    "                 .rename(columns={'price': 'avg_check'}) \\\n",
    "                 .round(2) \\\n",
    "                 .sort_values('avg_check', ascending=False),\n",
    "           y='tag',\n",
    "           x='avg_check')\n",
    "ax.bar_label(ax.containers[0])\n",
    "ax.set(title='Средний чек по группам на предпериоде')\n",
    "ax.set_xlabel('Средний чек')\n",
    "ax.set_ylabel('Экспериментальная группа');"
   ]
  },
  {
   "cell_type": "code",
   "execution_count": 68,
   "id": "4fdc2389",
   "metadata": {},
   "outputs": [],
   "source": [
    "df_before['log_price'] = np.log(df_before['price'])"
   ]
  },
  {
   "cell_type": "code",
   "execution_count": 160,
   "id": "3f541611",
   "metadata": {},
   "outputs": [
    {
     "data": {
      "image/png": "[encoded data removed]",
      "text/plain": [
       "<Figure size 864x576 with 1 Axes>"
      ]
     },
     "metadata": {
      "needs_background": "light"
     },
     "output_type": "display_data"
    }
   ],
   "source": [
    "plt.figure(figsize=(12,8))\n",
    "ax = sns.boxplot(data=df_before, x='tag', y='log_price')\n",
    "ax.set(title='Распределение чеков пользователей на предпериоде')\n",
    "ax.set(xlabel='Экспериментальная группа', ylabel='Логарифм чека')\n",
    "var = ax.set_xticklabels(ax.get_xticklabels(), rotation=0)"
   ]
  },
  {
   "cell_type": "markdown",
   "id": "aaf804b0",
   "metadata": {},
   "source": [
    "Средние значения визуально не отличаются. Можно отметить, что в контрольной группе шире разброс чеков и больше чеков на крупные сумммы. В третьей тестовой группе разброс примерно как в контрольной"
   ]
  },
  {
   "cell_type": "markdown",
   "id": "c3abc014",
   "metadata": {},
   "source": [
    "Построим графики распределения чеков по каждой из тестовых групп. Отбросим выбросы, чтобы они не искажали картину"
   ]
  },
  {
   "cell_type": "code",
   "execution_count": 132,
   "id": "78583845",
   "metadata": {},
   "outputs": [
    {
     "data": {
      "image/png": "[encoded data removed]",
      "text/plain": [
       "<Figure size 1080x360 with 5 Axes>"
      ]
     },
     "metadata": {
      "needs_background": "light"
     },
     "output_type": "display_data"
    }
   ],
   "source": [
    "fig, axs = plt.subplots(1,5, figsize=(15,5))\n",
    "fig.tight_layout()\n",
    "\n",
    "g1 = axs[0]\n",
    "g1.hist(df_before.query(\"tag == 'control'\")[df_before['price'] < df_before['price'].quantile(0.99)]['price'], bins=30)\n",
    "g1.set_title('group - control')\n",
    "g1.set_xlabel('Сумма чека')\n",
    "g1.set_ylabel('Частота')\n",
    "\n",
    "g2 = axs[1]\n",
    "g2.hist(df_before.query(\"tag == 'test1'\")[df_before['price'] < df_before['price'].quantile(0.99)]['price'], bins=30)\n",
    "g2.set_title('group - test1')\n",
    "g2.set_xlabel('Сумма чека')\n",
    "\n",
    "g3 = axs[2]\n",
    "g3.hist(df_before.query(\"tag == 'test2'\")[df_before['price'] < df_before['price'].quantile(0.99)]['price'], bins=30)\n",
    "g3.set_title('group - test2')\n",
    "g3.set_xlabel('Сумма чека')\n",
    "\n",
    "g4 = axs[3]\n",
    "g4.hist(df_before.query(\"tag == 'test3'\")[df_before['price'] < df_before['price'].quantile(0.99)]['price'], bins=30)\n",
    "g4.set_title('group - test3')\n",
    "g4.set_xlabel('Сумма чека')\n",
    "\n",
    "g5 = axs[4]\n",
    "g5.hist(df_before.query(\"tag == 'test4'\")[df_before['price'] < df_before['price'].quantile(0.99)]['price'], bins=30)\n",
    "g5.set_title('group - test4')\n",
    "g5.set_xlabel('Сумма чека')\n",
    "\n",
    "plt.show();"
   ]
  },
  {
   "cell_type": "markdown",
   "id": "a5ebfe8b",
   "metadata": {},
   "source": [
    "Распределение визуально отличается от нормального. Попробуем нормализовать распределение чеков с помощью логарифмирования"
   ]
  },
  {
   "cell_type": "code",
   "execution_count": 161,
   "id": "2229264b",
   "metadata": {},
   "outputs": [
    {
     "data": {
      "image/png": "[encoded data removed]",
      "text/plain": [
       "<Figure size 432x288 with 1 Axes>"
      ]
     },
     "metadata": {
      "needs_background": "light"
     },
     "output_type": "display_data"
    }
   ],
   "source": [
    "ax = sns.distplot(np.log(df_before.price))\n",
    "ax.set(title='Распределение логарифмированных чеков на предпериоде')\n",
    "ax.set_xlabel('Логарифм чека')\n",
    "ax.set_ylabel('Частота')\n",
    "plt.show();"
   ]
  },
  {
   "cell_type": "code",
   "execution_count": 29,
   "id": "aac834dd",
   "metadata": {},
   "outputs": [],
   "source": [
    "df_before['log_price'] = np.log(df_before['price'])"
   ]
  },
  {
   "cell_type": "code",
   "execution_count": 138,
   "id": "cfab4314",
   "metadata": {},
   "outputs": [
    {
     "data": {
      "image/png": "[encoded data removed]",
      "text/plain": [
       "<Figure size 1080x360 with 5 Axes>"
      ]
     },
     "metadata": {
      "needs_background": "light"
     },
     "output_type": "display_data"
    }
   ],
   "source": [
    "fig, axs = plt.subplots(1,5, figsize=(15,5))\n",
    "fig.tight_layout()\n",
    "\n",
    "g1 = axs[0]\n",
    "g1.hist(df_before.query(\"tag == 'control'\")['log_price'], bins=30)\n",
    "g1.set_title('group - control')\n",
    "g1.set_xlabel('Логарифм чека')\n",
    "g1.set_ylabel('Частота')\n",
    "\n",
    "g2 = axs[1]\n",
    "g2.hist(df_before.query(\"tag == 'test1'\")['log_price'], bins=30)\n",
    "g2.set_title('group - test1')\n",
    "g2.set_xlabel('Логарифм чека')\n",
    "\n",
    "g3 = axs[2]\n",
    "g3.hist(df_before.query(\"tag == 'test2'\")['log_price'], bins=30)\n",
    "g3.set_title('group - test2')\n",
    "g3.set_xlabel('Логарифм чека')\n",
    "\n",
    "g4 = axs[3]\n",
    "g4.hist(df_before.query(\"tag == 'test3'\")['log_price'], bins=30)\n",
    "g4.set_title('group - test3')\n",
    "g4.set_xlabel('Логарифм чека')\n",
    "\n",
    "g5 = axs[4]\n",
    "g5.hist(df_before.query(\"tag == 'test4'\")['log_price'], bins=30)\n",
    "g5.set_title('group - test4')\n",
    "g5.set_xlabel('Логарифм чека')\n",
    "\n",
    "plt.show();"
   ]
  },
  {
   "cell_type": "markdown",
   "id": "0317524f",
   "metadata": {},
   "source": [
    "Распределения визуально явно отличаются от нормальных. Чтобы удостовериться, используем статистический тест Шапиро-Уилка, который стандартно применяется для проверки отличия распределения от нормального"
   ]
  },
  {
   "cell_type": "code",
   "execution_count": 172,
   "id": "cebb613a",
   "metadata": {},
   "outputs": [],
   "source": [
    "from scipy import stats"
   ]
  },
  {
   "cell_type": "code",
   "execution_count": 185,
   "id": "31ce80b2",
   "metadata": {},
   "outputs": [
    {
     "name": "stdout",
     "output_type": "stream",
     "text": [
      "test4 : ShapiroResult(statistic=0.8951545357704163, pvalue=1.5285534660742788e-25)\n",
      "control : ShapiroResult(statistic=0.8639017343521118, pvalue=1.4301203450635087e-28)\n",
      "test1 : ShapiroResult(statistic=0.9032914638519287, pvalue=1.2183044560716866e-24)\n",
      "test2 : ShapiroResult(statistic=0.89411860704422, pvalue=1.184106596273257e-25)\n",
      "test3 : ShapiroResult(statistic=0.9014635682106018, pvalue=7.556734283307507e-25)\n"
     ]
    }
   ],
   "source": [
    "query_name = \"tag == {} and price > 0\"\n",
    "for i in df_before.tag.unique():\n",
    "    print(i, ':', stats.shapiro(df_before.query(query_name.format(\"'\"+i+\"'\")).price.sample(1000, random_state=17)))"
   ]
  },
  {
   "cell_type": "markdown",
   "id": "db526032",
   "metadata": {},
   "source": [
    "**Распределения для всех групп значимо отличаются от нормального.** \n",
    "<br>\n",
    "<br>\n",
    "Чтобы применять параметрический тест, необходимо, чтобы в группах соблюдалась гомогенность дисперсий. Чтобы проверить ее наличие, используем тест Левена, который проверяет выборки на принадлежность к генеральным совокупностям с равными дисперсиями"
   ]
  },
  {
   "cell_type": "code",
   "execution_count": 428,
   "id": "14388a7d",
   "metadata": {},
   "outputs": [
    {
     "data": {
      "text/plain": [
       "LeveneResult(statistic=1.6332167128309865, pvalue=0.16273365510890075)"
      ]
     },
     "execution_count": 428,
     "metadata": {},
     "output_type": "execute_result"
    }
   ],
   "source": [
    "stats.levene(df_before.query(\"tag == 'control'  and price > 0\").price,\n",
    "            df_before.query(\"tag == 'test1'  and price > 0\").price,\n",
    "            df_before.query(\"tag == 'test2'  and price > 0\").price,\n",
    "            df_before.query(\"tag == 'test3'  and price > 0\").price,\n",
    "            df_before.query(\"tag == 'test4'  and price > 0\").price)"
   ]
  },
  {
   "cell_type": "markdown",
   "id": "279d7fab",
   "metadata": {},
   "source": [
    "**Требование к гомогенности дисперсий соблюдается.** При этом данные не распределены нормально, поэтому используем непараметрический тест Краскела-Уоллиса, который позволяет сравнивать средние значения выборок. Тест Краскела-Уоллиса необходим, так как мы сравниваем более 2 групп. В этом случае если использовать непараметрический тест Манна-Уитни, который сравнивает две группы между собой, попарно, мы завышаем вероятность ошибки первого рода. Тест Краскела-Уоллиса, разработанный специально для множественных сравнений, помогает избавиться от такой проблемы. Этот тест проверяет, есть ли среди групп хотя бы одна, которая статистически значимо отличается от других. В случае если да, надо будет применять пост-хок тест, чтобы определить, в каких именно группах наблюдаются отличия"
   ]
  },
  {
   "cell_type": "code",
   "execution_count": 430,
   "id": "1aad5ffe",
   "metadata": {},
   "outputs": [
    {
     "data": {
      "text/plain": [
       "KruskalResult(statistic=4.626326833626191, pvalue=0.3278300422446007)"
      ]
     },
     "execution_count": 430,
     "metadata": {},
     "output_type": "execute_result"
    }
   ],
   "source": [
    "stats.kruskal(df_before.query(\"tag == 'control' and price > 0\").price,\n",
    "            df_before.query(\"tag == 'test1' and price > 0\").price,\n",
    "            df_before.query(\"tag == 'test2' and price > 0\").price,\n",
    "            df_before.query(\"tag == 'test3' and price > 0\").price,\n",
    "            df_before.query(\"tag == 'test4' and price > 0\").price)"
   ]
  },
  {
   "cell_type": "markdown",
   "id": "8690ef81",
   "metadata": {},
   "source": [
    "Пи-велью выше альфы (0.05), значит не можем отвергнуть гипотезу об отсутствии различий. \n",
    "<br>\n",
    "**Распределение по среднему чеку равномерно**"
   ]
  },
  {
   "cell_type": "markdown",
   "id": "3972509a",
   "metadata": {},
   "source": [
    "Посмотрим на **конверсию** в предпериоде"
   ]
  },
  {
   "cell_type": "code",
   "execution_count": 48,
   "id": "7d850ffe",
   "metadata": {},
   "outputs": [],
   "source": [
    "df_before['converted'] = np.where(df_before['time'] > 0, 1, 0)"
   ]
  },
  {
   "cell_type": "code",
   "execution_count": 432,
   "id": "8651c9ac",
   "metadata": {},
   "outputs": [
    {
     "data": {
      "text/plain": [
       "tag                       5\n",
       "ts                   625606\n",
       "user_uid             625988\n",
       "registration_time    622839\n",
       "conv_ts                2887\n",
       "time                 383102\n",
       "consumption_mode          3\n",
       "element_uid            5999\n",
       "price                    46\n",
       "log_price                46\n",
       "converted                 2\n",
       "dtype: int64"
      ]
     },
     "execution_count": 432,
     "metadata": {},
     "output_type": "execute_result"
    }
   ],
   "source": [
    "df_before.nunique()"
   ]
  },
  {
   "cell_type": "code",
   "execution_count": 49,
   "id": "fd7a0ffe",
   "metadata": {},
   "outputs": [
    {
     "data": {
      "text/html": [
       "<div>\n",
       "<style scoped>\n",
       "    .dataframe tbody tr th:only-of-type {\n",
       "        vertical-align: middle;\n",
       "    }\n",
       "\n",
       "    .dataframe tbody tr th {\n",
       "        vertical-align: top;\n",
       "    }\n",
       "\n",
       "    .dataframe thead th {\n",
       "        text-align: right;\n",
       "    }\n",
       "</style>\n",
       "<table border=\"1\" class=\"dataframe\">\n",
       "  <thead>\n",
       "    <tr style=\"text-align: right;\">\n",
       "      <th></th>\n",
       "      <th>tag</th>\n",
       "      <th>conversion</th>\n",
       "    </tr>\n",
       "  </thead>\n",
       "  <tbody>\n",
       "    <tr>\n",
       "      <th>0</th>\n",
       "      <td>control</td>\n",
       "      <td>0.367001</td>\n",
       "    </tr>\n",
       "    <tr>\n",
       "      <th>1</th>\n",
       "      <td>test1</td>\n",
       "      <td>0.370298</td>\n",
       "    </tr>\n",
       "    <tr>\n",
       "      <th>2</th>\n",
       "      <td>test2</td>\n",
       "      <td>0.367373</td>\n",
       "    </tr>\n",
       "    <tr>\n",
       "      <th>3</th>\n",
       "      <td>test3</td>\n",
       "      <td>0.366753</td>\n",
       "    </tr>\n",
       "    <tr>\n",
       "      <th>4</th>\n",
       "      <td>test4</td>\n",
       "      <td>0.365984</td>\n",
       "    </tr>\n",
       "  </tbody>\n",
       "</table>\n",
       "</div>"
      ],
      "text/plain": [
       "       tag  conversion\n",
       "0  control    0.367001\n",
       "1    test1    0.370298\n",
       "2    test2    0.367373\n",
       "3    test3    0.366753\n",
       "4    test4    0.365984"
      ]
     },
     "execution_count": 49,
     "metadata": {},
     "output_type": "execute_result"
    }
   ],
   "source": [
    "df_before_conv = df_before.groupby('user_uid', as_index=False).agg({'tag': 'max', 'converted': 'max'})\n",
    "df_before_conv.groupby('tag', as_index=False).agg({'converted': 'mean'}).rename(columns={'converted': 'conversion'})"
   ]
  },
  {
   "cell_type": "code",
   "execution_count": 59,
   "id": "b8e1e802",
   "metadata": {},
   "outputs": [
    {
     "data": {
      "image/png": "[encoded data removed]",
      "text/plain": [
       "<Figure size 864x432 with 1 Axes>"
      ]
     },
     "metadata": {
      "needs_background": "light"
     },
     "output_type": "display_data"
    }
   ],
   "source": [
    "plt.figure(figsize=(12,6))\n",
    "ax = sns.barplot(data=df_before_conv.groupby('tag', as_index=False) \\\n",
    "                 .agg({'converted': 'mean'}) \\\n",
    "                 .rename(columns={'converted': 'conversion'}) \\\n",
    "                 .round(2) \\\n",
    "                 .sort_values('conversion', ascending=False),\n",
    "           y='tag',\n",
    "           x='conversion')\n",
    "ax.bar_label(ax.containers[0])\n",
    "ax.set(title='Конверсия по группам на предпериоде')\n",
    "ax.set_xlabel('Конверсия')\n",
    "ax.set_ylabel('Экспериментальная группа');"
   ]
  },
  {
   "cell_type": "markdown",
   "id": "d629857d",
   "metadata": {},
   "source": [
    "Когда мы сравниваем конверсии, мы имеем дело по сути с качественными переменными. В каждой из пяти групп есть сконвертировавшиеся и не сконвертировавшиеся пользователи. На основании этого можно построить таблицу сопряженности, которая покажет как в каждой группе распределяются сконвертировавшиеся и не сконвертировавшиеся пользователи. Тест сопряженности хи-квадрат проверяет независимость переменных в таблице сопряженности. Этот статичтисечкий критерий используют, когда анализируемые переменные - номинативные. При пи-велью выше уровня значимости мы не сможем отвергнуть гипотезу о том, что распределение в группах не отличаются"
   ]
  },
  {
   "cell_type": "code",
   "execution_count": 192,
   "id": "b8eef38e",
   "metadata": {},
   "outputs": [],
   "source": [
    "from scipy.stats import chi2_contingency, chi2 "
   ]
  },
  {
   "cell_type": "code",
   "execution_count": 434,
   "id": "a5d260d9",
   "metadata": {},
   "outputs": [
    {
     "data": {
      "text/plain": [
       "(5.909481751909995, 0.20601098322831232)"
      ]
     },
     "execution_count": 434,
     "metadata": {},
     "output_type": "execute_result"
    }
   ],
   "source": [
    "stat, p, dof, expected = chi2_contingency(pd.crosstab(df_before_conv.tag, df_before_conv.converted))\n",
    "stat, p"
   ]
  },
  {
   "cell_type": "markdown",
   "id": "cbbe4f78",
   "metadata": {},
   "source": [
    "**Конверсии статистически не отличаются. Распределение равномерно и валидно**"
   ]
  },
  {
   "cell_type": "markdown",
   "id": "749e9233",
   "metadata": {},
   "source": [
    "# Часть 3: Анализ результатов эксперимента"
   ]
  },
  {
   "cell_type": "markdown",
   "id": "4b52be16",
   "metadata": {},
   "source": [
    "Метрики, на которые стоит обратить внимание:\n",
    "- конверсия в транзакцию, \n",
    "- конверсия в каждый тип транзакции (покупка, аренда, подписка), \n",
    "- конверсия в повторную покупку,\n",
    "- средний чек, \n",
    "- ARPU, \n",
    "- ARPPU,\n",
    "- частотность покупок"
   ]
  },
  {
   "cell_type": "markdown",
   "id": "c8430f4d",
   "metadata": {},
   "source": [
    "Для бизнеса важны те метрики, которые отражают возможность зарабатывать на пользовательской базе. Конверсия отражает корректность и удобство пользовательского пути. Если она растет, то нововведения удобнее для пользователя и бОльший процент людей готов тратить деньги в нашем сервисе. Это касается как общей конверсии, так и конверсии в каждый тип продукта "
   ]
  },
  {
   "cell_type": "markdown",
   "id": "4b488a4a",
   "metadata": {},
   "source": [
    "Конверсия в повторную покупку показывает, насколько нововведения подталкивают пользователя к совершению повторных транзакций. Эта метрика нужна, чтобы отследить, как много пользователей попробовали наш сервис и продолжили им пользоваться (а не отказались). С помощью конверсии в повторную покупку можно косвенно понять, насколько наш сервис удобен и позволяет удерживать пользователей (можно сказать, что это прокси для retention rate), обеспечивая Okko не разовый, а более стабильный доход"
   ]
  },
  {
   "cell_type": "markdown",
   "id": "4a1d65af",
   "metadata": {},
   "source": [
    "Средний чек, ARPU и ARPPU - это денежные метрики, которые позволяют отследить, насколько хорошо мы зарабатываем. \n",
    "<br>\n",
    "Если у нас растет средний чек, значит, нововведение подталкивает пользователей совершать более дорогие покупки и за счет этого увеличивается наш доход. Доход компании складывается из количества пользователей, конверсии и среднего чека. При равном количестве пользователей в группах, необходимо оценить конверсию и средний чек\n",
    "<br>\n",
    "Изучая ARPU, мы понимаем, что продукт ценен для пользователей, какой доход мы получаем со всей клиентской базы, учитывая, что у нас могут быть клиенты, не совершившие транзакций, метрика наиболее полно отражает ситуацию в сервисе\n",
    "<br>\n",
    "Смотреть на ARPPU необходимо, чтобы отслеживать, тратит ли каждый клиент больше или меньше в нашем приложении. Повлияло ли наше изменение на количество денег, которое платящий пользователь готов оставить в нашем сервисе, принимает ли он нововведение и насколько больше он готов платить"
   ]
  },
  {
   "cell_type": "markdown",
   "id": "8f2c1c78",
   "metadata": {},
   "source": [
    "Частотность помогает посмотреть, сколько транзакций совершают пользователи, насколько лояльны они к нашему сервису. Эта метрика тоже своего рода прокси для мониторинга удержания клиентов. "
   ]
  },
  {
   "cell_type": "markdown",
   "id": "a05b65ae",
   "metadata": {},
   "source": [
    "Посмотрим на **конверсию**"
   ]
  },
  {
   "cell_type": "markdown",
   "id": "4c5b9637",
   "metadata": {},
   "source": [
    "Оставим данные по тем юзерам, которые совершили транзакцию после присвоения тега, а также тех, кто не совершил транзакции (вне зависимости от времени регистрации, так как зарегестрировавшиеся до начала эксперимента могли сконвертироваться в ходе теста)"
   ]
  },
  {
   "cell_type": "code",
   "execution_count": 91,
   "id": "4c652c69",
   "metadata": {},
   "outputs": [],
   "source": [
    "df_after = df.query(\"time > ts or time.isnull()\")"
   ]
  },
  {
   "cell_type": "code",
   "execution_count": 92,
   "id": "e8589199",
   "metadata": {},
   "outputs": [],
   "source": [
    "df_after['converted'] = np.where(df_after['time'] > 0, 1, 0)"
   ]
  },
  {
   "cell_type": "code",
   "execution_count": 23,
   "id": "ad8d98bb",
   "metadata": {},
   "outputs": [
    {
     "data": {
      "text/html": [
       "<div>\n",
       "<style scoped>\n",
       "    .dataframe tbody tr th:only-of-type {\n",
       "        vertical-align: middle;\n",
       "    }\n",
       "\n",
       "    .dataframe tbody tr th {\n",
       "        vertical-align: top;\n",
       "    }\n",
       "\n",
       "    .dataframe thead th {\n",
       "        text-align: right;\n",
       "    }\n",
       "</style>\n",
       "<table border=\"1\" class=\"dataframe\">\n",
       "  <thead>\n",
       "    <tr style=\"text-align: right;\">\n",
       "      <th></th>\n",
       "      <th>tag</th>\n",
       "      <th>conversion</th>\n",
       "    </tr>\n",
       "  </thead>\n",
       "  <tbody>\n",
       "    <tr>\n",
       "      <th>0</th>\n",
       "      <td>control</td>\n",
       "      <td>0.272493</td>\n",
       "    </tr>\n",
       "    <tr>\n",
       "      <th>1</th>\n",
       "      <td>test1</td>\n",
       "      <td>0.282117</td>\n",
       "    </tr>\n",
       "    <tr>\n",
       "      <th>2</th>\n",
       "      <td>test2</td>\n",
       "      <td>0.279162</td>\n",
       "    </tr>\n",
       "    <tr>\n",
       "      <th>3</th>\n",
       "      <td>test3</td>\n",
       "      <td>0.279821</td>\n",
       "    </tr>\n",
       "    <tr>\n",
       "      <th>4</th>\n",
       "      <td>test4</td>\n",
       "      <td>0.279887</td>\n",
       "    </tr>\n",
       "  </tbody>\n",
       "</table>\n",
       "</div>"
      ],
      "text/plain": [
       "       tag  conversion\n",
       "0  control    0.272493\n",
       "1    test1    0.282117\n",
       "2    test2    0.279162\n",
       "3    test3    0.279821\n",
       "4    test4    0.279887"
      ]
     },
     "execution_count": 23,
     "metadata": {},
     "output_type": "execute_result"
    }
   ],
   "source": [
    "df_after_conv = df_after.groupby('user_uid', as_index=False).agg({'tag': 'max', 'converted': 'max'})\n",
    "df_after_conv.groupby('tag', as_index=False).agg({'converted': 'mean'}).rename(columns={'converted': 'conversion'})"
   ]
  },
  {
   "cell_type": "code",
   "execution_count": 58,
   "id": "76b2e295",
   "metadata": {},
   "outputs": [
    {
     "data": {
      "image/png": "[encoded data removed]",
      "text/plain": [
       "<Figure size 864x432 with 1 Axes>"
      ]
     },
     "metadata": {
      "needs_background": "light"
     },
     "output_type": "display_data"
    }
   ],
   "source": [
    "plt.figure(figsize=(12,6))\n",
    "ax = sns.barplot(data=df_after_conv.groupby('tag', as_index=False) \\\n",
    "            .agg({'converted': 'mean'}) \\\n",
    "            .rename(columns={'converted': 'conversion'}) \\\n",
    "            .round(2) \\\n",
    "            .sort_values('conversion', ascending=False),\n",
    "           y='tag',\n",
    "           x='conversion')\n",
    "ax.bar_label(ax.containers[0])\n",
    "ax.set(title='Конверсии в группах во время теста')\n",
    "ax.set_xlabel('Конверсия')\n",
    "ax.set_ylabel('Экспериментальная группа');"
   ]
  },
  {
   "cell_type": "markdown",
   "id": "de55f49d",
   "metadata": {},
   "source": [
    "Видим, что конверсия в контрольной группе ниже, чем в тестовых\n",
    "\n",
    "Как было описано ранее, конверсии можно сравнивать хи-квадратом, чтобы проверить, отличается ли распределение сконвертировавшихся и не сконвертировавшихся в разных группах"
   ]
  },
  {
   "cell_type": "code",
   "execution_count": 438,
   "id": "2d868ec7",
   "metadata": {},
   "outputs": [
    {
     "data": {
      "text/plain": [
       "(29.039865897309706, 7.672962636732087e-06)"
      ]
     },
     "execution_count": 438,
     "metadata": {},
     "output_type": "execute_result"
    }
   ],
   "source": [
    "stat, p, dof, expected = chi2_contingency(pd.crosstab(df_after_conv.tag, df_after_conv.converted))\n",
    "stat, p"
   ]
  },
  {
   "cell_type": "markdown",
   "id": "d992a977",
   "metadata": {},
   "source": [
    "**Конверсии статистически значимо отличаются.** Посмотрим, в каких группах есть это различие - проведем попарные сравнения. Но так как при попарных сравнениях растет вероятность ошибки первого рода - применим поправку Бонферони (для каждой пары стат значимость различий подтверждается не при p-value ниже альфы 0.05, а при p-value ниже альфы, деленной на кол-во всех попарных сравнений). Так как у нас 5 групп, то совершается 10 попарных сравнений (при этом мы будем смотреть только разницу каждого теста с контролем). Соответственно, пи-велью для каждого попарного сравнения должен быть ниже 0.005"
   ]
  },
  {
   "cell_type": "code",
   "execution_count": 198,
   "id": "00fa38fc",
   "metadata": {},
   "outputs": [
    {
     "name": "stdout",
     "output_type": "stream",
     "text": [
      "test4 : statistic = 15.025860440430986 p-value = 0.00010604798801522589\n",
      "test2 : statistic = 12.22278423613238 p-value = 0.00047209426865192275\n",
      "test1 : statistic = 25.436913641125088 p-value = 4.5708769945957217e-07\n",
      "control : statistic = 0.0 p-value = 1.0\n",
      "test3 : statistic = 14.753179344181333 p-value = 0.00012254072111288805\n"
     ]
    }
   ],
   "source": [
    "query_name = \"tag == 'control' or tag == {}\"\n",
    "for i in df_after_conv.tag.unique():\n",
    "    stat, p, dof, expected = chi2_contingency(pd.crosstab(df_after_conv.query(query_name.format(\"'\"+i+\"'\")).tag, \n",
    "                                                              df_after_conv.query(query_name.format(\"'\"+i+\"'\")).converted))\n",
    "    print(i, ':', 'statistic =', stat, 'p-value =', p)"
   ]
  },
  {
   "cell_type": "markdown",
   "id": "b41454d9",
   "metadata": {},
   "source": [
    "**В каждой группе конверсия выросла значимо.** В первой группе - на 3.5%, во второй группе - на 2.4%, в третьей группе - на 2.7%, в четвертой группе - на 2.7%"
   ]
  },
  {
   "cell_type": "markdown",
   "id": "40cdc6b2",
   "metadata": {},
   "source": [
    "Посмотрим на **конверсию в повторную покупку**"
   ]
  },
  {
   "cell_type": "code",
   "execution_count": 53,
   "id": "7bff3abe",
   "metadata": {},
   "outputs": [],
   "source": [
    "df_after_conv2 = df_after.query(\"time > 0\").groupby(\"user_uid\", as_index=False).agg({'tag': 'max', 'price': 'count'})"
   ]
  },
  {
   "cell_type": "code",
   "execution_count": 54,
   "id": "81fe688b",
   "metadata": {},
   "outputs": [],
   "source": [
    "df_after_conv2['converted'] = np.where(df_after_conv2['price'] > 1, 1, 0)"
   ]
  },
  {
   "cell_type": "code",
   "execution_count": 55,
   "id": "21df83f1",
   "metadata": {},
   "outputs": [
    {
     "data": {
      "text/html": [
       "<div>\n",
       "<style scoped>\n",
       "    .dataframe tbody tr th:only-of-type {\n",
       "        vertical-align: middle;\n",
       "    }\n",
       "\n",
       "    .dataframe tbody tr th {\n",
       "        vertical-align: top;\n",
       "    }\n",
       "\n",
       "    .dataframe thead th {\n",
       "        text-align: right;\n",
       "    }\n",
       "</style>\n",
       "<table border=\"1\" class=\"dataframe\">\n",
       "  <thead>\n",
       "    <tr style=\"text-align: right;\">\n",
       "      <th></th>\n",
       "      <th>conversion</th>\n",
       "    </tr>\n",
       "    <tr>\n",
       "      <th>tag</th>\n",
       "      <th></th>\n",
       "    </tr>\n",
       "  </thead>\n",
       "  <tbody>\n",
       "    <tr>\n",
       "      <th>control</th>\n",
       "      <td>0.369376</td>\n",
       "    </tr>\n",
       "    <tr>\n",
       "      <th>test1</th>\n",
       "      <td>0.383863</td>\n",
       "    </tr>\n",
       "    <tr>\n",
       "      <th>test2</th>\n",
       "      <td>0.385510</td>\n",
       "    </tr>\n",
       "    <tr>\n",
       "      <th>test3</th>\n",
       "      <td>0.384924</td>\n",
       "    </tr>\n",
       "    <tr>\n",
       "      <th>test4</th>\n",
       "      <td>0.389199</td>\n",
       "    </tr>\n",
       "  </tbody>\n",
       "</table>\n",
       "</div>"
      ],
      "text/plain": [
       "         conversion\n",
       "tag                \n",
       "control    0.369376\n",
       "test1      0.383863\n",
       "test2      0.385510\n",
       "test3      0.384924\n",
       "test4      0.389199"
      ]
     },
     "execution_count": 55,
     "metadata": {},
     "output_type": "execute_result"
    }
   ],
   "source": [
    "df_after_conv2.groupby('tag').agg({'converted': 'mean'}).rename(columns={'converted': 'conversion'})"
   ]
  },
  {
   "cell_type": "code",
   "execution_count": 57,
   "id": "1ee886e0",
   "metadata": {},
   "outputs": [
    {
     "data": {
      "image/png": "[encoded data removed]",
      "text/plain": [
       "<Figure size 864x432 with 1 Axes>"
      ]
     },
     "metadata": {
      "needs_background": "light"
     },
     "output_type": "display_data"
    }
   ],
   "source": [
    "plt.figure(figsize=(12,6))\n",
    "ax = sns.barplot(data=df_after_conv2.groupby('tag', as_index=False) \\\n",
    "            .agg({'converted': 'mean'}) \\\n",
    "            .rename(columns={'converted': 'conversion'}) \\\n",
    "            .round(2) \\\n",
    "            .sort_values('conversion', ascending=False),\n",
    "           y='tag',\n",
    "           x='conversion')\n",
    "ax.bar_label(ax.containers[0])\n",
    "ax.set(title='Конверсии в повторную транзакцию в группах во время теста')\n",
    "ax.set_xlabel('Конверсия')\n",
    "ax.set_ylabel('Экспериментальная группа');"
   ]
  },
  {
   "cell_type": "markdown",
   "id": "1ea261a2",
   "metadata": {},
   "source": [
    "Видим, что в контрольной группе метрика ниже. Проверим значимость"
   ]
  },
  {
   "cell_type": "code",
   "execution_count": 201,
   "id": "e6d89cb1",
   "metadata": {},
   "outputs": [
    {
     "data": {
      "text/plain": [
       "(29.845909907981287, 5.260980308667034e-06)"
      ]
     },
     "execution_count": 201,
     "metadata": {},
     "output_type": "execute_result"
    }
   ],
   "source": [
    "stat, p, dof, expected = chi2_contingency(pd.crosstab(df_after_conv2.tag, df_after_conv2.converted))\n",
    "stat, p"
   ]
  },
  {
   "cell_type": "markdown",
   "id": "3e8c4be2",
   "metadata": {},
   "source": [
    "**Отличия между группами по конверсии во повторную покупку значимы.** Так же, как и с конверсией в первую транзакцию, сделаем попарные сравнения, помня, что уровень значимости теперь 0.005"
   ]
  },
  {
   "cell_type": "code",
   "execution_count": 202,
   "id": "0f8643c3",
   "metadata": {},
   "outputs": [
    {
     "name": "stdout",
     "output_type": "stream",
     "text": [
      "test4 : statistic = 25.294573525867193 p-value = 4.920912141076293e-07\n",
      "test2 : statistic = 16.74520865132184 p-value = 4.275008380617694e-05\n",
      "test1 : statistic = 13.598667233785346 p-value = 0.0002263461635658186\n",
      "control : statistic = 0.0 p-value = 1.0\n",
      "test3 : statistic = 15.573397445611588 p-value = 7.936338405346471e-05\n"
     ]
    }
   ],
   "source": [
    "query_name = \"tag == 'control' or tag == {}\"\n",
    "for i in df_after_conv.tag.unique():\n",
    "    stat, p, dof, expected = chi2_contingency(pd.crosstab(df_after_conv2.query(query_name.format(\"'\"+i+\"'\")).tag, \n",
    "                                                          df_after_conv2.query(query_name.format(\"'\"+i+\"'\")).converted))\n",
    "    print(i, ':', 'statistic =', stat, 'p-value =', p)"
   ]
  },
  {
   "cell_type": "markdown",
   "id": "54a942fb",
   "metadata": {},
   "source": [
    "**В каждой группе конверсия в повторную транзакцию стат значимо выросла.** У первой группы - на 3.9%, у второй группы - на 4.4%, у третьей группы - на 4.3%, у четвертой - на 5.4%"
   ]
  },
  {
   "cell_type": "markdown",
   "id": "38dbbf65",
   "metadata": {},
   "source": [
    "Посмотрим на **конверсии в каждый тип транзакций. Начнем с покупки.**"
   ]
  },
  {
   "cell_type": "code",
   "execution_count": 62,
   "id": "c3a3117c",
   "metadata": {},
   "outputs": [],
   "source": [
    "df_after_dto = df_after\n",
    "df_after_dto['converted'] = np.where(df_after_dto['consumption_mode'] == 'dto', 1, 0)"
   ]
  },
  {
   "cell_type": "code",
   "execution_count": 65,
   "id": "0ddbeef8",
   "metadata": {},
   "outputs": [
    {
     "data": {
      "text/html": [
       "<div>\n",
       "<style scoped>\n",
       "    .dataframe tbody tr th:only-of-type {\n",
       "        vertical-align: middle;\n",
       "    }\n",
       "\n",
       "    .dataframe tbody tr th {\n",
       "        vertical-align: top;\n",
       "    }\n",
       "\n",
       "    .dataframe thead th {\n",
       "        text-align: right;\n",
       "    }\n",
       "</style>\n",
       "<table border=\"1\" class=\"dataframe\">\n",
       "  <thead>\n",
       "    <tr style=\"text-align: right;\">\n",
       "      <th></th>\n",
       "      <th>tag</th>\n",
       "      <th>conversion_dto</th>\n",
       "    </tr>\n",
       "  </thead>\n",
       "  <tbody>\n",
       "    <tr>\n",
       "      <th>0</th>\n",
       "      <td>control</td>\n",
       "      <td>0.105396</td>\n",
       "    </tr>\n",
       "    <tr>\n",
       "      <th>1</th>\n",
       "      <td>test1</td>\n",
       "      <td>0.116498</td>\n",
       "    </tr>\n",
       "    <tr>\n",
       "      <th>2</th>\n",
       "      <td>test2</td>\n",
       "      <td>0.114033</td>\n",
       "    </tr>\n",
       "    <tr>\n",
       "      <th>3</th>\n",
       "      <td>test3</td>\n",
       "      <td>0.115765</td>\n",
       "    </tr>\n",
       "    <tr>\n",
       "      <th>4</th>\n",
       "      <td>test4</td>\n",
       "      <td>0.118734</td>\n",
       "    </tr>\n",
       "  </tbody>\n",
       "</table>\n",
       "</div>"
      ],
      "text/plain": [
       "       tag  conversion_dto\n",
       "0  control        0.105396\n",
       "1    test1        0.116498\n",
       "2    test2        0.114033\n",
       "3    test3        0.115765\n",
       "4    test4        0.118734"
      ]
     },
     "execution_count": 65,
     "metadata": {},
     "output_type": "execute_result"
    }
   ],
   "source": [
    "df_after_dto_group = df_after_dto.groupby('user_uid', as_index=False) \\\n",
    "                                .agg({'tag': 'max', 'converted': 'max'}) \\\n",
    "                                .groupby('tag', as_index=False) \\\n",
    "                                .agg({'converted': 'mean'}) \\\n",
    "                                .rename(columns={'converted': 'conversion_dto'})\n",
    "df_after_dto_group"
   ]
  },
  {
   "cell_type": "code",
   "execution_count": 69,
   "id": "a7e36962",
   "metadata": {},
   "outputs": [
    {
     "data": {
      "image/png": "[encoded data removed]",
      "text/plain": [
       "<Figure size 864x432 with 1 Axes>"
      ]
     },
     "metadata": {
      "needs_background": "light"
     },
     "output_type": "display_data"
    }
   ],
   "source": [
    "plt.figure(figsize=(12,6))\n",
    "ax = sns.barplot(data=df_after_dto_group \\\n",
    "            .round(3) \\\n",
    "            .sort_values('conversion_dto', ascending=False),\n",
    "            y='tag',\n",
    "            x='conversion_dto')\n",
    "ax.bar_label(ax.containers[0])\n",
    "ax.set(title='Конверсии в покупку контента в группах во время теста')\n",
    "ax.set_xlabel('Конверсия')\n",
    "ax.set_ylabel('Экспериментальная группа');"
   ]
  },
  {
   "cell_type": "markdown",
   "id": "06d4d3ef",
   "metadata": {},
   "source": [
    "Визуально конверсия в покупку в контрольной группе существенно ниже, чем во всех тестовых. Проверим формальным тестом"
   ]
  },
  {
   "cell_type": "code",
   "execution_count": 453,
   "id": "cc39fc7d",
   "metadata": {},
   "outputs": [
    {
     "data": {
      "text/plain": [
       "(178.22384138762862, 1.7945965042914303e-37)"
      ]
     },
     "execution_count": 453,
     "metadata": {},
     "output_type": "execute_result"
    }
   ],
   "source": [
    "stat, p, dof, expected = chi2_contingency(pd.crosstab(df_after_dto.converted, df_after_dto.tag))\n",
    "stat, p"
   ]
  },
  {
   "cell_type": "markdown",
   "id": "73a0589b",
   "metadata": {},
   "source": [
    "**Различия между группами по конверсии в покупку есть**"
   ]
  },
  {
   "cell_type": "markdown",
   "id": "ff41d65e",
   "metadata": {},
   "source": [
    "Посмотрим на отличие каждой группы от контроля, помня, что уровень значимости теперь 0.005"
   ]
  },
  {
   "cell_type": "code",
   "execution_count": 204,
   "id": "5a417cb6",
   "metadata": {},
   "outputs": [
    {
     "name": "stdout",
     "output_type": "stream",
     "text": [
      "test4 : statistic = 158.21283603429816 p-value = 2.7805803839837253e-36\n",
      "test2 : statistic = 80.21871976552029 p-value = 3.351767047303828e-19\n",
      "test1 : statistic = 89.51064755598779 p-value = 3.049925766087823e-21\n",
      "control : statistic = 0.0 p-value = 1.0\n",
      "test3 : statistic = 96.29386087626415 p-value = 9.903665349987945e-23\n"
     ]
    }
   ],
   "source": [
    "query_name = \"tag == 'control' or tag == {}\"\n",
    "for i in df_after_conv.tag.unique():\n",
    "    stat, p, dof, expected = chi2_contingency(pd.crosstab(df_after_dto.query(query_name.format(\"'\"+i+\"'\")).tag, \n",
    "                                                          df_after_dto.query(query_name.format(\"'\"+i+\"'\")).converted))\n",
    "    print(i, ':', 'statistic =', stat, 'p-value =', p)"
   ]
  },
  {
   "cell_type": "markdown",
   "id": "c57ad957",
   "metadata": {},
   "source": [
    "**Конверсия в покупку стат значимо увеличилось в каждой группе.** У первой группы - на 10.5%, у второй группы - на 8.2%, у третьей группы - на 9.8%, у четвертой группы - на 12.6%"
   ]
  },
  {
   "cell_type": "markdown",
   "id": "a0f9ef7e",
   "metadata": {},
   "source": [
    "Посмотрим на **конверсию в аренду**"
   ]
  },
  {
   "cell_type": "code",
   "execution_count": 70,
   "id": "d4864904",
   "metadata": {},
   "outputs": [],
   "source": [
    "df_after_rent = df_after\n",
    "df_after_rent['converted'] = np.where(df_after_dto['consumption_mode'] == 'rent', 1, 0)"
   ]
  },
  {
   "cell_type": "code",
   "execution_count": 71,
   "id": "e6e1a827",
   "metadata": {},
   "outputs": [
    {
     "data": {
      "text/html": [
       "<div>\n",
       "<style scoped>\n",
       "    .dataframe tbody tr th:only-of-type {\n",
       "        vertical-align: middle;\n",
       "    }\n",
       "\n",
       "    .dataframe tbody tr th {\n",
       "        vertical-align: top;\n",
       "    }\n",
       "\n",
       "    .dataframe thead th {\n",
       "        text-align: right;\n",
       "    }\n",
       "</style>\n",
       "<table border=\"1\" class=\"dataframe\">\n",
       "  <thead>\n",
       "    <tr style=\"text-align: right;\">\n",
       "      <th></th>\n",
       "      <th>tag</th>\n",
       "      <th>conversion_rent</th>\n",
       "    </tr>\n",
       "  </thead>\n",
       "  <tbody>\n",
       "    <tr>\n",
       "      <th>0</th>\n",
       "      <td>control</td>\n",
       "      <td>0.104146</td>\n",
       "    </tr>\n",
       "    <tr>\n",
       "      <th>1</th>\n",
       "      <td>test1</td>\n",
       "      <td>0.106275</td>\n",
       "    </tr>\n",
       "    <tr>\n",
       "      <th>2</th>\n",
       "      <td>test2</td>\n",
       "      <td>0.107267</td>\n",
       "    </tr>\n",
       "    <tr>\n",
       "      <th>3</th>\n",
       "      <td>test3</td>\n",
       "      <td>0.105956</td>\n",
       "    </tr>\n",
       "    <tr>\n",
       "      <th>4</th>\n",
       "      <td>test4</td>\n",
       "      <td>0.104993</td>\n",
       "    </tr>\n",
       "  </tbody>\n",
       "</table>\n",
       "</div>"
      ],
      "text/plain": [
       "       tag  conversion_rent\n",
       "0  control         0.104146\n",
       "1    test1         0.106275\n",
       "2    test2         0.107267\n",
       "3    test3         0.105956\n",
       "4    test4         0.104993"
      ]
     },
     "execution_count": 71,
     "metadata": {},
     "output_type": "execute_result"
    }
   ],
   "source": [
    "df_after_rent_group = df_after_rent.groupby('user_uid', as_index=False) \\\n",
    "                                    .agg({'tag': 'max', 'converted': 'max'}) \\\n",
    "                                    .groupby('tag', as_index=False) \\\n",
    "                                    .agg({'converted': 'mean'}) \\\n",
    "                                    .rename(columns={'converted': 'conversion_rent'})\n",
    "df_after_rent_group"
   ]
  },
  {
   "cell_type": "code",
   "execution_count": 72,
   "id": "4ec1e56a",
   "metadata": {},
   "outputs": [
    {
     "data": {
      "image/png": "[encoded data removed]",
      "text/plain": [
       "<Figure size 864x432 with 1 Axes>"
      ]
     },
     "metadata": {
      "needs_background": "light"
     },
     "output_type": "display_data"
    }
   ],
   "source": [
    "plt.figure(figsize=(12,6))\n",
    "ax = sns.barplot(data=df_after_rent_group \\\n",
    "            .round(3) \\\n",
    "            .sort_values('conversion_rent', ascending=False),\n",
    "            y='tag',\n",
    "            x='conversion_rent')\n",
    "ax.bar_label(ax.containers[0])\n",
    "ax.set(title='Конверсии в аренду контента в группах во время теста')\n",
    "ax.set_xlabel('Конверсия')\n",
    "ax.set_ylabel('Экспериментальная группа');"
   ]
  },
  {
   "cell_type": "markdown",
   "id": "8d227fb3",
   "metadata": {},
   "source": [
    "Заметно увеличение конверсии во всех тестовых группах, однако не такое явное, как в случае покупки контента. Проверим статистическую значимость"
   ]
  },
  {
   "cell_type": "code",
   "execution_count": 460,
   "id": "ac02cb78",
   "metadata": {},
   "outputs": [
    {
     "data": {
      "text/plain": [
       "(9.272181138493414, 0.054644871818728374)"
      ]
     },
     "execution_count": 460,
     "metadata": {},
     "output_type": "execute_result"
    }
   ],
   "source": [
    "stat, p, dof, expected = chi2_contingency(pd.crosstab(df_after_rent.converted, df_after_rent.tag))\n",
    "stat, p"
   ]
  },
  {
   "cell_type": "markdown",
   "id": "4b9fbdc3",
   "metadata": {},
   "source": [
    "Пи-велью выше уровня значимости. **Не можем утверждать, что есть различия между конверсиями в аренду хотя бы в одной группе**"
   ]
  },
  {
   "cell_type": "markdown",
   "id": "cd4d52c7",
   "metadata": {},
   "source": [
    "Посмотрим на **конверсию в приобретение подписки**"
   ]
  },
  {
   "cell_type": "code",
   "execution_count": 74,
   "id": "70260e30",
   "metadata": {},
   "outputs": [],
   "source": [
    "df_after_sub = df_after\n",
    "df_after_sub['converted'] = np.where(df_after_sub['consumption_mode'] == 'subscription', 1, 0)"
   ]
  },
  {
   "cell_type": "code",
   "execution_count": 75,
   "id": "532eee85",
   "metadata": {},
   "outputs": [
    {
     "data": {
      "text/html": [
       "<div>\n",
       "<style scoped>\n",
       "    .dataframe tbody tr th:only-of-type {\n",
       "        vertical-align: middle;\n",
       "    }\n",
       "\n",
       "    .dataframe tbody tr th {\n",
       "        vertical-align: top;\n",
       "    }\n",
       "\n",
       "    .dataframe thead th {\n",
       "        text-align: right;\n",
       "    }\n",
       "</style>\n",
       "<table border=\"1\" class=\"dataframe\">\n",
       "  <thead>\n",
       "    <tr style=\"text-align: right;\">\n",
       "      <th></th>\n",
       "      <th>tag</th>\n",
       "      <th>conversion_sub</th>\n",
       "    </tr>\n",
       "  </thead>\n",
       "  <tbody>\n",
       "    <tr>\n",
       "      <th>0</th>\n",
       "      <td>control</td>\n",
       "      <td>0.133072</td>\n",
       "    </tr>\n",
       "    <tr>\n",
       "      <th>1</th>\n",
       "      <td>test1</td>\n",
       "      <td>0.135357</td>\n",
       "    </tr>\n",
       "    <tr>\n",
       "      <th>2</th>\n",
       "      <td>test2</td>\n",
       "      <td>0.133516</td>\n",
       "    </tr>\n",
       "    <tr>\n",
       "      <th>3</th>\n",
       "      <td>test3</td>\n",
       "      <td>0.135412</td>\n",
       "    </tr>\n",
       "    <tr>\n",
       "      <th>4</th>\n",
       "      <td>test4</td>\n",
       "      <td>0.132765</td>\n",
       "    </tr>\n",
       "  </tbody>\n",
       "</table>\n",
       "</div>"
      ],
      "text/plain": [
       "       tag  conversion_sub\n",
       "0  control        0.133072\n",
       "1    test1        0.135357\n",
       "2    test2        0.133516\n",
       "3    test3        0.135412\n",
       "4    test4        0.132765"
      ]
     },
     "execution_count": 75,
     "metadata": {},
     "output_type": "execute_result"
    }
   ],
   "source": [
    "df_after_sub_group = df_after_sub.groupby('user_uid', as_index=False) \\\n",
    "                                .agg({'tag': 'max', 'converted': 'max'}) \\\n",
    "                                .groupby('tag', as_index=False) \\\n",
    "                                .agg({'converted': 'mean'}) \\\n",
    "                                .rename(columns={'converted': 'conversion_sub'})\n",
    "df_after_sub_group"
   ]
  },
  {
   "cell_type": "code",
   "execution_count": 76,
   "id": "69a2a046",
   "metadata": {},
   "outputs": [
    {
     "data": {
      "image/png": "[encoded data removed]",
      "text/plain": [
       "<Figure size 864x432 with 1 Axes>"
      ]
     },
     "metadata": {
      "needs_background": "light"
     },
     "output_type": "display_data"
    }
   ],
   "source": [
    "plt.figure(figsize=(12,6))\n",
    "ax = sns.barplot(data=df_after_sub_group \\\n",
    "            .round(3) \\\n",
    "            .sort_values('conversion_sub', ascending=False),\n",
    "            y='tag',\n",
    "            x='conversion_sub')\n",
    "ax.bar_label(ax.containers[0])\n",
    "ax.set(title='Конверсии в подписку в группах во время теста')\n",
    "ax.set_xlabel('Конверсия')\n",
    "ax.set_ylabel('Экспериментальная группа');"
   ]
  },
  {
   "cell_type": "markdown",
   "id": "a5c1886c",
   "metadata": {},
   "source": [
    "Визуально конверсия в подписку практически не изменилась, а для четвертой группы даже немного упала. Проведем формальный тест"
   ]
  },
  {
   "cell_type": "code",
   "execution_count": 463,
   "id": "eb6a8352",
   "metadata": {},
   "outputs": [
    {
     "data": {
      "text/plain": [
       "(4.9566318656252, 0.29177635330640694)"
      ]
     },
     "execution_count": 463,
     "metadata": {},
     "output_type": "execute_result"
    }
   ],
   "source": [
    "stat, p, dof, expected = chi2_contingency(pd.crosstab(df_after_sub.converted, df_after_sub.tag))\n",
    "stat, p"
   ]
  },
  {
   "cell_type": "markdown",
   "id": "0359d866",
   "metadata": {},
   "source": [
    "Конверсия в подписку значимо не изменилась"
   ]
  },
  {
   "cell_type": "markdown",
   "id": "c21af7a7",
   "metadata": {},
   "source": [
    "**Наибольший прирост конверсии (повторной, в покупку) наблюдается у 4 тестовой группы. Наибольший прирост первой конверсии в транзакцию - у 1 тестовой группы**"
   ]
  },
  {
   "cell_type": "markdown",
   "id": "4b270c87",
   "metadata": {},
   "source": [
    "Посмотрим на **средний чек**"
   ]
  },
  {
   "cell_type": "code",
   "execution_count": 464,
   "id": "8c4ca3d6",
   "metadata": {},
   "outputs": [
    {
     "data": {
      "text/html": [
       "<div>\n",
       "<style scoped>\n",
       "    .dataframe tbody tr th:only-of-type {\n",
       "        vertical-align: middle;\n",
       "    }\n",
       "\n",
       "    .dataframe tbody tr th {\n",
       "        vertical-align: top;\n",
       "    }\n",
       "\n",
       "    .dataframe thead th {\n",
       "        text-align: right;\n",
       "    }\n",
       "</style>\n",
       "<table border=\"1\" class=\"dataframe\">\n",
       "  <thead>\n",
       "    <tr style=\"text-align: right;\">\n",
       "      <th></th>\n",
       "      <th>tag</th>\n",
       "      <th>avg_check</th>\n",
       "    </tr>\n",
       "  </thead>\n",
       "  <tbody>\n",
       "    <tr>\n",
       "      <th>0</th>\n",
       "      <td>control</td>\n",
       "      <td>38.618944</td>\n",
       "    </tr>\n",
       "    <tr>\n",
       "      <th>1</th>\n",
       "      <td>test1</td>\n",
       "      <td>38.280936</td>\n",
       "    </tr>\n",
       "    <tr>\n",
       "      <th>2</th>\n",
       "      <td>test2</td>\n",
       "      <td>38.399636</td>\n",
       "    </tr>\n",
       "    <tr>\n",
       "      <th>3</th>\n",
       "      <td>test3</td>\n",
       "      <td>38.322629</td>\n",
       "    </tr>\n",
       "    <tr>\n",
       "      <th>4</th>\n",
       "      <td>test4</td>\n",
       "      <td>38.174531</td>\n",
       "    </tr>\n",
       "  </tbody>\n",
       "</table>\n",
       "</div>"
      ],
      "text/plain": [
       "       tag  avg_check\n",
       "0  control  38.618944\n",
       "1    test1  38.280936\n",
       "2    test2  38.399636\n",
       "3    test3  38.322629\n",
       "4    test4  38.174531"
      ]
     },
     "execution_count": 464,
     "metadata": {},
     "output_type": "execute_result"
    }
   ],
   "source": [
    "df_after.groupby('tag', as_index=False).agg({'price': 'mean'}).rename(columns={'price': 'avg_check'})"
   ]
  },
  {
   "cell_type": "code",
   "execution_count": 78,
   "id": "5e872898",
   "metadata": {},
   "outputs": [
    {
     "data": {
      "image/png": "[encoded data removed]",
      "text/plain": [
       "<Figure size 864x432 with 1 Axes>"
      ]
     },
     "metadata": {
      "needs_background": "light"
     },
     "output_type": "display_data"
    }
   ],
   "source": [
    "plt.figure(figsize=(12,6))\n",
    "ax = sns.barplot(data=df_after.groupby('tag', as_index=False) \\\n",
    "                 .agg({'price': 'mean'}) \\\n",
    "                 .rename(columns={'price': 'avg_check'}) \\\n",
    "                 .round(2) \\\n",
    "                 .sort_values('avg_check', ascending=False),\n",
    "                 y='tag',\n",
    "                 x='avg_check')\n",
    "ax.bar_label(ax.containers[0])\n",
    "ax.set(title='Средний чек в группах во время теста')\n",
    "ax.set_xlabel('Средний чек')\n",
    "ax.set_ylabel('Экспериментальная группа');"
   ]
  },
  {
   "cell_type": "markdown",
   "id": "61afec50",
   "metadata": {},
   "source": [
    "Можно увидеть, что средний чек упал во всех группах по сравнению с контролем, но не значительно"
   ]
  },
  {
   "cell_type": "markdown",
   "id": "7dbd28d7",
   "metadata": {},
   "source": [
    "Посмотрим на распределение чеков в ходе эксперимента. Отбросим верхний перцентиль с экстремально высокими значениями"
   ]
  },
  {
   "cell_type": "code",
   "execution_count": 225,
   "id": "eb4ce5fc",
   "metadata": {},
   "outputs": [
    {
     "data": {
      "image/png": "[encoded data removed]",
      "text/plain": [
       "<Figure size 864x576 with 1 Axes>"
      ]
     },
     "metadata": {
      "needs_background": "light"
     },
     "output_type": "display_data"
    }
   ],
   "source": [
    "plt.figure(figsize=(12,8))\n",
    "ax = sns.boxplot(data=df_after[df_after['price'] < df_after['price'].quantile(0.99)], x='tag', y='price')\n",
    "ax.set(title='Распределение чеков во время тестирования')\n",
    "ax.set(xlabel='Экспериментальная группа', ylabel='Сумма')\n",
    "var = ax.set_xticklabels(ax.get_xticklabels(), rotation=0)"
   ]
  },
  {
   "cell_type": "markdown",
   "id": "668c32f3",
   "metadata": {},
   "source": [
    "По графику видно, что средний чек в контрольной группе выше, чем во всех тестовых"
   ]
  },
  {
   "cell_type": "markdown",
   "id": "356dca7d",
   "metadata": {},
   "source": [
    "Нарисуем гистограмму распределения без выбросов (отбросим последний перцентиль)"
   ]
  },
  {
   "cell_type": "code",
   "execution_count": 144,
   "id": "ac0ca1ec",
   "metadata": {},
   "outputs": [
    {
     "data": {
      "image/png": "[encoded data removed]",
      "text/plain": [
       "<Figure size 432x288 with 1 Axes>"
      ]
     },
     "metadata": {
      "needs_background": "light"
     },
     "output_type": "display_data"
    }
   ],
   "source": [
    "ax = sns.distplot(df_after[df_after['price'] < df_after['price'].quantile(0.99)].price)\n",
    "ax.set(title='Распределение чеков после начала эксперимента')\n",
    "ax.set_xlabel('Сумма чека')\n",
    "ax.set_ylabel('Частота')\n",
    "plt.show();"
   ]
  },
  {
   "cell_type": "code",
   "execution_count": 146,
   "id": "c03f1f6c",
   "metadata": {},
   "outputs": [
    {
     "data": {
      "image/png": "[encoded data removed]",
      "text/plain": [
       "<Figure size 1080x360 with 5 Axes>"
      ]
     },
     "metadata": {
      "needs_background": "light"
     },
     "output_type": "display_data"
    }
   ],
   "source": [
    "fig, axs = plt.subplots(1,5, figsize=(15,5))\n",
    "fig.tight_layout()\n",
    "\n",
    "g1 = axs[0]\n",
    "g1.hist(df_after.query(\"tag == 'control'\")[df_after['price'] < df_after['price'].quantile(0.99)]['price'], bins=30)\n",
    "g1.set_title('group - control')\n",
    "g1.set_xlabel('Сумма чека')\n",
    "g1.set_ylabel('Частота')\n",
    "\n",
    "g2 = axs[1]\n",
    "g2.hist(df_after.query(\"tag == 'test1'\")[df_after['price'] < df_after['price'].quantile(0.99)]['price'], bins=30)\n",
    "g2.set_title('group - test1')\n",
    "g2.set_xlabel('Сумма чека')\n",
    "\n",
    "g3 = axs[2]\n",
    "g3.hist(df_after.query(\"tag == 'test2'\")[df_after['price'] < df_after['price'].quantile(0.99)]['price'], bins=30)\n",
    "g3.set_title('group - test2')\n",
    "g3.set_xlabel('Сумма чека')\n",
    "\n",
    "g4 = axs[3]\n",
    "g4.hist(df_after.query(\"tag == 'test3'\")[df_after['price'] < df_after['price'].quantile(0.99)]['price'], bins=30)\n",
    "g4.set_title('group - test3')\n",
    "g4.set_xlabel('Сумма чека')\n",
    "\n",
    "g5 = axs[4]\n",
    "g5.hist(df_after.query(\"tag == 'test4'\")[df_after['price'] < df_after['price'].quantile(0.99)]['price'], bins=30)\n",
    "g5.set_title('group - test4')\n",
    "g5.set_xlabel('Сумма чека')\n",
    "\n",
    "plt.show();"
   ]
  },
  {
   "cell_type": "markdown",
   "id": "7a19e43c",
   "metadata": {},
   "source": [
    "Распределение визуально отличается от нормального, попробуем логарифмировать"
   ]
  },
  {
   "cell_type": "code",
   "execution_count": 93,
   "id": "3d5e1dc9",
   "metadata": {},
   "outputs": [],
   "source": [
    "df_after['log_price'] = np.log(df_after['price'])"
   ]
  },
  {
   "cell_type": "code",
   "execution_count": 150,
   "id": "0a30adab",
   "metadata": {},
   "outputs": [
    {
     "data": {
      "image/png": "[encoded data removed]",
      "text/plain": [
       "<Figure size 432x288 with 1 Axes>"
      ]
     },
     "metadata": {
      "needs_background": "light"
     },
     "output_type": "display_data"
    }
   ],
   "source": [
    "ax = sns.distplot(df_after.log_price)\n",
    "ax.set(title='Распределение логарифмов чеков после начала эксперимента')\n",
    "ax.set_xlabel('Логарифм чека')\n",
    "ax.set_ylabel('Частота')\n",
    "plt.show();"
   ]
  },
  {
   "cell_type": "code",
   "execution_count": 151,
   "id": "eedfaff0",
   "metadata": {},
   "outputs": [
    {
     "data": {
      "image/png": "[encoded data removed]",
      "text/plain": [
       "<Figure size 1080x360 with 5 Axes>"
      ]
     },
     "metadata": {
      "needs_background": "light"
     },
     "output_type": "display_data"
    }
   ],
   "source": [
    "fig, axs = plt.subplots(1,5, figsize=(15,5))\n",
    "fig.tight_layout()\n",
    "\n",
    "g1 = axs[0]\n",
    "g1.hist(df_after.query(\"tag == 'control'\")['log_price'], bins=30)\n",
    "g1.set_title('group - control')\n",
    "g1.set_xlabel('Логарифм чека')\n",
    "g1.set_ylabel('Частота')\n",
    "\n",
    "g2 = axs[1]\n",
    "g2.hist(df_after.query(\"tag == 'test1'\")['log_price'], bins=30)\n",
    "g2.set_title('group - test1')\n",
    "g2.set_xlabel('Логарифм чека')\n",
    "\n",
    "g3 = axs[2]\n",
    "g3.hist(df_after.query(\"tag == 'test2'\")['log_price'], bins=30)\n",
    "g3.set_title('group - test2')\n",
    "g3.set_xlabel('Логарифм чека')\n",
    "\n",
    "g4 = axs[3]\n",
    "g4.hist(df_after.query(\"tag == 'test3'\")['log_price'], bins=30)\n",
    "g4.set_title('group - test3')\n",
    "g4.set_xlabel('Логарифм чека')\n",
    "\n",
    "g5 = axs[4]\n",
    "g5.hist(df_after.query(\"tag == 'test4'\")['log_price'], bins=30)\n",
    "g5.set_title('group - test4')\n",
    "g5.set_xlabel('Логарифм чека')\n",
    "\n",
    "plt.show();"
   ]
  },
  {
   "cell_type": "markdown",
   "id": "6c7c5024",
   "metadata": {},
   "source": [
    "Визуально даже логарифмирование не помогает. Проведем статистический тест Шапиро-Уилка для того, чтобы убедиться, что распределение отличается от нормального"
   ]
  },
  {
   "cell_type": "code",
   "execution_count": 208,
   "id": "eaf3fd03",
   "metadata": {},
   "outputs": [
    {
     "name": "stdout",
     "output_type": "stream",
     "text": [
      "test4 : ShapiroResult(statistic=0.9445818662643433, pvalue=6.773861135342819e-19)\n",
      "control : ShapiroResult(statistic=0.9452977180480957, pvalue=9.020404579890767e-19)\n",
      "test1 : ShapiroResult(statistic=0.9449132084846497, pvalue=7.731624098308648e-19)\n",
      "test3 : ShapiroResult(statistic=0.9461568593978882, pvalue=1.2767010596994308e-18)\n",
      "test2 : ShapiroResult(statistic=0.941478431224823, pvalue=2.0168315110328507e-19)\n"
     ]
    }
   ],
   "source": [
    "query_name = \"tag == {} and time > 0\"\n",
    "for i in df_after.tag.unique():\n",
    "    print(i, ':', stats.shapiro(df_after.query(query_name.format(\"'\"+i+\"'\")).log_price.sample(1000, random_state=17)))"
   ]
  },
  {
   "cell_type": "markdown",
   "id": "5ec0e9f7",
   "metadata": {},
   "source": [
    "Данные не распределены нормально"
   ]
  },
  {
   "cell_type": "markdown",
   "id": "f2ac9aec",
   "metadata": {},
   "source": [
    "Проведем тест Левена, чтобы проверить гомогенность дисперсий в группах"
   ]
  },
  {
   "cell_type": "code",
   "execution_count": 475,
   "id": "55ed09e9",
   "metadata": {},
   "outputs": [
    {
     "data": {
      "text/plain": [
       "LeveneResult(statistic=22.1314235135009, pvalue=2.7262735367326688e-18)"
      ]
     },
     "execution_count": 475,
     "metadata": {},
     "output_type": "execute_result"
    }
   ],
   "source": [
    "stats.levene(df_after.query(\"time > 0 and tag == 'control'\").log_price,\n",
    "            df_after.query(\"time > 0 and tag == 'test1'\").log_price,\n",
    "            df_after.query(\"time > 0 and tag == 'test2'\").log_price,\n",
    "            df_after.query(\"time > 0 and tag == 'test3'\").log_price,\n",
    "            df_after.query(\"time > 0 and tag == 'test4'\").log_price)"
   ]
  },
  {
   "cell_type": "markdown",
   "id": "0868a265",
   "metadata": {},
   "source": [
    "Не соблюдаются требования ни гомогенности дисперсий, ни нормальности распределения. Используем непараметрический критерий Краскела-Уоллиса. Именно он позволяет выявить, есть ли хоть в одной группе статистически значимые отличия в среднем чеке от остальных, учитывая, что условия для параметрического теста (нормальность распределения и гомогенность дисперсий) не соблюдаются"
   ]
  },
  {
   "cell_type": "code",
   "execution_count": 476,
   "id": "495ad8ca",
   "metadata": {},
   "outputs": [
    {
     "data": {
      "text/plain": [
       "KruskalResult(statistic=56.504587927678244, pvalue=1.5716091893450485e-11)"
      ]
     },
     "execution_count": 476,
     "metadata": {},
     "output_type": "execute_result"
    }
   ],
   "source": [
    "stats.kruskal(df_after.query(\"time > 0 and tag == 'control'\").price,\n",
    "            df_after.query(\"time > 0 and tag == 'test1'\").price,\n",
    "            df_after.query(\"time > 0 and tag == 'test2'\").price,\n",
    "            df_after.query(\"time > 0 and tag == 'test3'\").price,\n",
    "            df_after.query(\"time > 0 and tag == 'test4'\").price)"
   ]
  },
  {
   "cell_type": "markdown",
   "id": "5f97874f",
   "metadata": {},
   "source": [
    "Различия между группами есть. Однако сейчас все, что мы знаем - как минимум одна группа отличается от остальных. Чтобы отследить, какие именно группы отличаются значимо от контроля, необходимо провести пост-хок анализ, в ходе которого будут попарно сравниваться группы, при этом пи-велью скорректирован на множественные сравнения, чтобы не допустить ошибку первого рода. Проведем пост-хок тест Данна, потому что именно его обычно используют для попарного сравнения групп после непараметрического теста"
   ]
  },
  {
   "cell_type": "code",
   "execution_count": 249,
   "id": "58db0290",
   "metadata": {},
   "outputs": [],
   "source": [
    "import scikit_posthocs as sp "
   ]
  },
  {
   "cell_type": "code",
   "execution_count": 477,
   "id": "0dbe38ba",
   "metadata": {},
   "outputs": [
    {
     "data": {
      "text/html": [
       "<div>\n",
       "<style scoped>\n",
       "    .dataframe tbody tr th:only-of-type {\n",
       "        vertical-align: middle;\n",
       "    }\n",
       "\n",
       "    .dataframe tbody tr th {\n",
       "        vertical-align: top;\n",
       "    }\n",
       "\n",
       "    .dataframe thead th {\n",
       "        text-align: right;\n",
       "    }\n",
       "</style>\n",
       "<table border=\"1\" class=\"dataframe\">\n",
       "  <thead>\n",
       "    <tr style=\"text-align: right;\">\n",
       "      <th></th>\n",
       "      <th>control</th>\n",
       "      <th>test1</th>\n",
       "      <th>test2</th>\n",
       "      <th>test3</th>\n",
       "      <th>test4</th>\n",
       "    </tr>\n",
       "  </thead>\n",
       "  <tbody>\n",
       "    <tr>\n",
       "      <th>control</th>\n",
       "      <td>1.000000e+00</td>\n",
       "      <td>7.663195e-08</td>\n",
       "      <td>0.019353</td>\n",
       "      <td>0.001303</td>\n",
       "      <td>9.862214e-11</td>\n",
       "    </tr>\n",
       "    <tr>\n",
       "      <th>test1</th>\n",
       "      <td>7.663195e-08</td>\n",
       "      <td>1.000000e+00</td>\n",
       "      <td>0.014681</td>\n",
       "      <td>0.121904</td>\n",
       "      <td>5.623712e-01</td>\n",
       "    </tr>\n",
       "    <tr>\n",
       "      <th>test2</th>\n",
       "      <td>1.935265e-02</td>\n",
       "      <td>1.468087e-02</td>\n",
       "      <td>1.000000</td>\n",
       "      <td>0.562371</td>\n",
       "      <td>4.200755e-04</td>\n",
       "    </tr>\n",
       "    <tr>\n",
       "      <th>test3</th>\n",
       "      <td>1.302757e-03</td>\n",
       "      <td>1.219043e-01</td>\n",
       "      <td>0.562371</td>\n",
       "      <td>1.000000</td>\n",
       "      <td>1.084869e-02</td>\n",
       "    </tr>\n",
       "    <tr>\n",
       "      <th>test4</th>\n",
       "      <td>9.862214e-11</td>\n",
       "      <td>5.623712e-01</td>\n",
       "      <td>0.000420</td>\n",
       "      <td>0.010849</td>\n",
       "      <td>1.000000e+00</td>\n",
       "    </tr>\n",
       "  </tbody>\n",
       "</table>\n",
       "</div>"
      ],
      "text/plain": [
       "              control         test1     test2     test3         test4\n",
       "control  1.000000e+00  7.663195e-08  0.019353  0.001303  9.862214e-11\n",
       "test1    7.663195e-08  1.000000e+00  0.014681  0.121904  5.623712e-01\n",
       "test2    1.935265e-02  1.468087e-02  1.000000  0.562371  4.200755e-04\n",
       "test3    1.302757e-03  1.219043e-01  0.562371  1.000000  1.084869e-02\n",
       "test4    9.862214e-11  5.623712e-01  0.000420  0.010849  1.000000e+00"
      ]
     },
     "execution_count": 477,
     "metadata": {},
     "output_type": "execute_result"
    }
   ],
   "source": [
    "sp.posthoc_dunn(df_after.query(\"time > 0\"), 'price', 'tag', p_adjust='holm')"
   ]
  },
  {
   "cell_type": "markdown",
   "id": "6b723ffa",
   "metadata": {},
   "source": [
    "**Средний чек в каждой группе статистически значимо снизился.** У первой группы - на 0.9%, у второй группы - на 0.6%, у третьей группы - на 0.8%, у четвертой группы - на 1.1%"
   ]
  },
  {
   "cell_type": "markdown",
   "id": "4fb4a01f",
   "metadata": {},
   "source": [
    "Посчитаем **ARPU** и посмотрим, отличаются ли значения статистически значимо"
   ]
  },
  {
   "cell_type": "code",
   "execution_count": 80,
   "id": "29173b50",
   "metadata": {},
   "outputs": [],
   "source": [
    "df_arpu = df_after\n",
    "df_arpu['price'] = df_arpu['price'].fillna(0)"
   ]
  },
  {
   "cell_type": "code",
   "execution_count": 81,
   "id": "6834def4",
   "metadata": {},
   "outputs": [],
   "source": [
    "df_arpu = df_arpu.groupby('user_uid', as_index=False).agg({'tag': 'max', 'price': 'sum'})"
   ]
  },
  {
   "cell_type": "code",
   "execution_count": 481,
   "id": "efae403f",
   "metadata": {},
   "outputs": [
    {
     "data": {
      "text/html": [
       "<div>\n",
       "<style scoped>\n",
       "    .dataframe tbody tr th:only-of-type {\n",
       "        vertical-align: middle;\n",
       "    }\n",
       "\n",
       "    .dataframe tbody tr th {\n",
       "        vertical-align: top;\n",
       "    }\n",
       "\n",
       "    .dataframe thead th {\n",
       "        text-align: right;\n",
       "    }\n",
       "</style>\n",
       "<table border=\"1\" class=\"dataframe\">\n",
       "  <thead>\n",
       "    <tr style=\"text-align: right;\">\n",
       "      <th></th>\n",
       "      <th>tag</th>\n",
       "      <th>ARPU</th>\n",
       "    </tr>\n",
       "  </thead>\n",
       "  <tbody>\n",
       "    <tr>\n",
       "      <th>0</th>\n",
       "      <td>control</td>\n",
       "      <td>18.561048</td>\n",
       "    </tr>\n",
       "    <tr>\n",
       "      <th>1</th>\n",
       "      <td>test1</td>\n",
       "      <td>19.448464</td>\n",
       "    </tr>\n",
       "    <tr>\n",
       "      <th>2</th>\n",
       "      <td>test2</td>\n",
       "      <td>19.348823</td>\n",
       "    </tr>\n",
       "    <tr>\n",
       "      <th>3</th>\n",
       "      <td>test3</td>\n",
       "      <td>19.412692</td>\n",
       "    </tr>\n",
       "    <tr>\n",
       "      <th>4</th>\n",
       "      <td>test4</td>\n",
       "      <td>19.313863</td>\n",
       "    </tr>\n",
       "  </tbody>\n",
       "</table>\n",
       "</div>"
      ],
      "text/plain": [
       "       tag       ARPU\n",
       "0  control  18.561048\n",
       "1    test1  19.448464\n",
       "2    test2  19.348823\n",
       "3    test3  19.412692\n",
       "4    test4  19.313863"
      ]
     },
     "execution_count": 481,
     "metadata": {},
     "output_type": "execute_result"
    }
   ],
   "source": [
    "df_arpu.groupby('tag', as_index=False).agg({'price': 'mean'}).rename(columns={'price': 'ARPU'})"
   ]
  },
  {
   "cell_type": "code",
   "execution_count": 82,
   "id": "bbfdd437",
   "metadata": {},
   "outputs": [
    {
     "data": {
      "image/png": "[encoded data removed]",
      "text/plain": [
       "<Figure size 864x432 with 1 Axes>"
      ]
     },
     "metadata": {
      "needs_background": "light"
     },
     "output_type": "display_data"
    }
   ],
   "source": [
    "plt.figure(figsize=(12,6))\n",
    "ax = sns.barplot(data=df_arpu.groupby('tag', as_index=False) \\\n",
    "                 .agg({'price': 'mean'}) \\\n",
    "                 .rename(columns={'price': 'ARPU'}) \\\n",
    "                 .round(2) \\\n",
    "                 .sort_values('ARPU', ascending=False),\n",
    "                 y='tag',\n",
    "                 x='ARPU')\n",
    "ax.bar_label(ax.containers[0])\n",
    "ax.set(title='ARPU в группах во время теста')\n",
    "ax.set_xlabel('ARPU')\n",
    "ax.set_ylabel('Экспериментальная группа');"
   ]
  },
  {
   "cell_type": "markdown",
   "id": "8e4bb1c0",
   "metadata": {},
   "source": [
    "Можно заметить ощутимый рост ARPU во всех тестовых группах"
   ]
  },
  {
   "cell_type": "code",
   "execution_count": 152,
   "id": "875c57d0",
   "metadata": {},
   "outputs": [
    {
     "data": {
      "image/png": "[encoded data removed]",
      "text/plain": [
       "<Figure size 432x288 with 1 Axes>"
      ]
     },
     "metadata": {
      "needs_background": "light"
     },
     "output_type": "display_data"
    }
   ],
   "source": [
    "ax = sns.distplot(df_arpu[df_arpu['price'] < df_arpu['price'].quantile(0.99)].price)\n",
    "ax.set(title='Распределение сумм, которые получаем от каждого пользователя')\n",
    "ax.set_xlabel('Сумма чека')\n",
    "ax.set_ylabel('Частота')\n",
    "plt.show();"
   ]
  },
  {
   "cell_type": "code",
   "execution_count": 153,
   "id": "d1b48c24",
   "metadata": {},
   "outputs": [
    {
     "data": {
      "image/png": "[encoded data removed]",
      "text/plain": [
       "<Figure size 1080x360 with 5 Axes>"
      ]
     },
     "metadata": {
      "needs_background": "light"
     },
     "output_type": "display_data"
    }
   ],
   "source": [
    "fig, axs = plt.subplots(1,5, figsize=(15,5))\n",
    "fig.tight_layout()\n",
    "\n",
    "g1 = axs[0]\n",
    "g1.hist(df_arpu.query(\"tag == 'control'\")[df_arpu['price'] < df_arpu['price'].quantile(0.99)]['price'], bins=30)\n",
    "g1.set_title('group - control')\n",
    "g1.set_xlabel('Сумма чека')\n",
    "g1.set_ylabel('Частота')\n",
    "\n",
    "g2 = axs[1]\n",
    "g2.hist(df_arpu.query(\"tag == 'test1'\")[df_arpu['price'] < df_arpu['price'].quantile(0.99)]['price'], bins=30)\n",
    "g2.set_title('group - test1')\n",
    "g2.set_xlabel('Сумма чека')\n",
    "\n",
    "g3 = axs[2]\n",
    "g3.hist(df_arpu.query(\"tag == 'test2'\")[df_arpu['price'] < df_arpu['price'].quantile(0.99)]['price'], bins=30)\n",
    "g3.set_title('group - test2')\n",
    "g3.set_xlabel('Сумма чека')\n",
    "\n",
    "g4 = axs[3]\n",
    "g4.hist(df_arpu.query(\"tag == 'test3'\")[df_arpu['price'] < df_arpu['price'].quantile(0.99)]['price'], bins=30)\n",
    "g4.set_title('group - test3')\n",
    "g4.set_xlabel('Сумма чека')\n",
    "\n",
    "g5 = axs[4]\n",
    "g5.hist(df_arpu.query(\"tag == 'test4'\")[df_arpu['price'] < df_arpu['price'].quantile(0.99)]['price'], bins=30)\n",
    "g5.set_title('group - test4')\n",
    "g5.set_xlabel('Сумма чека')\n",
    "\n",
    "plt.show();"
   ]
  },
  {
   "cell_type": "markdown",
   "id": "e2b85d82",
   "metadata": {},
   "source": [
    "Распределения явно отличаются от нормального, логарифмирование бессмысленно, так как логарифм нуля не определен. Проверим статистическую значимость различий непараметрическим тестом. Так как ситуация аналогична кейсу со средним чеком, нам так же подходит тест Краскела-Уоллиса"
   ]
  },
  {
   "cell_type": "code",
   "execution_count": 483,
   "id": "3f75dff3",
   "metadata": {},
   "outputs": [
    {
     "data": {
      "text/plain": [
       "KruskalResult(statistic=33.596195657523204, pvalue=9.016799154999556e-07)"
      ]
     },
     "execution_count": 483,
     "metadata": {},
     "output_type": "execute_result"
    }
   ],
   "source": [
    "stats.kruskal(df_arpu.query(\"tag == 'control'\").price,\n",
    "             df_arpu.query(\"tag == 'test1'\").price,\n",
    "             df_arpu.query(\"tag == 'test2'\").price,\n",
    "             df_arpu.query(\"tag == 'test3'\").price,\n",
    "             df_arpu.query(\"tag == 'test4'\").price)"
   ]
  },
  {
   "cell_type": "markdown",
   "id": "1d0e1076",
   "metadata": {},
   "source": [
    "**По крайней мере одна группа отличается от других**. Посмотрим, между какими именно, используя пост-хок тест Данна (так как все аналогично кейсу со средним чеком)"
   ]
  },
  {
   "cell_type": "code",
   "execution_count": 484,
   "id": "edb65108",
   "metadata": {},
   "outputs": [
    {
     "data": {
      "text/html": [
       "<div>\n",
       "<style scoped>\n",
       "    .dataframe tbody tr th:only-of-type {\n",
       "        vertical-align: middle;\n",
       "    }\n",
       "\n",
       "    .dataframe tbody tr th {\n",
       "        vertical-align: top;\n",
       "    }\n",
       "\n",
       "    .dataframe thead th {\n",
       "        text-align: right;\n",
       "    }\n",
       "</style>\n",
       "<table border=\"1\" class=\"dataframe\">\n",
       "  <thead>\n",
       "    <tr style=\"text-align: right;\">\n",
       "      <th></th>\n",
       "      <th>control</th>\n",
       "      <th>test1</th>\n",
       "      <th>test2</th>\n",
       "      <th>test3</th>\n",
       "      <th>test4</th>\n",
       "    </tr>\n",
       "  </thead>\n",
       "  <tbody>\n",
       "    <tr>\n",
       "      <th>control</th>\n",
       "      <td>1.000000</td>\n",
       "      <td>0.000001</td>\n",
       "      <td>0.000595</td>\n",
       "      <td>0.000142</td>\n",
       "      <td>0.000174</td>\n",
       "    </tr>\n",
       "    <tr>\n",
       "      <th>test1</th>\n",
       "      <td>0.000001</td>\n",
       "      <td>1.000000</td>\n",
       "      <td>1.000000</td>\n",
       "      <td>1.000000</td>\n",
       "      <td>1.000000</td>\n",
       "    </tr>\n",
       "    <tr>\n",
       "      <th>test2</th>\n",
       "      <td>0.000595</td>\n",
       "      <td>1.000000</td>\n",
       "      <td>1.000000</td>\n",
       "      <td>1.000000</td>\n",
       "      <td>1.000000</td>\n",
       "    </tr>\n",
       "    <tr>\n",
       "      <th>test3</th>\n",
       "      <td>0.000142</td>\n",
       "      <td>1.000000</td>\n",
       "      <td>1.000000</td>\n",
       "      <td>1.000000</td>\n",
       "      <td>1.000000</td>\n",
       "    </tr>\n",
       "    <tr>\n",
       "      <th>test4</th>\n",
       "      <td>0.000174</td>\n",
       "      <td>1.000000</td>\n",
       "      <td>1.000000</td>\n",
       "      <td>1.000000</td>\n",
       "      <td>1.000000</td>\n",
       "    </tr>\n",
       "  </tbody>\n",
       "</table>\n",
       "</div>"
      ],
      "text/plain": [
       "          control     test1     test2     test3     test4\n",
       "control  1.000000  0.000001  0.000595  0.000142  0.000174\n",
       "test1    0.000001  1.000000  1.000000  1.000000  1.000000\n",
       "test2    0.000595  1.000000  1.000000  1.000000  1.000000\n",
       "test3    0.000142  1.000000  1.000000  1.000000  1.000000\n",
       "test4    0.000174  1.000000  1.000000  1.000000  1.000000"
      ]
     },
     "execution_count": 484,
     "metadata": {},
     "output_type": "execute_result"
    }
   ],
   "source": [
    "sp.posthoc_dunn(df_arpu, 'price', 'tag', p_adjust='holm')"
   ]
  },
  {
   "cell_type": "markdown",
   "id": "e08e9f45",
   "metadata": {},
   "source": [
    "**В каждой из тестовых групп ARPU выросла статистически значимо.** У первой группы - на 4.8%, у второй группы - на 4.2%, у третьей группы - на 4.6%, у четвертой группы - на 4.1%"
   ]
  },
  {
   "cell_type": "markdown",
   "id": "c5c0f318",
   "metadata": {},
   "source": [
    "Посмотрим на **ARPPU**"
   ]
  },
  {
   "cell_type": "code",
   "execution_count": 84,
   "id": "b0146a87",
   "metadata": {},
   "outputs": [],
   "source": [
    "df_arppu = df_after.query(\"time > 0\")"
   ]
  },
  {
   "cell_type": "code",
   "execution_count": 85,
   "id": "c11c5891",
   "metadata": {},
   "outputs": [],
   "source": [
    "df_arppu = df_arppu.groupby('user_uid').agg({'tag': 'max', 'price': 'sum'})"
   ]
  },
  {
   "cell_type": "markdown",
   "id": "4d6d6168",
   "metadata": {},
   "source": [
    "Построим график распределения дохода с платящего пользователя по группам, убрав последний перцентиль с экстремально большими значениями"
   ]
  },
  {
   "cell_type": "code",
   "execution_count": 217,
   "id": "ad5b8333",
   "metadata": {},
   "outputs": [
    {
     "data": {
      "image/png": "[encoded data removed]",
      "text/plain": [
       "<Figure size 864x576 with 1 Axes>"
      ]
     },
     "metadata": {
      "needs_background": "light"
     },
     "output_type": "display_data"
    }
   ],
   "source": [
    "plt.figure(figsize=(12,8))\n",
    "ax = sns.boxplot(data=df_arppu[df_arppu['price'] < df_arppu['price'].quantile(0.99)], x='tag', y='price')\n",
    "ax.set(title='Распределение дохода от каждого платящего пользователя')\n",
    "ax.set(xlabel='Экспериментальная группа', ylabel='Сумма')\n",
    "var = ax.set_xticklabels(ax.get_xticklabels(), rotation=0)"
   ]
  },
  {
   "cell_type": "markdown",
   "id": "2ea37f81",
   "metadata": {},
   "source": [
    "Визуально можно сделать вывод о том, что среднее значение в контрольной группе ниже, чем в тестовых. При этом все еще достаточно много выбросов. Посмотрим на конкретные значения ARPPU в каждой группе"
   ]
  },
  {
   "cell_type": "code",
   "execution_count": 487,
   "id": "142f7b53",
   "metadata": {},
   "outputs": [
    {
     "data": {
      "text/html": [
       "<div>\n",
       "<style scoped>\n",
       "    .dataframe tbody tr th:only-of-type {\n",
       "        vertical-align: middle;\n",
       "    }\n",
       "\n",
       "    .dataframe tbody tr th {\n",
       "        vertical-align: top;\n",
       "    }\n",
       "\n",
       "    .dataframe thead th {\n",
       "        text-align: right;\n",
       "    }\n",
       "</style>\n",
       "<table border=\"1\" class=\"dataframe\">\n",
       "  <thead>\n",
       "    <tr style=\"text-align: right;\">\n",
       "      <th></th>\n",
       "      <th>tag</th>\n",
       "      <th>ARPPU</th>\n",
       "    </tr>\n",
       "  </thead>\n",
       "  <tbody>\n",
       "    <tr>\n",
       "      <th>0</th>\n",
       "      <td>control</td>\n",
       "      <td>68.115792</td>\n",
       "    </tr>\n",
       "    <tr>\n",
       "      <th>1</th>\n",
       "      <td>test1</td>\n",
       "      <td>68.937489</td>\n",
       "    </tr>\n",
       "    <tr>\n",
       "      <th>2</th>\n",
       "      <td>test2</td>\n",
       "      <td>69.310454</td>\n",
       "    </tr>\n",
       "    <tr>\n",
       "      <th>3</th>\n",
       "      <td>test3</td>\n",
       "      <td>69.375487</td>\n",
       "    </tr>\n",
       "    <tr>\n",
       "      <th>4</th>\n",
       "      <td>test4</td>\n",
       "      <td>69.005958</td>\n",
       "    </tr>\n",
       "  </tbody>\n",
       "</table>\n",
       "</div>"
      ],
      "text/plain": [
       "       tag      ARPPU\n",
       "0  control  68.115792\n",
       "1    test1  68.937489\n",
       "2    test2  69.310454\n",
       "3    test3  69.375487\n",
       "4    test4  69.005958"
      ]
     },
     "execution_count": 487,
     "metadata": {},
     "output_type": "execute_result"
    }
   ],
   "source": [
    "df_arppu.groupby('tag', as_index=False).agg({'price': 'mean'}).rename(columns={'price': 'ARPPU'})"
   ]
  },
  {
   "cell_type": "code",
   "execution_count": 86,
   "id": "e0d43a2c",
   "metadata": {},
   "outputs": [
    {
     "data": {
      "image/png": "[encoded data removed]",
      "text/plain": [
       "<Figure size 864x432 with 1 Axes>"
      ]
     },
     "metadata": {
      "needs_background": "light"
     },
     "output_type": "display_data"
    }
   ],
   "source": [
    "plt.figure(figsize=(12,6))\n",
    "ax = sns.barplot(data=df_arppu.groupby('tag', as_index=False) \\\n",
    "                 .agg({'price': 'mean'}) \\\n",
    "                 .rename(columns={'price': 'ARPPU'}) \\\n",
    "                 .round(2) \\\n",
    "                 .sort_values('ARPPU', ascending=False),\n",
    "                 y='tag',\n",
    "                 x='ARPPU')\n",
    "ax.bar_label(ax.containers[0])\n",
    "ax.set(title='ARPPU в группах во время теста')\n",
    "ax.set_xlabel('ARPPU')\n",
    "ax.set_ylabel('Экспериментальная группа');"
   ]
  },
  {
   "cell_type": "markdown",
   "id": "50825d92",
   "metadata": {},
   "source": [
    "Судя по графику, ARPPU вырос, но не слишком сильно"
   ]
  },
  {
   "cell_type": "markdown",
   "id": "f190701b",
   "metadata": {},
   "source": [
    "Визуализируем распределения, чтобы проверить нормальность"
   ]
  },
  {
   "cell_type": "code",
   "execution_count": 218,
   "id": "57a83177",
   "metadata": {},
   "outputs": [
    {
     "data": {
      "image/png": "[encoded data removed]",
      "text/plain": [
       "<Figure size 432x288 with 1 Axes>"
      ]
     },
     "metadata": {
      "needs_background": "light"
     },
     "output_type": "display_data"
    }
   ],
   "source": [
    "ax = sns.distplot(df_arppu[df_arppu['price'] < df_arppu['price'].quantile(0.99)].price)\n",
    "ax.set(title='Распределение сумм, которые получаем от каждого платящего пользователя')\n",
    "ax.set_xlabel('Сумма по платящему пользователю')\n",
    "ax.set_ylabel('Частота')\n",
    "plt.show();"
   ]
  },
  {
   "cell_type": "code",
   "execution_count": 219,
   "id": "5c4ee4e1",
   "metadata": {},
   "outputs": [
    {
     "data": {
      "image/png": "[encoded data removed]",
      "text/plain": [
       "<Figure size 1080x360 with 5 Axes>"
      ]
     },
     "metadata": {
      "needs_background": "light"
     },
     "output_type": "display_data"
    }
   ],
   "source": [
    "fig, axs = plt.subplots(1,5, figsize=(15,5))\n",
    "fig.tight_layout()\n",
    "\n",
    "g1 = axs[0]\n",
    "g1.hist(df_arppu.query(\"tag == 'control'\")[df_arppu['price'] < df_arppu['price'].quantile(0.99)]['price'], bins=30)\n",
    "g1.set_title('group - control')\n",
    "g1.set_xlabel('Сумма по платящему пользователю')\n",
    "g1.set_ylabel('Частота')\n",
    "\n",
    "g2 = axs[1]\n",
    "g2.hist(df_arppu.query(\"tag == 'test1'\")[df_arppu['price'] < df_arppu['price'].quantile(0.99)]['price'], bins=30)\n",
    "g2.set_title('group - test1')\n",
    "g2.set_xlabel('Сумма по платящему пользователю')\n",
    "\n",
    "g3 = axs[2]\n",
    "g3.hist(df_arppu.query(\"tag == 'test2'\")[df_arppu['price'] < df_arppu['price'].quantile(0.99)]['price'], bins=30)\n",
    "g3.set_title('group - test2')\n",
    "g3.set_xlabel('Сумма по платящему пользователю')\n",
    "\n",
    "g4 = axs[3]\n",
    "g4.hist(df_arppu.query(\"tag == 'test3'\")[df_arppu['price'] < df_arppu['price'].quantile(0.99)]['price'], bins=30)\n",
    "g4.set_title('group - test3')\n",
    "g4.set_xlabel('Сумма по платящему пользователю')\n",
    "\n",
    "g5 = axs[4]\n",
    "g5.hist(df_arppu.query(\"tag == 'test4'\")[df_arppu['price'] < df_arppu['price'].quantile(0.99)]['price'], bins=30)\n",
    "g5.set_title('group - test4')\n",
    "g5.set_xlabel('Сумма по платящему пользователю')\n",
    "\n",
    "plt.show();"
   ]
  },
  {
   "cell_type": "markdown",
   "id": "74ca80b6",
   "metadata": {},
   "source": [
    "Распределения отличаются от нормальных"
   ]
  },
  {
   "cell_type": "code",
   "execution_count": 221,
   "id": "e72c16e5",
   "metadata": {},
   "outputs": [
    {
     "data": {
      "image/png": "[encoded data removed]",
      "text/plain": [
       "<Figure size 432x288 with 1 Axes>"
      ]
     },
     "metadata": {
      "needs_background": "light"
     },
     "output_type": "display_data"
    }
   ],
   "source": [
    "ax = sns.distplot(np.log(df_arppu.price))\n",
    "ax.set(title='Логарифмы сумм, которые получаем от каждого платящего пользователя')\n",
    "ax.set_xlabel('Логарифм суммы по платящему пользователю')\n",
    "ax.set_ylabel('Частота')\n",
    "plt.show();"
   ]
  },
  {
   "cell_type": "markdown",
   "id": "21ef036f",
   "metadata": {},
   "source": [
    "Данные распределены не нормально, поэтому используем непараметрику - тест Краскела-Уоллиса для множественного сравнения, как и в случае со средним чеком и ARPU"
   ]
  },
  {
   "cell_type": "code",
   "execution_count": 489,
   "id": "430ed091",
   "metadata": {},
   "outputs": [
    {
     "data": {
      "text/plain": [
       "KruskalResult(statistic=11.29006462451837, pvalue=0.02349041631338823)"
      ]
     },
     "execution_count": 489,
     "metadata": {},
     "output_type": "execute_result"
    }
   ],
   "source": [
    "stats.kruskal(df_arppu.query(\"tag == 'control'\").price,\n",
    "             df_arppu.query(\"tag == 'test1'\").price,\n",
    "             df_arppu.query(\"tag == 'test2'\").price,\n",
    "             df_arppu.query(\"tag == 'test3'\").price,\n",
    "             df_arppu.query(\"tag == 'test4'\").price)"
   ]
  },
  {
   "cell_type": "markdown",
   "id": "ea0064f0",
   "metadata": {},
   "source": [
    "Видим, что **как минимум одна группа статистически значимо отличается**. По аналогии со средним чеком и ARPU выберем пост-хок тест Данна, чтобы отследить, какие именно группы значимо отличаются от контрольной"
   ]
  },
  {
   "cell_type": "code",
   "execution_count": 490,
   "id": "8d9ae969",
   "metadata": {},
   "outputs": [
    {
     "data": {
      "text/html": [
       "<div>\n",
       "<style scoped>\n",
       "    .dataframe tbody tr th:only-of-type {\n",
       "        vertical-align: middle;\n",
       "    }\n",
       "\n",
       "    .dataframe tbody tr th {\n",
       "        vertical-align: top;\n",
       "    }\n",
       "\n",
       "    .dataframe thead th {\n",
       "        text-align: right;\n",
       "    }\n",
       "</style>\n",
       "<table border=\"1\" class=\"dataframe\">\n",
       "  <thead>\n",
       "    <tr style=\"text-align: right;\">\n",
       "      <th></th>\n",
       "      <th>control</th>\n",
       "      <th>test1</th>\n",
       "      <th>test2</th>\n",
       "      <th>test3</th>\n",
       "      <th>test4</th>\n",
       "    </tr>\n",
       "  </thead>\n",
       "  <tbody>\n",
       "    <tr>\n",
       "      <th>control</th>\n",
       "      <td>1.000000</td>\n",
       "      <td>0.453437</td>\n",
       "      <td>0.057906</td>\n",
       "      <td>0.028896</td>\n",
       "      <td>0.125168</td>\n",
       "    </tr>\n",
       "    <tr>\n",
       "      <th>test1</th>\n",
       "      <td>0.453437</td>\n",
       "      <td>1.000000</td>\n",
       "      <td>1.000000</td>\n",
       "      <td>1.000000</td>\n",
       "      <td>1.000000</td>\n",
       "    </tr>\n",
       "    <tr>\n",
       "      <th>test2</th>\n",
       "      <td>0.057906</td>\n",
       "      <td>1.000000</td>\n",
       "      <td>1.000000</td>\n",
       "      <td>1.000000</td>\n",
       "      <td>1.000000</td>\n",
       "    </tr>\n",
       "    <tr>\n",
       "      <th>test3</th>\n",
       "      <td>0.028896</td>\n",
       "      <td>1.000000</td>\n",
       "      <td>1.000000</td>\n",
       "      <td>1.000000</td>\n",
       "      <td>1.000000</td>\n",
       "    </tr>\n",
       "    <tr>\n",
       "      <th>test4</th>\n",
       "      <td>0.125168</td>\n",
       "      <td>1.000000</td>\n",
       "      <td>1.000000</td>\n",
       "      <td>1.000000</td>\n",
       "      <td>1.000000</td>\n",
       "    </tr>\n",
       "  </tbody>\n",
       "</table>\n",
       "</div>"
      ],
      "text/plain": [
       "          control     test1     test2     test3     test4\n",
       "control  1.000000  0.453437  0.057906  0.028896  0.125168\n",
       "test1    0.453437  1.000000  1.000000  1.000000  1.000000\n",
       "test2    0.057906  1.000000  1.000000  1.000000  1.000000\n",
       "test3    0.028896  1.000000  1.000000  1.000000  1.000000\n",
       "test4    0.125168  1.000000  1.000000  1.000000  1.000000"
      ]
     },
     "execution_count": 490,
     "metadata": {},
     "output_type": "execute_result"
    }
   ],
   "source": [
    "sp.posthoc_dunn(df_arppu, 'price', 'tag', p_adjust='holm')"
   ]
  },
  {
   "cell_type": "markdown",
   "id": "d782f72b",
   "metadata": {},
   "source": [
    "**Значимо ARPPU вырос только для третьей тестовой группы - на 1.8%**"
   ]
  },
  {
   "cell_type": "markdown",
   "id": "a063238f",
   "metadata": {},
   "source": [
    "Посмотрим на **частотность**"
   ]
  },
  {
   "cell_type": "code",
   "execution_count": 94,
   "id": "272a43b8",
   "metadata": {},
   "outputs": [],
   "source": [
    "df_freq = df_after.groupby('user_uid', as_index=False) \\\n",
    "            .agg({'tag': 'max', 'price': 'count'}) \\\n",
    "            .rename(columns={'price': 'frequency'})"
   ]
  },
  {
   "cell_type": "code",
   "execution_count": 95,
   "id": "d43dee13",
   "metadata": {},
   "outputs": [
    {
     "data": {
      "text/html": [
       "<div>\n",
       "<style scoped>\n",
       "    .dataframe tbody tr th:only-of-type {\n",
       "        vertical-align: middle;\n",
       "    }\n",
       "\n",
       "    .dataframe tbody tr th {\n",
       "        vertical-align: top;\n",
       "    }\n",
       "\n",
       "    .dataframe thead th {\n",
       "        text-align: right;\n",
       "    }\n",
       "</style>\n",
       "<table border=\"1\" class=\"dataframe\">\n",
       "  <thead>\n",
       "    <tr style=\"text-align: right;\">\n",
       "      <th></th>\n",
       "      <th>tag</th>\n",
       "      <th>frequency</th>\n",
       "    </tr>\n",
       "  </thead>\n",
       "  <tbody>\n",
       "    <tr>\n",
       "      <th>0</th>\n",
       "      <td>control</td>\n",
       "      <td>0.480620</td>\n",
       "    </tr>\n",
       "    <tr>\n",
       "      <th>1</th>\n",
       "      <td>test1</td>\n",
       "      <td>0.508046</td>\n",
       "    </tr>\n",
       "    <tr>\n",
       "      <th>2</th>\n",
       "      <td>test2</td>\n",
       "      <td>0.503880</td>\n",
       "    </tr>\n",
       "    <tr>\n",
       "      <th>3</th>\n",
       "      <td>test3</td>\n",
       "      <td>0.506559</td>\n",
       "    </tr>\n",
       "    <tr>\n",
       "      <th>4</th>\n",
       "      <td>test4</td>\n",
       "      <td>0.505936</td>\n",
       "    </tr>\n",
       "  </tbody>\n",
       "</table>\n",
       "</div>"
      ],
      "text/plain": [
       "       tag  frequency\n",
       "0  control   0.480620\n",
       "1    test1   0.508046\n",
       "2    test2   0.503880\n",
       "3    test3   0.506559\n",
       "4    test4   0.505936"
      ]
     },
     "execution_count": 95,
     "metadata": {},
     "output_type": "execute_result"
    }
   ],
   "source": [
    "df_freq.groupby('tag', as_index=False).agg({'frequency': 'mean'})"
   ]
  },
  {
   "cell_type": "code",
   "execution_count": 98,
   "id": "67a17269",
   "metadata": {},
   "outputs": [
    {
     "data": {
      "image/png": "[encoded data removed]",
      "text/plain": [
       "<Figure size 864x432 with 1 Axes>"
      ]
     },
     "metadata": {
      "needs_background": "light"
     },
     "output_type": "display_data"
    }
   ],
   "source": [
    "plt.figure(figsize=(12,6))\n",
    "ax = sns.barplot(data=df_freq.groupby('tag', as_index=False) \\\n",
    "                 .agg({'frequency': 'mean'}) \\\n",
    "                 .round(2) \\\n",
    "                 .sort_values('frequency', ascending=False),\n",
    "                 y='tag',\n",
    "                 x='frequency')\n",
    "ax.bar_label(ax.containers[0])\n",
    "ax.set(title='Частотность в группах во время теста')\n",
    "ax.set_xlabel('Частотность')\n",
    "ax.set_ylabel('Экспериментальная группа');"
   ]
  },
  {
   "cell_type": "markdown",
   "id": "3f87fe67",
   "metadata": {},
   "source": [
    "Визуально частотность значительно увеличилась во всех тестовых группах"
   ]
  },
  {
   "cell_type": "markdown",
   "id": "7bdcb53b",
   "metadata": {},
   "source": [
    "Посмотрим, как распределяются частоты внутри групп"
   ]
  },
  {
   "cell_type": "code",
   "execution_count": 247,
   "id": "2ac73f3e",
   "metadata": {},
   "outputs": [
    {
     "data": {
      "image/png": "[encoded data removed]",
      "text/plain": [
       "<Figure size 1080x360 with 5 Axes>"
      ]
     },
     "metadata": {
      "needs_background": "light"
     },
     "output_type": "display_data"
    }
   ],
   "source": [
    "fig, axs = plt.subplots(1,5, figsize=(15,5))\n",
    "fig.tight_layout()\n",
    "\n",
    "g1 = axs[0]\n",
    "g1.hist(df_freq.query(\"tag == 'control'\")['frequency'], bins=30)\n",
    "g1.set_title('group - control')\n",
    "g1.set_xlabel('Сумма по платящему пользователю')\n",
    "g1.set_ylabel('Частота')\n",
    "\n",
    "g2 = axs[1]\n",
    "g2.hist(df_freq.query(\"tag == 'test1'\")['frequency'], bins=30)\n",
    "g2.set_title('group - test1')\n",
    "g2.set_xlabel('Сумма по платящему пользователю')\n",
    "\n",
    "g3 = axs[2]\n",
    "g3.hist(df_freq.query(\"tag == 'test2'\")['frequency'], bins=30)\n",
    "g3.set_title('group - test2')\n",
    "g3.set_xlabel('Сумма по платящему пользователю')\n",
    "\n",
    "g4 = axs[3]\n",
    "g4.hist(df_freq.query(\"tag == 'test3'\")['frequency'], bins=30)\n",
    "g4.set_title('group - test3')\n",
    "g4.set_xlabel('Сумма по платящему пользователю')\n",
    "\n",
    "g5 = axs[4]\n",
    "g5.hist(df_freq.query(\"tag == 'test4'\")['frequency'], bins=30)\n",
    "g5.set_title('group - test4')\n",
    "g5.set_xlabel('Сумма по платящему пользователю')\n",
    "\n",
    "plt.show();"
   ]
  },
  {
   "cell_type": "markdown",
   "id": "6733f07f",
   "metadata": {},
   "source": [
    "Во всех группах, кроме второй, видим схожий паттерн - примерно равномерное снижение количества покупок на пользователя с максимумом около 30 штук. Во второй же группе количество покупок ниже нуля встречается редко, но максимальное значение приближается к 40. Также видим, что распределение отличается от нормального"
   ]
  },
  {
   "cell_type": "markdown",
   "id": "36e22938",
   "metadata": {},
   "source": [
    "Применим непараметрический тест Краскела-Уоллиса, так как распределение отличается от нормального и логарифмировать его не имеет смысла (логарифм нуля не определен)."
   ]
  },
  {
   "cell_type": "code",
   "execution_count": 248,
   "id": "28d765dd",
   "metadata": {},
   "outputs": [
    {
     "data": {
      "text/plain": [
       "KruskalResult(statistic=37.52981475331988, pvalue=1.4008739401204883e-07)"
      ]
     },
     "execution_count": 248,
     "metadata": {},
     "output_type": "execute_result"
    }
   ],
   "source": [
    "stats.kruskal(df_freq.query(\"tag == 'control'\").frequency,\n",
    "             df_freq.query(\"tag == 'test1'\").frequency,\n",
    "             df_freq.query(\"tag == 'test2'\").frequency,\n",
    "             df_freq.query(\"tag == 'test3'\").frequency,\n",
    "             df_freq.query(\"tag == 'test4'\").frequency)"
   ]
  },
  {
   "cell_type": "markdown",
   "id": "aba8d8eb",
   "metadata": {},
   "source": [
    "Видим, что хотя бы одна группа значимо отличается от других. Проведем пост-хок тест, чтобы понять, в каких именно группах различия значимы"
   ]
  },
  {
   "cell_type": "code",
   "execution_count": 250,
   "id": "8c9b6dec",
   "metadata": {},
   "outputs": [
    {
     "data": {
      "text/html": [
       "<div>\n",
       "<style scoped>\n",
       "    .dataframe tbody tr th:only-of-type {\n",
       "        vertical-align: middle;\n",
       "    }\n",
       "\n",
       "    .dataframe tbody tr th {\n",
       "        vertical-align: top;\n",
       "    }\n",
       "\n",
       "    .dataframe thead th {\n",
       "        text-align: right;\n",
       "    }\n",
       "</style>\n",
       "<table border=\"1\" class=\"dataframe\">\n",
       "  <thead>\n",
       "    <tr style=\"text-align: right;\">\n",
       "      <th></th>\n",
       "      <th>control</th>\n",
       "      <th>test1</th>\n",
       "      <th>test2</th>\n",
       "      <th>test3</th>\n",
       "      <th>test4</th>\n",
       "    </tr>\n",
       "  </thead>\n",
       "  <tbody>\n",
       "    <tr>\n",
       "      <th>control</th>\n",
       "      <td>1.000000e+00</td>\n",
       "      <td>2.525997e-07</td>\n",
       "      <td>0.000274</td>\n",
       "      <td>0.000059</td>\n",
       "      <td>0.000034</td>\n",
       "    </tr>\n",
       "    <tr>\n",
       "      <th>test1</th>\n",
       "      <td>2.525997e-07</td>\n",
       "      <td>1.000000e+00</td>\n",
       "      <td>0.867556</td>\n",
       "      <td>1.000000</td>\n",
       "      <td>1.000000</td>\n",
       "    </tr>\n",
       "    <tr>\n",
       "      <th>test2</th>\n",
       "      <td>2.743159e-04</td>\n",
       "      <td>8.675558e-01</td>\n",
       "      <td>1.000000</td>\n",
       "      <td>1.000000</td>\n",
       "      <td>1.000000</td>\n",
       "    </tr>\n",
       "    <tr>\n",
       "      <th>test3</th>\n",
       "      <td>5.863999e-05</td>\n",
       "      <td>1.000000e+00</td>\n",
       "      <td>1.000000</td>\n",
       "      <td>1.000000</td>\n",
       "      <td>1.000000</td>\n",
       "    </tr>\n",
       "    <tr>\n",
       "      <th>test4</th>\n",
       "      <td>3.397837e-05</td>\n",
       "      <td>1.000000e+00</td>\n",
       "      <td>1.000000</td>\n",
       "      <td>1.000000</td>\n",
       "      <td>1.000000</td>\n",
       "    </tr>\n",
       "  </tbody>\n",
       "</table>\n",
       "</div>"
      ],
      "text/plain": [
       "              control         test1     test2     test3     test4\n",
       "control  1.000000e+00  2.525997e-07  0.000274  0.000059  0.000034\n",
       "test1    2.525997e-07  1.000000e+00  0.867556  1.000000  1.000000\n",
       "test2    2.743159e-04  8.675558e-01  1.000000  1.000000  1.000000\n",
       "test3    5.863999e-05  1.000000e+00  1.000000  1.000000  1.000000\n",
       "test4    3.397837e-05  1.000000e+00  1.000000  1.000000  1.000000"
      ]
     },
     "execution_count": 250,
     "metadata": {},
     "output_type": "execute_result"
    }
   ],
   "source": [
    "sp.posthoc_dunn(df_freq, 'frequency', 'tag', p_adjust='holm')"
   ]
  },
  {
   "cell_type": "markdown",
   "id": "015d7b9a",
   "metadata": {},
   "source": [
    "**Частотность статистически значимо выросла во всех группах.** В первой - на 5.7%, во второй - на 4.8%, в третьей - на 5.4%, в четвертой - на 5.3%"
   ]
  },
  {
   "cell_type": "markdown",
   "id": "cd0e3c49",
   "metadata": {},
   "source": [
    "Посмотрим на общую выручку компании по результатам эксперимента"
   ]
  },
  {
   "cell_type": "code",
   "execution_count": 101,
   "id": "ade47723",
   "metadata": {},
   "outputs": [
    {
     "data": {
      "text/html": [
       "<div>\n",
       "<style scoped>\n",
       "    .dataframe tbody tr th:only-of-type {\n",
       "        vertical-align: middle;\n",
       "    }\n",
       "\n",
       "    .dataframe tbody tr th {\n",
       "        vertical-align: top;\n",
       "    }\n",
       "\n",
       "    .dataframe thead th {\n",
       "        text-align: right;\n",
       "    }\n",
       "</style>\n",
       "<table border=\"1\" class=\"dataframe\">\n",
       "  <thead>\n",
       "    <tr style=\"text-align: right;\">\n",
       "      <th></th>\n",
       "      <th>tag</th>\n",
       "      <th>total_revenue</th>\n",
       "    </tr>\n",
       "  </thead>\n",
       "  <tbody>\n",
       "    <tr>\n",
       "      <th>0</th>\n",
       "      <td>control</td>\n",
       "      <td>2.034755</td>\n",
       "    </tr>\n",
       "    <tr>\n",
       "      <th>1</th>\n",
       "      <td>test1</td>\n",
       "      <td>2.157399</td>\n",
       "    </tr>\n",
       "    <tr>\n",
       "      <th>2</th>\n",
       "      <td>test2</td>\n",
       "      <td>2.139129</td>\n",
       "    </tr>\n",
       "    <tr>\n",
       "      <th>3</th>\n",
       "      <td>test3</td>\n",
       "      <td>2.147102</td>\n",
       "    </tr>\n",
       "    <tr>\n",
       "      <th>4</th>\n",
       "      <td>test4</td>\n",
       "      <td>2.137736</td>\n",
       "    </tr>\n",
       "  </tbody>\n",
       "</table>\n",
       "</div>"
      ],
      "text/plain": [
       "       tag  total_revenue\n",
       "0  control       2.034755\n",
       "1    test1       2.157399\n",
       "2    test2       2.139129\n",
       "3    test3       2.147102\n",
       "4    test4       2.137736"
      ]
     },
     "execution_count": 101,
     "metadata": {},
     "output_type": "execute_result"
    }
   ],
   "source": [
    "df_rev = df_after.groupby('tag', as_index=False).agg({'price': 'sum'}).rename(columns={'price': 'total_revenue'})\n",
    "df_rev['total_revenue'] = df_rev['total_revenue'] / 1000000\n",
    "df_rev"
   ]
  },
  {
   "cell_type": "code",
   "execution_count": 104,
   "id": "a08f92cd",
   "metadata": {},
   "outputs": [
    {
     "data": {
      "image/png": "[encoded data removed]",
      "text/plain": [
       "<Figure size 864x432 with 1 Axes>"
      ]
     },
     "metadata": {
      "needs_background": "light"
     },
     "output_type": "display_data"
    }
   ],
   "source": [
    "plt.figure(figsize=(12,6))\n",
    "ax = sns.barplot(data=df_rev \\\n",
    "                 .round(2) \\\n",
    "                 .sort_values('total_revenue', ascending=False),\n",
    "                 y='tag',\n",
    "                 x='total_revenue')\n",
    "ax.bar_label(ax.containers[0])\n",
    "ax.set(title='Выручка в группах во время теста (в миллионах)')\n",
    "ax.set_xlabel('Выручка')\n",
    "ax.set_ylabel('Экспериментальная группа');"
   ]
  },
  {
   "cell_type": "markdown",
   "id": "1037cff2",
   "metadata": {},
   "source": [
    "Видим, что **в каждой тестовой группе выручка выросла.** В первой - на 6%, во второй - на 5%, в третьей - на 5.5%, в четвертой - на 5%"
   ]
  },
  {
   "cell_type": "markdown",
   "id": "54873141",
   "metadata": {},
   "source": [
    "# Часть 4: Заключение"
   ]
  },
  {
   "cell_type": "markdown",
   "id": "3b6bcef7",
   "metadata": {},
   "source": [
    "Выводы: \n",
    "<br>\n",
    "<br>\n",
    "Конверсия выросла во всех группах\n",
    "<br>\n",
    "<br>\n",
    "Конверсия в повторную покупку выросла во всех группах\n",
    "<br>\n",
    "<br>\n",
    "Конверсия в покупку контента выросла выросла во всех группах. Конверсия в другие типы транзакций - не изменилась (для всех групп)\n",
    "<br>\n",
    "<br>\n",
    "Средний чек снизился в каждой группе\n",
    "<br>\n",
    "<br>\n",
    "ARPU выросла в каждой группе\n",
    "<br>\n",
    "<br>\n",
    "ARPPU выросла только в третьей группе.\n",
    "<br>\n",
    "<br>\n",
    "Для наглядного представления динамики метрик построим таблицу:"
   ]
  },
  {
   "attachments": {
    "image-2.png": {
     "image/png": "[encoded data removed]"
    }
   },
   "cell_type": "markdown",
   "id": "7bdbc575",
   "metadata": {},
   "source": [
    "![image-2.png](attachment:image-2.png)"
   ]
  },
  {
   "cell_type": "markdown",
   "id": "23b2f97c",
   "metadata": {},
   "source": [
    "Несмотря на падение среднего чека на 0.6-1% (в зависимости от группы), конверсия и общая выручка в итоге выросли, так же выросли ARPU и ARPPU (только в третьей группе). \n",
    "<br>\n",
    "<br>\n",
    "То есть **эксперимент прошел успешно**, мы стали зарабатывать больше, привлекая больше новых клиентов к оплате наших услуг, а также увеличивая сумму, которую клиент в общей сложности тратит на нашем сервисе. \n",
    "<br>\n",
    "<br>\n",
    "Так как средний чек упал, а конверсия, ARPU и ARPPU (в третьей группе) выросли, предполагаем, что платить больше стали за счет увеличения числа платящих пользователей. Это хорошо, так как вовлекается больше пользователей, которые удовлетворены нашим сервисом (на что показывает выросшая конверсия в повторную покупку), увеличивает наши общие доходы и их предсказуемость (мы не держимся только за исключительно лояльных клиентов, а расширяем базу, не теряя в выручке). \n",
    "<br>\n",
    "<br>\n",
    "ARPU может вырасти исключительно за счет того, что у нас увеличилась конверсия (рост дохода за счет роста новых пользователей), а может за счет того, что пользователи стали покупать больше. Так как у нас выросли и конверсия, и частотность, **отвергаем гипотезу о том, что причина роста ARPU - исключительно в новых пользователях - она еще и в увеличении числа покупок.**"
   ]
  },
  {
   "cell_type": "markdown",
   "id": "2aa568c0",
   "metadata": {},
   "source": [
    "Самой приоритетной метрикой является ARPU, так как она фактически учитывает и кол-во пользователей, и всю сумму, которую мы получаем. Так как ARPU лучше всего отражает эффект платежной активности в сервисе, **рекомендуется распространять на всех пользователей вариант для первой группы**. Именно в ней ARPU вырос больше всего (на 4.8%). При этом конверсия и частотность в этой группе также выросли больше, чем в остальных. При этом надо обратить внимание, что конверсия в повторную покупку в первой группе увеличилась меньше всего. Применяя новую фичу, необходимо следить за удержанием, чтобы не допустить оттока клиентов, обеспечивая прогнозируемый и стабильный заработок"
   ]
  },
  {
   "cell_type": "markdown",
   "id": "fa26a727",
   "metadata": {},
   "source": [
    "Можно было бы провести более детальный анализ, подсветив несколько важных аспектов, однако для этого недостаточно данных. Рекомендуется собрать следующие данные, чтобы решить некоторые типы задач:\n",
    "<br>\n",
    "<br>\n",
    "1) реальные данных по дате, чтобы посчитать удержание;\n",
    "<br>\n",
    "<br>\n",
    "2) тип подписки (месячная, полугодовая, годовая), чтобы посмотреть динамику конверсий в них; \n",
    "<br>\n",
    "<br>\n",
    "3) данные по удовлетворенностью новой системы оплаты, чтобы посчитать CSI"
   ]
  }
 ],
 "metadata": {
  "kernelspec": {
   "display_name": "Python 3 (ipykernel)",
   "language": "python",
   "name": "python3"
  },
  "language_info": {
   "codemirror_mode": {
    "name": "ipython",
    "version": 3
   },
   "file_extension": ".py",
   "mimetype": "text/x-python",
   "name": "python",
   "nbconvert_exporter": "python",
   "pygments_lexer": "ipython3",
   "version": "3.9.12"
  }
 },
 "nbformat": 4,
 "nbformat_minor": 5
}
