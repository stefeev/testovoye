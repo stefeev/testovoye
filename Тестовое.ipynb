{
 "cells": [
  {
   "cell_type": "markdown",
   "id": "763f27f1",
   "metadata": {},
   "source": [
    "# A/B-тестирование для проверки динамики платежной активности"
   ]
  },
  {
   "cell_type": "markdown",
   "id": "d5a2ca56",
   "metadata": {},
   "source": [
    "# Содержание"
   ]
  },
  {
   "cell_type": "markdown",
   "id": "4068a4dc",
   "metadata": {},
   "source": [
    "**Часть 0: Описание задачи\n",
    "<br>\n",
    "<br>\n",
    "Часть 1: Проверка корректности данных\n",
    "<br>\n",
    "<br>\n",
    "Часть 2: Анализ равномерности и валидности распределения юзеров по группам\n",
    "<br>\n",
    "<br>\n",
    "Часть 3: Анализ результатов эксперимента\n",
    "<br>\n",
    "<br>\n",
    "Часть 4: Заключение**"
   ]
  },
  {
   "cell_type": "markdown",
   "id": "72ee92eb",
   "metadata": {},
   "source": [
    "# Часть 0: Описание задачи"
   ]
  },
  {
   "cell_type": "markdown",
   "id": "d160dca3",
   "metadata": {},
   "source": [
    "Был запущен сплит-тест (а/б-тест), направленный на улучшение платежной активности пользователей. Вам дан датасет с транзакциями пользователей до и во время теста в контрольной и тестовых группах\n",
    "<br>\n",
    "<br>\n",
    "1. Какие вы можете сделать выводы? Какая группа показала лучшие результаты?\n",
    "<br>\n",
    "2. Можем ли мы как-то оценить из этих данных равномерность и валидность распределения юзеров по разным группам?\n",
    "<br>\n",
    "3. Если не ограничиваться теми данными, которые приведены в рамках этого задания, что ещё вы бы посчитали для оценки результатов групп?\n",
    "<br>\n",
    "<br>\n",
    "Описание данных:\n",
    "<br>\n",
    "<br>\n",
    "В таблице users_ приведена информация о том, какой юзер в какой момент времени попал в а/б тест:\n",
    "<br>\n",
    "tag - лэйбл группы (control - контрольная, остальные - тестовые)\n",
    "<br>\n",
    "ts - время, когда впервые был выдан tag. То есть, все события до наступления времени ts происходили с юзером до попадания в а/б тест\n",
    "<br>\n",
    "user_uid - внутренний id юзера (для матчинга со второй таблицей)\n",
    "<br>\n",
    "registration_time - время регистрации пользователя в сервисе\n",
    "<br>\n",
    "conv_ts - время совершения первой покупки пользователем в сервисе\n",
    "<br>\n",
    "<br>\n",
    "В таблице purchases_ приведена информация о транзакциях пользователей из таблицы users_ до и во время а/б теста:\n",
    "<br>\n",
    "user_uid - внутренний id юзера (для матчинга со второй таблицей)\n",
    "<br>\n",
    "time - время совершения транзакции\n",
    "<br>\n",
    "consumption_mode - вид потребления контента (dto - единица контента куплена навсегда, rent - единица контента взята в аренду, subscription - оформлена подписка)\n",
    "<br>\n",
    "element_uid - уникальный id единицы контента или подписки\n",
    "<br>\n",
    "price - цена (преобразованная)\n",
    "<br>\n",
    "<br>\n",
    "Значения в полях price и всех полях, указывающих на время - преобразованы. Это значит, что значение в таблице не настоящее, но является линейным преобразованием реального значения, где ко всем значениям одного поля применено одно и то же преобразование - между ними сохранено отношение порядка. Ко всем полям, обозначающим время, применено одно и то же преобразование."
   ]
  },
  {
   "cell_type": "markdown",
   "id": "64236280",
   "metadata": {},
   "source": [
    "# Часть 1: Проверка корректности данных"
   ]
  },
  {
   "cell_type": "code",
   "execution_count": 3,
   "id": "a912a612",
   "metadata": {},
   "outputs": [],
   "source": [
    "import pandas as pd\n",
    "import numpy as np\n",
    "import matplotlib.pyplot as plt\n",
    "import seaborn as sns\n",
    "\n",
    "%matplotlib inline"
   ]
  },
  {
   "cell_type": "code",
   "execution_count": 6,
   "id": "4e3fb8af",
   "metadata": {},
   "outputs": [
    {
     "data": {
      "text/html": [
       "<div>\n",
       "<style scoped>\n",
       "    .dataframe tbody tr th:only-of-type {\n",
       "        vertical-align: middle;\n",
       "    }\n",
       "\n",
       "    .dataframe tbody tr th {\n",
       "        vertical-align: top;\n",
       "    }\n",
       "\n",
       "    .dataframe thead th {\n",
       "        text-align: right;\n",
       "    }\n",
       "</style>\n",
       "<table border=\"1\" class=\"dataframe\">\n",
       "  <thead>\n",
       "    <tr style=\"text-align: right;\">\n",
       "      <th></th>\n",
       "      <th>tag</th>\n",
       "      <th>ts</th>\n",
       "      <th>user_uid</th>\n",
       "      <th>registration_time</th>\n",
       "      <th>conv_ts</th>\n",
       "    </tr>\n",
       "  </thead>\n",
       "  <tbody>\n",
       "    <tr>\n",
       "      <th>0</th>\n",
       "      <td>test4</td>\n",
       "      <td>30152.843868</td>\n",
       "      <td>001885550d78efd82c0f5cc02ad3369a</td>\n",
       "      <td>27410.154590</td>\n",
       "      <td>29485.529691</td>\n",
       "    </tr>\n",
       "    <tr>\n",
       "      <th>1</th>\n",
       "      <td>control</td>\n",
       "      <td>30133.146255</td>\n",
       "      <td>deb7d0e9bf9813d4f21b579d3703c6e1</td>\n",
       "      <td>27410.171795</td>\n",
       "      <td>27632.424734</td>\n",
       "    </tr>\n",
       "    <tr>\n",
       "      <th>2</th>\n",
       "      <td>test1</td>\n",
       "      <td>30140.447675</td>\n",
       "      <td>32095e22f853e595a0f407ad081e7da8</td>\n",
       "      <td>27410.217536</td>\n",
       "      <td>27414.028899</td>\n",
       "    </tr>\n",
       "    <tr>\n",
       "      <th>3</th>\n",
       "      <td>control</td>\n",
       "      <td>30136.790772</td>\n",
       "      <td>9932d33f40ad07d7f3ddb7c6aee1bc60</td>\n",
       "      <td>27410.227367</td>\n",
       "      <td>27573.751226</td>\n",
       "    </tr>\n",
       "    <tr>\n",
       "      <th>4</th>\n",
       "      <td>test2</td>\n",
       "      <td>30150.339264</td>\n",
       "      <td>4a122db1ad0214e969df154d2dbb4622</td>\n",
       "      <td>27410.230786</td>\n",
       "      <td>29545.833019</td>\n",
       "    </tr>\n",
       "    <tr>\n",
       "      <th>...</th>\n",
       "      <td>...</td>\n",
       "      <td>...</td>\n",
       "      <td>...</td>\n",
       "      <td>...</td>\n",
       "      <td>...</td>\n",
       "    </tr>\n",
       "    <tr>\n",
       "      <th>696977</th>\n",
       "      <td>test3</td>\n",
       "      <td>30135.048875</td>\n",
       "      <td>e10d8044e619248ed68e54bc9f78efa9</td>\n",
       "      <td>27410.028612</td>\n",
       "      <td>27640.573832</td>\n",
       "    </tr>\n",
       "    <tr>\n",
       "      <th>696978</th>\n",
       "      <td>test2</td>\n",
       "      <td>30144.864583</td>\n",
       "      <td>75c4da27fde4db78cf7e92e1847d1661</td>\n",
       "      <td>27410.037686</td>\n",
       "      <td>29293.210971</td>\n",
       "    </tr>\n",
       "    <tr>\n",
       "      <th>696979</th>\n",
       "      <td>test4</td>\n",
       "      <td>30157.801078</td>\n",
       "      <td>d679d86c76c03f86e1459bde6b582664</td>\n",
       "      <td>27410.050534</td>\n",
       "      <td>29633.843281</td>\n",
       "    </tr>\n",
       "    <tr>\n",
       "      <th>696980</th>\n",
       "      <td>test4</td>\n",
       "      <td>30140.139148</td>\n",
       "      <td>ca7d91f45bcc7eed9402a781e48cd6f5</td>\n",
       "      <td>27410.114820</td>\n",
       "      <td>27448.255112</td>\n",
       "    </tr>\n",
       "    <tr>\n",
       "      <th>696981</th>\n",
       "      <td>test4</td>\n",
       "      <td>30135.493437</td>\n",
       "      <td>23f24586aaddd9229c724fac4725c94f</td>\n",
       "      <td>27410.140327</td>\n",
       "      <td>29017.771448</td>\n",
       "    </tr>\n",
       "  </tbody>\n",
       "</table>\n",
       "<p>696982 rows × 5 columns</p>\n",
       "</div>"
      ],
      "text/plain": [
       "            tag            ts                          user_uid  \\\n",
       "0         test4  30152.843868  001885550d78efd82c0f5cc02ad3369a   \n",
       "1       control  30133.146255  deb7d0e9bf9813d4f21b579d3703c6e1   \n",
       "2         test1  30140.447675  32095e22f853e595a0f407ad081e7da8   \n",
       "3       control  30136.790772  9932d33f40ad07d7f3ddb7c6aee1bc60   \n",
       "4         test2  30150.339264  4a122db1ad0214e969df154d2dbb4622   \n",
       "...         ...           ...                               ...   \n",
       "696977    test3  30135.048875  e10d8044e619248ed68e54bc9f78efa9   \n",
       "696978    test2  30144.864583  75c4da27fde4db78cf7e92e1847d1661   \n",
       "696979    test4  30157.801078  d679d86c76c03f86e1459bde6b582664   \n",
       "696980    test4  30140.139148  ca7d91f45bcc7eed9402a781e48cd6f5   \n",
       "696981    test4  30135.493437  23f24586aaddd9229c724fac4725c94f   \n",
       "\n",
       "        registration_time       conv_ts  \n",
       "0            27410.154590  29485.529691  \n",
       "1            27410.171795  27632.424734  \n",
       "2            27410.217536  27414.028899  \n",
       "3            27410.227367  27573.751226  \n",
       "4            27410.230786  29545.833019  \n",
       "...                   ...           ...  \n",
       "696977       27410.028612  27640.573832  \n",
       "696978       27410.037686  29293.210971  \n",
       "696979       27410.050534  29633.843281  \n",
       "696980       27410.114820  27448.255112  \n",
       "696981       27410.140327  29017.771448  \n",
       "\n",
       "[696982 rows x 5 columns]"
      ]
     },
     "execution_count": 6,
     "metadata": {},
     "output_type": "execute_result"
    }
   ],
   "source": [
    "users = pd.read_csv('users_.csv')\n",
    "users"
   ]
  },
  {
   "cell_type": "code",
   "execution_count": 389,
   "id": "e8585fa5",
   "metadata": {},
   "outputs": [
    {
     "data": {
      "text/plain": [
       "696500"
      ]
     },
     "execution_count": 389,
     "metadata": {},
     "output_type": "execute_result"
    }
   ],
   "source": [
    "users.ts.nunique()"
   ]
  },
  {
   "cell_type": "code",
   "execution_count": 390,
   "id": "d4efd98c",
   "metadata": {},
   "outputs": [
    {
     "data": {
      "text/plain": [
       "27"
      ]
     },
     "execution_count": 390,
     "metadata": {},
     "output_type": "execute_result"
    }
   ],
   "source": [
    "pd.to_datetime(users['ts']).nunique()"
   ]
  },
  {
   "cell_type": "markdown",
   "id": "d8d9c12e",
   "metadata": {},
   "source": [
    "Переводить данные в формат времени не имеет смысла - теряются уникальные значения"
   ]
  },
  {
   "cell_type": "code",
   "execution_count": 391,
   "id": "518eb031",
   "metadata": {},
   "outputs": [
    {
     "data": {
      "text/plain": [
       "tag                   object\n",
       "ts                   float64\n",
       "user_uid              object\n",
       "registration_time    float64\n",
       "conv_ts              float64\n",
       "dtype: object"
      ]
     },
     "execution_count": 391,
     "metadata": {},
     "output_type": "execute_result"
    }
   ],
   "source": [
    "users.dtypes"
   ]
  },
  {
   "cell_type": "code",
   "execution_count": 392,
   "id": "bb847883",
   "metadata": {},
   "outputs": [
    {
     "data": {
      "text/plain": [
       "tag                       5\n",
       "ts                   696500\n",
       "user_uid             694819\n",
       "registration_time    690641\n",
       "conv_ts                2893\n",
       "dtype: int64"
      ]
     },
     "execution_count": 392,
     "metadata": {},
     "output_type": "execute_result"
    }
   ],
   "source": [
    "users.nunique()"
   ]
  },
  {
   "cell_type": "code",
   "execution_count": 393,
   "id": "3bb620cb",
   "metadata": {},
   "outputs": [
    {
     "data": {
      "text/plain": [
       "1    693358\n",
       "2      1437\n",
       "3        23\n",
       "4         1\n",
       "Name: tag, dtype: int64"
      ]
     },
     "execution_count": 393,
     "metadata": {},
     "output_type": "execute_result"
    }
   ],
   "source": [
    "users.groupby('user_uid').agg({'tag': 'nunique'}).tag.value_counts()"
   ]
  },
  {
   "cell_type": "markdown",
   "id": "d23755f6",
   "metadata": {},
   "source": [
    "У нас есть 1461 пользователь, которым одновременно присвоено 2, 3 и даже 4 тэга. Это пересечение, таких пользователей надо удалить из датасета. Они в сумме занимают 0.2% от общего числа юзеров."
   ]
  },
  {
   "cell_type": "code",
   "execution_count": 7,
   "id": "d7267961",
   "metadata": {},
   "outputs": [
    {
     "data": {
      "text/plain": [
       "1461"
      ]
     },
     "execution_count": 7,
     "metadata": {},
     "output_type": "execute_result"
    }
   ],
   "source": [
    "with_1_tag = []\n",
    "[with_1_tag.append(i) for i in users.groupby('user_uid', as_index=False).agg({'tag': 'nunique'}).query(\"tag != 1\").user_uid]\n",
    "len(with_1_tag)"
   ]
  },
  {
   "cell_type": "code",
   "execution_count": 8,
   "id": "5c42eb86",
   "metadata": {},
   "outputs": [
    {
     "data": {
      "text/plain": [
       "(694011, 5)"
      ]
     },
     "execution_count": 8,
     "metadata": {},
     "output_type": "execute_result"
    }
   ],
   "source": [
    "users = users.query(\"user_uid not in @with_1_tag\")\n",
    "users.shape"
   ]
  },
  {
   "cell_type": "code",
   "execution_count": 396,
   "id": "a5417cbe",
   "metadata": {},
   "outputs": [
    {
     "data": {
      "text/plain": [
       "tag                       5\n",
       "ts                   693534\n",
       "user_uid             693358\n",
       "registration_time    689211\n",
       "conv_ts                2893\n",
       "dtype: int64"
      ]
     },
     "execution_count": 396,
     "metadata": {},
     "output_type": "execute_result"
    }
   ],
   "source": [
    "users.nunique()"
   ]
  },
  {
   "cell_type": "code",
   "execution_count": 397,
   "id": "8814879d",
   "metadata": {},
   "outputs": [
    {
     "data": {
      "text/html": [
       "<div>\n",
       "<style scoped>\n",
       "    .dataframe tbody tr th:only-of-type {\n",
       "        vertical-align: middle;\n",
       "    }\n",
       "\n",
       "    .dataframe tbody tr th {\n",
       "        vertical-align: top;\n",
       "    }\n",
       "\n",
       "    .dataframe thead th {\n",
       "        text-align: right;\n",
       "    }\n",
       "</style>\n",
       "<table border=\"1\" class=\"dataframe\">\n",
       "  <thead>\n",
       "    <tr style=\"text-align: right;\">\n",
       "      <th></th>\n",
       "      <th>tag</th>\n",
       "      <th>ts</th>\n",
       "      <th>user_uid</th>\n",
       "      <th>registration_time</th>\n",
       "      <th>conv_ts</th>\n",
       "    </tr>\n",
       "  </thead>\n",
       "  <tbody>\n",
       "    <tr>\n",
       "      <th>1308</th>\n",
       "      <td>control</td>\n",
       "      <td>30132.530282</td>\n",
       "      <td>509b44822a9ec9b6f96c01d118176faf</td>\n",
       "      <td>30244.874660</td>\n",
       "      <td>30046.187656</td>\n",
       "    </tr>\n",
       "    <tr>\n",
       "      <th>14137</th>\n",
       "      <td>test3</td>\n",
       "      <td>30144.708921</td>\n",
       "      <td>1cd7770bba07ac2dd5152751b5ac5aac</td>\n",
       "      <td>30238.227555</td>\n",
       "      <td>30142.347016</td>\n",
       "    </tr>\n",
       "    <tr>\n",
       "      <th>28157</th>\n",
       "      <td>test1</td>\n",
       "      <td>30132.469814</td>\n",
       "      <td>d6d1be3a09a0ca4bf42988176477d3df</td>\n",
       "      <td>30243.051099</td>\n",
       "      <td>29793.565608</td>\n",
       "    </tr>\n",
       "    <tr>\n",
       "      <th>28947</th>\n",
       "      <td>test1</td>\n",
       "      <td>30150.216191</td>\n",
       "      <td>b5bb0bd4fc9f3731f824dc854349706b</td>\n",
       "      <td>30246.250068</td>\n",
       "      <td>29831.051460</td>\n",
       "    </tr>\n",
       "    <tr>\n",
       "      <th>37621</th>\n",
       "      <td>test1</td>\n",
       "      <td>30140.000534</td>\n",
       "      <td>c5101de8fdfb1e3cc551e525f32e2a93</td>\n",
       "      <td>30245.979976</td>\n",
       "      <td>NaN</td>\n",
       "    </tr>\n",
       "    <tr>\n",
       "      <th>...</th>\n",
       "      <td>...</td>\n",
       "      <td>...</td>\n",
       "      <td>...</td>\n",
       "      <td>...</td>\n",
       "      <td>...</td>\n",
       "    </tr>\n",
       "    <tr>\n",
       "      <th>658315</th>\n",
       "      <td>control</td>\n",
       "      <td>30156.679669</td>\n",
       "      <td>a6522659b4767c3ba4c633b488859c31</td>\n",
       "      <td>30245.829571</td>\n",
       "      <td>NaN</td>\n",
       "    </tr>\n",
       "    <tr>\n",
       "      <th>672977</th>\n",
       "      <td>test1</td>\n",
       "      <td>30135.189462</td>\n",
       "      <td>cfcde41c21342d9c832c98ce94dfa206</td>\n",
       "      <td>30157.210560</td>\n",
       "      <td>29430.115823</td>\n",
       "    </tr>\n",
       "    <tr>\n",
       "      <th>678593</th>\n",
       "      <td>test4</td>\n",
       "      <td>30158.349019</td>\n",
       "      <td>bb4a90d22d55de54544108cf0bd11ec5</td>\n",
       "      <td>30201.924673</td>\n",
       "      <td>30155.385573</td>\n",
       "    </tr>\n",
       "    <tr>\n",
       "      <th>691061</th>\n",
       "      <td>control</td>\n",
       "      <td>30133.983285</td>\n",
       "      <td>5a2f92f89f349fb4565f5dc4d4ff09db</td>\n",
       "      <td>30236.433278</td>\n",
       "      <td>27531.375915</td>\n",
       "    </tr>\n",
       "    <tr>\n",
       "      <th>691627</th>\n",
       "      <td>test3</td>\n",
       "      <td>30141.755749</td>\n",
       "      <td>969a5135801b8bc8538f4ae95c2ade2d</td>\n",
       "      <td>30220.133819</td>\n",
       "      <td>30218.948540</td>\n",
       "    </tr>\n",
       "  </tbody>\n",
       "</table>\n",
       "<p>141 rows × 5 columns</p>\n",
       "</div>"
      ],
      "text/plain": [
       "            tag            ts                          user_uid  \\\n",
       "1308    control  30132.530282  509b44822a9ec9b6f96c01d118176faf   \n",
       "14137     test3  30144.708921  1cd7770bba07ac2dd5152751b5ac5aac   \n",
       "28157     test1  30132.469814  d6d1be3a09a0ca4bf42988176477d3df   \n",
       "28947     test1  30150.216191  b5bb0bd4fc9f3731f824dc854349706b   \n",
       "37621     test1  30140.000534  c5101de8fdfb1e3cc551e525f32e2a93   \n",
       "...         ...           ...                               ...   \n",
       "658315  control  30156.679669  a6522659b4767c3ba4c633b488859c31   \n",
       "672977    test1  30135.189462  cfcde41c21342d9c832c98ce94dfa206   \n",
       "678593    test4  30158.349019  bb4a90d22d55de54544108cf0bd11ec5   \n",
       "691061  control  30133.983285  5a2f92f89f349fb4565f5dc4d4ff09db   \n",
       "691627    test3  30141.755749  969a5135801b8bc8538f4ae95c2ade2d   \n",
       "\n",
       "        registration_time       conv_ts  \n",
       "1308         30244.874660  30046.187656  \n",
       "14137        30238.227555  30142.347016  \n",
       "28157        30243.051099  29793.565608  \n",
       "28947        30246.250068  29831.051460  \n",
       "37621        30245.979976           NaN  \n",
       "...                   ...           ...  \n",
       "658315       30245.829571           NaN  \n",
       "672977       30157.210560  29430.115823  \n",
       "678593       30201.924673  30155.385573  \n",
       "691061       30236.433278  27531.375915  \n",
       "691627       30220.133819  30218.948540  \n",
       "\n",
       "[141 rows x 5 columns]"
      ]
     },
     "execution_count": 397,
     "metadata": {},
     "output_type": "execute_result"
    }
   ],
   "source": [
    "users.query(\"registration_time > ts\")"
   ]
  },
  {
   "cell_type": "markdown",
   "id": "b55dd7c7",
   "metadata": {},
   "source": [
    "В датасете 141 человек (0.02% от всех пользователей), у которого дата регистрации меньше даты присвоения тэга. Исключим их"
   ]
  },
  {
   "cell_type": "code",
   "execution_count": 9,
   "id": "6421be65",
   "metadata": {},
   "outputs": [],
   "source": [
    "ts_before_reg = []\n",
    "[ts_before_reg.append(i) for i in users.query(\"registration_time > ts\").user_uid]\n",
    "users = users.query(\"user_uid not in @ts_before_reg\")"
   ]
  },
  {
   "cell_type": "code",
   "execution_count": 10,
   "id": "40e02e78",
   "metadata": {},
   "outputs": [
    {
     "data": {
      "text/plain": [
       "(693870, 5)"
      ]
     },
     "execution_count": 10,
     "metadata": {},
     "output_type": "execute_result"
    }
   ],
   "source": [
    "users.shape"
   ]
  },
  {
   "cell_type": "code",
   "execution_count": 400,
   "id": "750406c3",
   "metadata": {},
   "outputs": [
    {
     "data": {
      "text/plain": [
       "1    692744\n",
       "0       473\n",
       "Name: registration_time, dtype: int64"
      ]
     },
     "execution_count": 400,
     "metadata": {},
     "output_type": "execute_result"
    }
   ],
   "source": [
    "users.groupby('user_uid').agg({'registration_time': 'nunique'}).registration_time.value_counts()"
   ]
  },
  {
   "cell_type": "code",
   "execution_count": 401,
   "id": "5dd8f237",
   "metadata": {},
   "outputs": [
    {
     "data": {
      "text/plain": [
       "1    692582\n",
       "2       617\n",
       "3        18\n",
       "Name: ts, dtype: int64"
      ]
     },
     "execution_count": 401,
     "metadata": {},
     "output_type": "execute_result"
    }
   ],
   "source": [
    "users.groupby('user_uid').agg({'ts': 'nunique'}).ts.value_counts()"
   ]
  },
  {
   "cell_type": "code",
   "execution_count": 402,
   "id": "cca68051",
   "metadata": {},
   "outputs": [
    {
     "data": {
      "text/plain": [
       "1    692975\n",
       "0       242\n",
       "Name: conv_ts, dtype: int64"
      ]
     },
     "execution_count": 402,
     "metadata": {},
     "output_type": "execute_result"
    }
   ],
   "source": [
    "users.groupby('user_uid').agg({'conv_ts': 'nunique'}).conv_ts.value_counts()"
   ]
  },
  {
   "cell_type": "markdown",
   "id": "5dcd0abd",
   "metadata": {},
   "source": [
    "В выборке есть юзеры, по которым произошли дубли - их 635 (0.09% от выборки). Им присваивались одни и те же тэги, но более одного раза в разные даты. Удалим их"
   ]
  },
  {
   "cell_type": "code",
   "execution_count": 11,
   "id": "b23bd6f1",
   "metadata": {},
   "outputs": [],
   "source": [
    "duplicates_list = []\n",
    "[duplicates_list.append(i) for i in users.groupby('user_uid', as_index=False).agg({'ts': 'nunique'}).query(\"ts > 1\").user_uid]\n",
    "users = users.query(\"user_uid not in @duplicates_list\")"
   ]
  },
  {
   "cell_type": "code",
   "execution_count": 12,
   "id": "ba625694",
   "metadata": {},
   "outputs": [
    {
     "data": {
      "text/plain": [
       "(692582, 5)"
      ]
     },
     "execution_count": 12,
     "metadata": {},
     "output_type": "execute_result"
    }
   ],
   "source": [
    "users.shape"
   ]
  },
  {
   "cell_type": "code",
   "execution_count": 405,
   "id": "39b29ac9",
   "metadata": {},
   "outputs": [
    {
     "data": {
      "text/plain": [
       "tag                       5\n",
       "ts                   692105\n",
       "user_uid             692582\n",
       "registration_time    688443\n",
       "conv_ts                2887\n",
       "dtype: int64"
      ]
     },
     "execution_count": 405,
     "metadata": {},
     "output_type": "execute_result"
    }
   ],
   "source": [
    "users.nunique()"
   ]
  },
  {
   "cell_type": "markdown",
   "id": "4413da45",
   "metadata": {},
   "source": [
    "Предобработка датасета users закончена. Перейдем к таблице purchases"
   ]
  },
  {
   "cell_type": "code",
   "execution_count": 4,
   "id": "5fc0c428",
   "metadata": {},
   "outputs": [
    {
     "data": {
      "text/html": [
       "<div>\n",
       "<style scoped>\n",
       "    .dataframe tbody tr th:only-of-type {\n",
       "        vertical-align: middle;\n",
       "    }\n",
       "\n",
       "    .dataframe tbody tr th {\n",
       "        vertical-align: top;\n",
       "    }\n",
       "\n",
       "    .dataframe thead th {\n",
       "        text-align: right;\n",
       "    }\n",
       "</style>\n",
       "<table border=\"1\" class=\"dataframe\">\n",
       "  <thead>\n",
       "    <tr style=\"text-align: right;\">\n",
       "      <th></th>\n",
       "      <th>user_uid</th>\n",
       "      <th>time</th>\n",
       "      <th>consumption_mode</th>\n",
       "      <th>element_uid</th>\n",
       "      <th>price</th>\n",
       "    </tr>\n",
       "  </thead>\n",
       "  <tbody>\n",
       "    <tr>\n",
       "      <th>0</th>\n",
       "      <td>d60a7038c7b7e99146ffea6f6535862b</td>\n",
       "      <td>30158.645112</td>\n",
       "      <td>dto</td>\n",
       "      <td>2ba66ac9785731da67b2b6155efaca5c</td>\n",
       "      <td>44.470588</td>\n",
       "    </tr>\n",
       "    <tr>\n",
       "      <th>1</th>\n",
       "      <td>0906074e1a1a9229b5e749860b646962</td>\n",
       "      <td>30158.645015</td>\n",
       "      <td>dto</td>\n",
       "      <td>e56d422275d90c96762f81db85d80f3d</td>\n",
       "      <td>38.588235</td>\n",
       "    </tr>\n",
       "    <tr>\n",
       "      <th>2</th>\n",
       "      <td>efb6eeca3135d573739e5c5d4dbce330</td>\n",
       "      <td>30158.644990</td>\n",
       "      <td>dto</td>\n",
       "      <td>544f7dd31bd61558c9c738adcff6aafa</td>\n",
       "      <td>50.352941</td>\n",
       "    </tr>\n",
       "    <tr>\n",
       "      <th>3</th>\n",
       "      <td>ccd658e372645c991ce49b444839712f</td>\n",
       "      <td>30158.644789</td>\n",
       "      <td>dto</td>\n",
       "      <td>8256d0fc7b25382aacfec0066e39cde3</td>\n",
       "      <td>44.470588</td>\n",
       "    </tr>\n",
       "    <tr>\n",
       "      <th>4</th>\n",
       "      <td>89ae5e43ff7b89f9d262d507dedc1760</td>\n",
       "      <td>30158.644200</td>\n",
       "      <td>dto</td>\n",
       "      <td>a579f32b5c116624cc661c9d3b96d5e5</td>\n",
       "      <td>44.470588</td>\n",
       "    </tr>\n",
       "    <tr>\n",
       "      <th>...</th>\n",
       "      <td>...</td>\n",
       "      <td>...</td>\n",
       "      <td>...</td>\n",
       "      <td>...</td>\n",
       "      <td>...</td>\n",
       "    </tr>\n",
       "    <tr>\n",
       "      <th>663844</th>\n",
       "      <td>b95eb8746f20dba6ddc804a382b0763a</td>\n",
       "      <td>30106.491242</td>\n",
       "      <td>rent</td>\n",
       "      <td>f17e9ea5412551ddb4b258595413f98c</td>\n",
       "      <td>26.823529</td>\n",
       "    </tr>\n",
       "    <tr>\n",
       "      <th>663845</th>\n",
       "      <td>facc4c49dd6e6bccd77be41845297f2a</td>\n",
       "      <td>30106.491145</td>\n",
       "      <td>dto</td>\n",
       "      <td>0ccd083bb2e44eeed4d6e2b6ca86a480</td>\n",
       "      <td>44.470588</td>\n",
       "    </tr>\n",
       "    <tr>\n",
       "      <th>663846</th>\n",
       "      <td>f81a8bf7f6d136108da82dcf0b8e1141</td>\n",
       "      <td>30106.491129</td>\n",
       "      <td>rent</td>\n",
       "      <td>7bbdee0cb298b62ab4766241d2fb477d</td>\n",
       "      <td>26.823529</td>\n",
       "    </tr>\n",
       "    <tr>\n",
       "      <th>663847</th>\n",
       "      <td>0ffbe5d7a89472510b757f4c674c3b4d</td>\n",
       "      <td>30106.491029</td>\n",
       "      <td>dto</td>\n",
       "      <td>5aa724c0393087cde3a18c625b310645</td>\n",
       "      <td>21.058824</td>\n",
       "    </tr>\n",
       "    <tr>\n",
       "      <th>663848</th>\n",
       "      <td>cf96616ad179d1b6d3443c9cd33fcb18</td>\n",
       "      <td>30106.490995</td>\n",
       "      <td>dto</td>\n",
       "      <td>50e4aa7ed0212e2740b40f5409332f8d</td>\n",
       "      <td>38.588235</td>\n",
       "    </tr>\n",
       "  </tbody>\n",
       "</table>\n",
       "<p>663849 rows × 5 columns</p>\n",
       "</div>"
      ],
      "text/plain": [
       "                                user_uid          time consumption_mode  \\\n",
       "0       d60a7038c7b7e99146ffea6f6535862b  30158.645112              dto   \n",
       "1       0906074e1a1a9229b5e749860b646962  30158.645015              dto   \n",
       "2       efb6eeca3135d573739e5c5d4dbce330  30158.644990              dto   \n",
       "3       ccd658e372645c991ce49b444839712f  30158.644789              dto   \n",
       "4       89ae5e43ff7b89f9d262d507dedc1760  30158.644200              dto   \n",
       "...                                  ...           ...              ...   \n",
       "663844  b95eb8746f20dba6ddc804a382b0763a  30106.491242             rent   \n",
       "663845  facc4c49dd6e6bccd77be41845297f2a  30106.491145              dto   \n",
       "663846  f81a8bf7f6d136108da82dcf0b8e1141  30106.491129             rent   \n",
       "663847  0ffbe5d7a89472510b757f4c674c3b4d  30106.491029              dto   \n",
       "663848  cf96616ad179d1b6d3443c9cd33fcb18  30106.490995              dto   \n",
       "\n",
       "                             element_uid      price  \n",
       "0       2ba66ac9785731da67b2b6155efaca5c  44.470588  \n",
       "1       e56d422275d90c96762f81db85d80f3d  38.588235  \n",
       "2       544f7dd31bd61558c9c738adcff6aafa  50.352941  \n",
       "3       8256d0fc7b25382aacfec0066e39cde3  44.470588  \n",
       "4       a579f32b5c116624cc661c9d3b96d5e5  44.470588  \n",
       "...                                  ...        ...  \n",
       "663844  f17e9ea5412551ddb4b258595413f98c  26.823529  \n",
       "663845  0ccd083bb2e44eeed4d6e2b6ca86a480  44.470588  \n",
       "663846  7bbdee0cb298b62ab4766241d2fb477d  26.823529  \n",
       "663847  5aa724c0393087cde3a18c625b310645  21.058824  \n",
       "663848  50e4aa7ed0212e2740b40f5409332f8d  38.588235  \n",
       "\n",
       "[663849 rows x 5 columns]"
      ]
     },
     "execution_count": 4,
     "metadata": {},
     "output_type": "execute_result"
    }
   ],
   "source": [
    "purchases = pd.read_csv('purchases_.csv')\n",
    "purchases"
   ]
  },
  {
   "cell_type": "code",
   "execution_count": 5,
   "id": "7fb94deb",
   "metadata": {},
   "outputs": [
    {
     "data": {
      "text/plain": [
       "user_uid             object\n",
       "time                float64\n",
       "consumption_mode     object\n",
       "element_uid          object\n",
       "price               float64\n",
       "dtype: object"
      ]
     },
     "execution_count": 5,
     "metadata": {},
     "output_type": "execute_result"
    }
   ],
   "source": [
    "purchases.dtypes"
   ]
  },
  {
   "cell_type": "code",
   "execution_count": 407,
   "id": "8cca0635",
   "metadata": {},
   "outputs": [
    {
     "data": {
      "text/plain": [
       "user_uid            0\n",
       "time                0\n",
       "consumption_mode    0\n",
       "element_uid         0\n",
       "price               0\n",
       "dtype: int64"
      ]
     },
     "execution_count": 407,
     "metadata": {},
     "output_type": "execute_result"
    }
   ],
   "source": [
    "purchases.isna().sum()"
   ]
  },
  {
   "cell_type": "code",
   "execution_count": 408,
   "id": "db0bd910",
   "metadata": {},
   "outputs": [
    {
     "data": {
      "text/plain": [
       "(663849, 5)"
      ]
     },
     "execution_count": 408,
     "metadata": {},
     "output_type": "execute_result"
    }
   ],
   "source": [
    "purchases.drop_duplicates().shape"
   ]
  },
  {
   "cell_type": "markdown",
   "id": "393f39b2",
   "metadata": {},
   "source": [
    "Таблица purchases не содержит пропусков и дубликатов, форматы данных корректные"
   ]
  },
  {
   "cell_type": "code",
   "execution_count": 13,
   "id": "4943f15b",
   "metadata": {},
   "outputs": [
    {
     "data": {
      "text/html": [
       "<div>\n",
       "<style scoped>\n",
       "    .dataframe tbody tr th:only-of-type {\n",
       "        vertical-align: middle;\n",
       "    }\n",
       "\n",
       "    .dataframe tbody tr th {\n",
       "        vertical-align: top;\n",
       "    }\n",
       "\n",
       "    .dataframe thead th {\n",
       "        text-align: right;\n",
       "    }\n",
       "</style>\n",
       "<table border=\"1\" class=\"dataframe\">\n",
       "  <thead>\n",
       "    <tr style=\"text-align: right;\">\n",
       "      <th></th>\n",
       "      <th>tag</th>\n",
       "      <th>ts</th>\n",
       "      <th>registration_time</th>\n",
       "      <th>conv_ts</th>\n",
       "      <th>user_uid</th>\n",
       "      <th>time</th>\n",
       "      <th>consumption_mode</th>\n",
       "    </tr>\n",
       "  </thead>\n",
       "  <tbody>\n",
       "  </tbody>\n",
       "</table>\n",
       "</div>"
      ],
      "text/plain": [
       "Empty DataFrame\n",
       "Columns: [tag, ts, registration_time, conv_ts, user_uid, time, consumption_mode]\n",
       "Index: []"
      ]
     },
     "execution_count": 13,
     "metadata": {},
     "output_type": "execute_result"
    }
   ],
   "source": [
    "users.query(\"ts < conv_ts and ts < registration_time\") \\\n",
    "    .merge(purchases[['user_uid', 'time', 'consumption_mode']], how='left', on='user_uid')"
   ]
  },
  {
   "cell_type": "markdown",
   "id": "e34f5765",
   "metadata": {},
   "source": [
    "В датасете нет юзеров, у которых время присвоения тега произошло до регистрации и до первой покупки"
   ]
  },
  {
   "cell_type": "markdown",
   "id": "645b325b",
   "metadata": {},
   "source": [
    "Теперь данные корректные, с ними можно работать"
   ]
  },
  {
   "cell_type": "markdown",
   "id": "e9e729b5",
   "metadata": {},
   "source": [
    "# Часть 2: Анализ равномерности и валидности распределения юзеров по группам"
   ]
  },
  {
   "cell_type": "markdown",
   "id": "8bb6fa6d",
   "metadata": {},
   "source": [
    "Теперь посмотрим на равномерность и валидность выборок"
   ]
  },
  {
   "cell_type": "code",
   "execution_count": 410,
   "id": "609bcf1c",
   "metadata": {},
   "outputs": [
    {
     "data": {
      "text/plain": [
       "test1      0.200977\n",
       "test2      0.199985\n",
       "test4      0.199793\n",
       "test3      0.199793\n",
       "control    0.199452\n",
       "Name: tag, dtype: float64"
      ]
     },
     "execution_count": 410,
     "metadata": {},
     "output_type": "execute_result"
    }
   ],
   "source": [
    "users.tag.value_counts(normalize=True)"
   ]
  },
  {
   "cell_type": "markdown",
   "id": "c8cf2a09",
   "metadata": {},
   "source": [
    "В каждой из 5 групп находится примерно 20% трафика, соответственно распределение юзеров примерно одинаковое"
   ]
  },
  {
   "cell_type": "code",
   "execution_count": 14,
   "id": "e3aa51b4",
   "metadata": {},
   "outputs": [],
   "source": [
    "df = users.merge(purchases, on='user_uid', how='left')"
   ]
  },
  {
   "cell_type": "markdown",
   "id": "923a2457",
   "metadata": {},
   "source": [
    "Отберем данные, отражающие период до начала проведения A/B-теста - тех, у кого время покупки меньше времени присвоения лейбла, а так же тех, кто зарегистрировался до начала тестирования и при этом ничего не купил"
   ]
  },
  {
   "cell_type": "code",
   "execution_count": 412,
   "id": "d1858910",
   "metadata": {},
   "outputs": [
    {
     "data": {
      "text/plain": [
       "30132.31051184637"
      ]
     },
     "execution_count": 412,
     "metadata": {},
     "output_type": "execute_result"
    }
   ],
   "source": [
    "df.ts.min()"
   ]
  },
  {
   "cell_type": "code",
   "execution_count": 15,
   "id": "aa6d8256",
   "metadata": {},
   "outputs": [
    {
     "data": {
      "text/html": [
       "<div>\n",
       "<style scoped>\n",
       "    .dataframe tbody tr th:only-of-type {\n",
       "        vertical-align: middle;\n",
       "    }\n",
       "\n",
       "    .dataframe tbody tr th {\n",
       "        vertical-align: top;\n",
       "    }\n",
       "\n",
       "    .dataframe thead th {\n",
       "        text-align: right;\n",
       "    }\n",
       "</style>\n",
       "<table border=\"1\" class=\"dataframe\">\n",
       "  <thead>\n",
       "    <tr style=\"text-align: right;\">\n",
       "      <th></th>\n",
       "      <th>tag</th>\n",
       "      <th>ts</th>\n",
       "      <th>user_uid</th>\n",
       "      <th>registration_time</th>\n",
       "      <th>conv_ts</th>\n",
       "      <th>time</th>\n",
       "      <th>consumption_mode</th>\n",
       "      <th>element_uid</th>\n",
       "      <th>price</th>\n",
       "    </tr>\n",
       "  </thead>\n",
       "  <tbody>\n",
       "    <tr>\n",
       "      <th>0</th>\n",
       "      <td>test4</td>\n",
       "      <td>30152.843868</td>\n",
       "      <td>001885550d78efd82c0f5cc02ad3369a</td>\n",
       "      <td>27410.154590</td>\n",
       "      <td>29485.529691</td>\n",
       "      <td>NaN</td>\n",
       "      <td>NaN</td>\n",
       "      <td>NaN</td>\n",
       "      <td>NaN</td>\n",
       "    </tr>\n",
       "    <tr>\n",
       "      <th>3</th>\n",
       "      <td>control</td>\n",
       "      <td>30133.146255</td>\n",
       "      <td>deb7d0e9bf9813d4f21b579d3703c6e1</td>\n",
       "      <td>27410.171795</td>\n",
       "      <td>27632.424734</td>\n",
       "      <td>30125.717420</td>\n",
       "      <td>dto</td>\n",
       "      <td>a693322f7dbc21d5064c06021b878597</td>\n",
       "      <td>35.647059</td>\n",
       "    </tr>\n",
       "    <tr>\n",
       "      <th>4</th>\n",
       "      <td>control</td>\n",
       "      <td>30133.146255</td>\n",
       "      <td>deb7d0e9bf9813d4f21b579d3703c6e1</td>\n",
       "      <td>27410.171795</td>\n",
       "      <td>27632.424734</td>\n",
       "      <td>30122.544398</td>\n",
       "      <td>dto</td>\n",
       "      <td>80fd3378dfc91b30d85cc0bd05a37993</td>\n",
       "      <td>35.647059</td>\n",
       "    </tr>\n",
       "    <tr>\n",
       "      <th>5</th>\n",
       "      <td>control</td>\n",
       "      <td>30133.146255</td>\n",
       "      <td>deb7d0e9bf9813d4f21b579d3703c6e1</td>\n",
       "      <td>27410.171795</td>\n",
       "      <td>27632.424734</td>\n",
       "      <td>30118.725912</td>\n",
       "      <td>rent</td>\n",
       "      <td>80fd3378dfc91b30d85cc0bd05a37993</td>\n",
       "      <td>25.647059</td>\n",
       "    </tr>\n",
       "    <tr>\n",
       "      <th>6</th>\n",
       "      <td>control</td>\n",
       "      <td>30133.146255</td>\n",
       "      <td>deb7d0e9bf9813d4f21b579d3703c6e1</td>\n",
       "      <td>27410.171795</td>\n",
       "      <td>27632.424734</td>\n",
       "      <td>30118.626008</td>\n",
       "      <td>rent</td>\n",
       "      <td>a693322f7dbc21d5064c06021b878597</td>\n",
       "      <td>25.647059</td>\n",
       "    </tr>\n",
       "    <tr>\n",
       "      <th>...</th>\n",
       "      <td>...</td>\n",
       "      <td>...</td>\n",
       "      <td>...</td>\n",
       "      <td>...</td>\n",
       "      <td>...</td>\n",
       "      <td>...</td>\n",
       "      <td>...</td>\n",
       "      <td>...</td>\n",
       "      <td>...</td>\n",
       "    </tr>\n",
       "    <tr>\n",
       "      <th>1058732</th>\n",
       "      <td>test2</td>\n",
       "      <td>30144.864583</td>\n",
       "      <td>75c4da27fde4db78cf7e92e1847d1661</td>\n",
       "      <td>27410.037686</td>\n",
       "      <td>29293.210971</td>\n",
       "      <td>NaN</td>\n",
       "      <td>NaN</td>\n",
       "      <td>NaN</td>\n",
       "      <td>NaN</td>\n",
       "    </tr>\n",
       "    <tr>\n",
       "      <th>1058733</th>\n",
       "      <td>test4</td>\n",
       "      <td>30157.801078</td>\n",
       "      <td>d679d86c76c03f86e1459bde6b582664</td>\n",
       "      <td>27410.050534</td>\n",
       "      <td>29633.843281</td>\n",
       "      <td>NaN</td>\n",
       "      <td>NaN</td>\n",
       "      <td>NaN</td>\n",
       "      <td>NaN</td>\n",
       "    </tr>\n",
       "    <tr>\n",
       "      <th>1058734</th>\n",
       "      <td>test4</td>\n",
       "      <td>30140.139148</td>\n",
       "      <td>ca7d91f45bcc7eed9402a781e48cd6f5</td>\n",
       "      <td>27410.114820</td>\n",
       "      <td>27448.255112</td>\n",
       "      <td>NaN</td>\n",
       "      <td>NaN</td>\n",
       "      <td>NaN</td>\n",
       "      <td>NaN</td>\n",
       "    </tr>\n",
       "    <tr>\n",
       "      <th>1058738</th>\n",
       "      <td>test4</td>\n",
       "      <td>30135.493437</td>\n",
       "      <td>23f24586aaddd9229c724fac4725c94f</td>\n",
       "      <td>27410.140327</td>\n",
       "      <td>29017.771448</td>\n",
       "      <td>30115.869255</td>\n",
       "      <td>rent</td>\n",
       "      <td>f623271b7ba61393790e9ab8cec839d4</td>\n",
       "      <td>25.647059</td>\n",
       "    </tr>\n",
       "    <tr>\n",
       "      <th>1058739</th>\n",
       "      <td>test4</td>\n",
       "      <td>30135.493437</td>\n",
       "      <td>23f24586aaddd9229c724fac4725c94f</td>\n",
       "      <td>27410.140327</td>\n",
       "      <td>29017.771448</td>\n",
       "      <td>30112.671916</td>\n",
       "      <td>subscription</td>\n",
       "      <td>dd7f3f7b10fb9b502cbc5d1a9abc067b</td>\n",
       "      <td>21.058824</td>\n",
       "    </tr>\n",
       "  </tbody>\n",
       "</table>\n",
       "<p>779470 rows × 9 columns</p>\n",
       "</div>"
      ],
      "text/plain": [
       "             tag            ts                          user_uid  \\\n",
       "0          test4  30152.843868  001885550d78efd82c0f5cc02ad3369a   \n",
       "3        control  30133.146255  deb7d0e9bf9813d4f21b579d3703c6e1   \n",
       "4        control  30133.146255  deb7d0e9bf9813d4f21b579d3703c6e1   \n",
       "5        control  30133.146255  deb7d0e9bf9813d4f21b579d3703c6e1   \n",
       "6        control  30133.146255  deb7d0e9bf9813d4f21b579d3703c6e1   \n",
       "...          ...           ...                               ...   \n",
       "1058732    test2  30144.864583  75c4da27fde4db78cf7e92e1847d1661   \n",
       "1058733    test4  30157.801078  d679d86c76c03f86e1459bde6b582664   \n",
       "1058734    test4  30140.139148  ca7d91f45bcc7eed9402a781e48cd6f5   \n",
       "1058738    test4  30135.493437  23f24586aaddd9229c724fac4725c94f   \n",
       "1058739    test4  30135.493437  23f24586aaddd9229c724fac4725c94f   \n",
       "\n",
       "         registration_time       conv_ts          time consumption_mode  \\\n",
       "0             27410.154590  29485.529691           NaN              NaN   \n",
       "3             27410.171795  27632.424734  30125.717420              dto   \n",
       "4             27410.171795  27632.424734  30122.544398              dto   \n",
       "5             27410.171795  27632.424734  30118.725912             rent   \n",
       "6             27410.171795  27632.424734  30118.626008             rent   \n",
       "...                    ...           ...           ...              ...   \n",
       "1058732       27410.037686  29293.210971           NaN              NaN   \n",
       "1058733       27410.050534  29633.843281           NaN              NaN   \n",
       "1058734       27410.114820  27448.255112           NaN              NaN   \n",
       "1058738       27410.140327  29017.771448  30115.869255             rent   \n",
       "1058739       27410.140327  29017.771448  30112.671916     subscription   \n",
       "\n",
       "                              element_uid      price  \n",
       "0                                     NaN        NaN  \n",
       "3        a693322f7dbc21d5064c06021b878597  35.647059  \n",
       "4        80fd3378dfc91b30d85cc0bd05a37993  35.647059  \n",
       "5        80fd3378dfc91b30d85cc0bd05a37993  25.647059  \n",
       "6        a693322f7dbc21d5064c06021b878597  25.647059  \n",
       "...                                   ...        ...  \n",
       "1058732                               NaN        NaN  \n",
       "1058733                               NaN        NaN  \n",
       "1058734                               NaN        NaN  \n",
       "1058738  f623271b7ba61393790e9ab8cec839d4  25.647059  \n",
       "1058739  dd7f3f7b10fb9b502cbc5d1a9abc067b  21.058824  \n",
       "\n",
       "[779470 rows x 9 columns]"
      ]
     },
     "execution_count": 15,
     "metadata": {},
     "output_type": "execute_result"
    }
   ],
   "source": [
    "df_before = df.query(\"time < ts or registration_time < 30132.31051184637 and time.isnull()\")\n",
    "df_before"
   ]
  },
  {
   "cell_type": "markdown",
   "id": "c562f119",
   "metadata": {},
   "source": [
    "Посмотрим на **средний чек** - отличается ли он по выборкам"
   ]
  },
  {
   "cell_type": "code",
   "execution_count": 415,
   "id": "47cb9c44",
   "metadata": {},
   "outputs": [
    {
     "data": {
      "text/html": [
       "<div>\n",
       "<style scoped>\n",
       "    .dataframe tbody tr th:only-of-type {\n",
       "        vertical-align: middle;\n",
       "    }\n",
       "\n",
       "    .dataframe tbody tr th {\n",
       "        vertical-align: top;\n",
       "    }\n",
       "\n",
       "    .dataframe thead th {\n",
       "        text-align: right;\n",
       "    }\n",
       "</style>\n",
       "<table border=\"1\" class=\"dataframe\">\n",
       "  <thead>\n",
       "    <tr style=\"text-align: right;\">\n",
       "      <th></th>\n",
       "      <th>tag</th>\n",
       "      <th>avg_check</th>\n",
       "    </tr>\n",
       "  </thead>\n",
       "  <tbody>\n",
       "    <tr>\n",
       "      <th>0</th>\n",
       "      <td>control</td>\n",
       "      <td>35.981236</td>\n",
       "    </tr>\n",
       "    <tr>\n",
       "      <th>1</th>\n",
       "      <td>test1</td>\n",
       "      <td>35.907625</td>\n",
       "    </tr>\n",
       "    <tr>\n",
       "      <th>2</th>\n",
       "      <td>test2</td>\n",
       "      <td>35.868327</td>\n",
       "    </tr>\n",
       "    <tr>\n",
       "      <th>3</th>\n",
       "      <td>test3</td>\n",
       "      <td>35.875315</td>\n",
       "    </tr>\n",
       "    <tr>\n",
       "      <th>4</th>\n",
       "      <td>test4</td>\n",
       "      <td>35.951459</td>\n",
       "    </tr>\n",
       "  </tbody>\n",
       "</table>\n",
       "</div>"
      ],
      "text/plain": [
       "       tag  avg_check\n",
       "0  control  35.981236\n",
       "1    test1  35.907625\n",
       "2    test2  35.868327\n",
       "3    test3  35.875315\n",
       "4    test4  35.951459"
      ]
     },
     "execution_count": 415,
     "metadata": {},
     "output_type": "execute_result"
    }
   ],
   "source": [
    "df_before.groupby('tag', as_index=False).agg({'price': 'mean'}).rename(columns={'price': 'avg_check'})"
   ]
  },
  {
   "cell_type": "code",
   "execution_count": 19,
   "id": "3f541611",
   "metadata": {},
   "outputs": [
    {
     "data": {
      "image/png": "[encoded data removed]",
      "text/plain": [
       "<Figure size 864x576 with 1 Axes>"
      ]
     },
     "metadata": {
      "needs_background": "light"
     },
     "output_type": "display_data"
    }
   ],
   "source": [
    "plt.figure(figsize=(12,8))\n",
    "ax = sns.boxplot(data=df_before, x='tag', y='price')\n",
    "ax.set(title='Распределение чеков пользователей')\n",
    "ax.set(xlabel='Экспериментальная группа', ylabel='Чек')\n",
    "var = ax.set_xticklabels(ax.get_xticklabels(), rotation=0)"
   ]
  },
  {
   "cell_type": "code",
   "execution_count": 37,
   "id": "63c8caa2",
   "metadata": {},
   "outputs": [
    {
     "data": {
      "text/plain": [
       "<seaborn.axisgrid.FacetGrid at 0x1d90485d460>"
      ]
     },
     "execution_count": 37,
     "metadata": {},
     "output_type": "execute_result"
    },
    {
     "data": {
      "text/plain": [
       "<Figure size 1152x864 with 0 Axes>"
      ]
     },
     "metadata": {},
     "output_type": "display_data"
    },
    {
     "data": {
      "image/png": "[encoded data removed]",
      "text/plain": [
       "<Figure size 1800x360 with 5 Axes>"
      ]
     },
     "metadata": {
      "needs_background": "light"
     },
     "output_type": "display_data"
    }
   ],
   "source": [
    "plt.figure(figsize=(16,12))\n",
    "ax = sns.displot(df_before, x='price', col='tag')\n",
    "ax.set(xlabel='Экспериментальная группа', ylabel='Количество чеков')"
   ]
  },
  {
   "cell_type": "markdown",
   "id": "a5ebfe8b",
   "metadata": {},
   "source": [
    "Распределение визуально отличается от нормального. Попробуем нормализовать распределение чеков с помощью логарифмирования"
   ]
  },
  {
   "cell_type": "code",
   "execution_count": 51,
   "id": "2229264b",
   "metadata": {},
   "outputs": [
    {
     "data": {
      "text/plain": [
       "[Text(0.5, 1.0, 'Распределение логарифмированных чеков')]"
      ]
     },
     "execution_count": 51,
     "metadata": {},
     "output_type": "execute_result"
    },
    {
     "data": {
      "image/png": "[encoded data removed]",
      "text/plain": [
       "<Figure size 432x288 with 1 Axes>"
      ]
     },
     "metadata": {
      "needs_background": "light"
     },
     "output_type": "display_data"
    }
   ],
   "source": [
    "ax = sns.distplot(np.log(df_before.price))\n",
    "ax.set(title='Распределение логарифмированных чеков')"
   ]
  },
  {
   "cell_type": "code",
   "execution_count": 29,
   "id": "aac834dd",
   "metadata": {},
   "outputs": [],
   "source": [
    "df_before['log_price'] = np.log(df_before['price'])"
   ]
  },
  {
   "cell_type": "code",
   "execution_count": 36,
   "id": "e8366255",
   "metadata": {},
   "outputs": [
    {
     "data": {
      "text/plain": [
       "<seaborn.axisgrid.FacetGrid at 0x1d90223f4c0>"
      ]
     },
     "execution_count": 36,
     "metadata": {},
     "output_type": "execute_result"
    },
    {
     "data": {
      "image/png": "[encoded data removed]",
      "text/plain": [
       "<Figure size 1800x360 with 5 Axes>"
      ]
     },
     "metadata": {
      "needs_background": "light"
     },
     "output_type": "display_data"
    }
   ],
   "source": [
    "ax = sns.displot(df_before, x='log_price', col='tag')\n",
    "ax.set(xlabel='Логарифм чека', ylabel='Количество чеков')"
   ]
  },
  {
   "cell_type": "markdown",
   "id": "0317524f",
   "metadata": {},
   "source": [
    "Распределения визуально явно отличаются от нормальных. Проведем статистический тест, чтобы удостовериться"
   ]
  },
  {
   "cell_type": "code",
   "execution_count": 173,
   "id": "cebb613a",
   "metadata": {},
   "outputs": [],
   "source": [
    "from scipy import stats"
   ]
  },
  {
   "cell_type": "code",
   "execution_count": 422,
   "id": "3c03fa6b",
   "metadata": {},
   "outputs": [
    {
     "data": {
      "text/plain": [
       "ShapiroResult(statistic=0.8639017343521118, pvalue=1.4301203450635087e-28)"
      ]
     },
     "execution_count": 422,
     "metadata": {},
     "output_type": "execute_result"
    }
   ],
   "source": [
    "stats.shapiro(df_before.query(\"tag == 'control' and price > 0\").price.sample(1000, random_state=17))"
   ]
  },
  {
   "cell_type": "code",
   "execution_count": 423,
   "id": "fecf40d5",
   "metadata": {},
   "outputs": [
    {
     "data": {
      "text/plain": [
       "ShapiroResult(statistic=0.9032914638519287, pvalue=1.2183044560716866e-24)"
      ]
     },
     "execution_count": 423,
     "metadata": {},
     "output_type": "execute_result"
    }
   ],
   "source": [
    "stats.shapiro(df_before.query(\"tag == 'test1' and price > 0\").price.sample(1000, random_state=17))"
   ]
  },
  {
   "cell_type": "code",
   "execution_count": 424,
   "id": "eaf7f044",
   "metadata": {},
   "outputs": [
    {
     "data": {
      "text/plain": [
       "ShapiroResult(statistic=0.89411860704422, pvalue=1.184106596273257e-25)"
      ]
     },
     "execution_count": 424,
     "metadata": {},
     "output_type": "execute_result"
    }
   ],
   "source": [
    "stats.shapiro(df_before.query(\"tag == 'test2' and price > 0\").price.sample(1000, random_state=17))"
   ]
  },
  {
   "cell_type": "code",
   "execution_count": 425,
   "id": "e8eb9b4c",
   "metadata": {},
   "outputs": [
    {
     "data": {
      "text/plain": [
       "ShapiroResult(statistic=0.9014635682106018, pvalue=7.556734283307507e-25)"
      ]
     },
     "execution_count": 425,
     "metadata": {},
     "output_type": "execute_result"
    }
   ],
   "source": [
    "stats.shapiro(df_before.query(\"tag == 'test3' and price > 0\").price.sample(1000, random_state=17))"
   ]
  },
  {
   "cell_type": "code",
   "execution_count": 426,
   "id": "d169d65b",
   "metadata": {},
   "outputs": [
    {
     "data": {
      "text/plain": [
       "ShapiroResult(statistic=0.8951545357704163, pvalue=1.5285534660742788e-25)"
      ]
     },
     "execution_count": 426,
     "metadata": {},
     "output_type": "execute_result"
    }
   ],
   "source": [
    "stats.shapiro(df_before.query(\"tag == 'test4' and price > 0\").price.sample(1000, random_state=17))"
   ]
  },
  {
   "cell_type": "markdown",
   "id": "db526032",
   "metadata": {},
   "source": [
    "Распределения для всех групп значимо отличаются от нормального"
   ]
  },
  {
   "cell_type": "code",
   "execution_count": 428,
   "id": "14388a7d",
   "metadata": {},
   "outputs": [
    {
     "data": {
      "text/plain": [
       "LeveneResult(statistic=1.6332167128309865, pvalue=0.16273365510890075)"
      ]
     },
     "execution_count": 428,
     "metadata": {},
     "output_type": "execute_result"
    }
   ],
   "source": [
    "stats.levene(df_before.query(\"tag == 'control'  and price > 0\").price,\n",
    "            df_before.query(\"tag == 'test1'  and price > 0\").price,\n",
    "            df_before.query(\"tag == 'test2'  and price > 0\").price,\n",
    "            df_before.query(\"tag == 'test3'  and price > 0\").price,\n",
    "            df_before.query(\"tag == 'test4'  and price > 0\").price)"
   ]
  },
  {
   "cell_type": "markdown",
   "id": "279d7fab",
   "metadata": {},
   "source": [
    "Требование к гомогенности дисперсий соблюдается. Тем не менее используем непараметрический тест Краскела-Уоллиса из-за ненормальности распределения"
   ]
  },
  {
   "cell_type": "code",
   "execution_count": 430,
   "id": "1aad5ffe",
   "metadata": {},
   "outputs": [
    {
     "data": {
      "text/plain": [
       "KruskalResult(statistic=4.626326833626191, pvalue=0.3278300422446007)"
      ]
     },
     "execution_count": 430,
     "metadata": {},
     "output_type": "execute_result"
    }
   ],
   "source": [
    "stats.kruskal(df_before.query(\"tag == 'control' and price > 0\").price,\n",
    "            df_before.query(\"tag == 'test1' and price > 0\").price,\n",
    "            df_before.query(\"tag == 'test2' and price > 0\").price,\n",
    "            df_before.query(\"tag == 'test3' and price > 0\").price,\n",
    "            df_before.query(\"tag == 'test4' and price > 0\").price)"
   ]
  },
  {
   "cell_type": "markdown",
   "id": "8690ef81",
   "metadata": {},
   "source": [
    "Пи-велью выше альфы (0.05), значит не можем отвергнуть гипотезу об отсутствии различий. \n",
    "<br>\n",
    "**Распределение по среднему чеку равномерно**"
   ]
  },
  {
   "cell_type": "markdown",
   "id": "3972509a",
   "metadata": {},
   "source": [
    "Посмотрим на **конверсию** в предпериоде"
   ]
  },
  {
   "cell_type": "code",
   "execution_count": 431,
   "id": "7d850ffe",
   "metadata": {},
   "outputs": [],
   "source": [
    "df_before['converted'] = np.where(df_before['time'] > 0, 1, 0)"
   ]
  },
  {
   "cell_type": "code",
   "execution_count": 432,
   "id": "8651c9ac",
   "metadata": {},
   "outputs": [
    {
     "data": {
      "text/plain": [
       "tag                       5\n",
       "ts                   625606\n",
       "user_uid             625988\n",
       "registration_time    622839\n",
       "conv_ts                2887\n",
       "time                 383102\n",
       "consumption_mode          3\n",
       "element_uid            5999\n",
       "price                    46\n",
       "log_price                46\n",
       "converted                 2\n",
       "dtype: int64"
      ]
     },
     "execution_count": 432,
     "metadata": {},
     "output_type": "execute_result"
    }
   ],
   "source": [
    "df_before.nunique()"
   ]
  },
  {
   "cell_type": "code",
   "execution_count": 433,
   "id": "fd7a0ffe",
   "metadata": {},
   "outputs": [
    {
     "data": {
      "text/html": [
       "<div>\n",
       "<style scoped>\n",
       "    .dataframe tbody tr th:only-of-type {\n",
       "        vertical-align: middle;\n",
       "    }\n",
       "\n",
       "    .dataframe tbody tr th {\n",
       "        vertical-align: top;\n",
       "    }\n",
       "\n",
       "    .dataframe thead th {\n",
       "        text-align: right;\n",
       "    }\n",
       "</style>\n",
       "<table border=\"1\" class=\"dataframe\">\n",
       "  <thead>\n",
       "    <tr style=\"text-align: right;\">\n",
       "      <th></th>\n",
       "      <th>conversion</th>\n",
       "    </tr>\n",
       "    <tr>\n",
       "      <th>tag</th>\n",
       "      <th></th>\n",
       "    </tr>\n",
       "  </thead>\n",
       "  <tbody>\n",
       "    <tr>\n",
       "      <th>control</th>\n",
       "      <td>0.367001</td>\n",
       "    </tr>\n",
       "    <tr>\n",
       "      <th>test1</th>\n",
       "      <td>0.370298</td>\n",
       "    </tr>\n",
       "    <tr>\n",
       "      <th>test2</th>\n",
       "      <td>0.367373</td>\n",
       "    </tr>\n",
       "    <tr>\n",
       "      <th>test3</th>\n",
       "      <td>0.366753</td>\n",
       "    </tr>\n",
       "    <tr>\n",
       "      <th>test4</th>\n",
       "      <td>0.365984</td>\n",
       "    </tr>\n",
       "  </tbody>\n",
       "</table>\n",
       "</div>"
      ],
      "text/plain": [
       "         conversion\n",
       "tag                \n",
       "control    0.367001\n",
       "test1      0.370298\n",
       "test2      0.367373\n",
       "test3      0.366753\n",
       "test4      0.365984"
      ]
     },
     "execution_count": 433,
     "metadata": {},
     "output_type": "execute_result"
    }
   ],
   "source": [
    "df_before_conv = df_before.groupby('user_uid', as_index=False).agg({'tag': 'max', 'converted': 'max'})\n",
    "df_before_conv.groupby('tag').agg({'converted': 'mean'}).rename(columns={'converted': 'conversion'})"
   ]
  },
  {
   "cell_type": "code",
   "execution_count": 191,
   "id": "b8eef38e",
   "metadata": {},
   "outputs": [],
   "source": [
    "from scipy.stats import chi2_contingency, chi2 "
   ]
  },
  {
   "cell_type": "code",
   "execution_count": 434,
   "id": "a5d260d9",
   "metadata": {},
   "outputs": [
    {
     "data": {
      "text/plain": [
       "(5.909481751909995, 0.20601098322831232)"
      ]
     },
     "execution_count": 434,
     "metadata": {},
     "output_type": "execute_result"
    }
   ],
   "source": [
    "stat, p, dof, expected = chi2_contingency(pd.crosstab(df_before_conv.tag, df_before_conv.converted))\n",
    "stat, p"
   ]
  },
  {
   "cell_type": "markdown",
   "id": "cbbe4f78",
   "metadata": {},
   "source": [
    "**Конверсии статистически не отличаются. Распределение равномерно и валидно**"
   ]
  },
  {
   "cell_type": "markdown",
   "id": "70672eb3",
   "metadata": {},
   "source": [
    "# Часть 3: Анализ результатов эксперимента"
   ]
  },
  {
   "cell_type": "markdown",
   "id": "4b52be16",
   "metadata": {},
   "source": [
    "Метрики, на которые стоит обратить внимание:\n",
    "- конверсия в транзакцию, \n",
    "- конверсия в каждый тип транзакции (покупка, аренда, подписка), \n",
    "- конверсия в повторную покупку,\n",
    "- средний чек, \n",
    "- ARPU, \n",
    "- ARPPU, "
   ]
  },
  {
   "cell_type": "markdown",
   "id": "35355f3c",
   "metadata": {},
   "source": [
    "Посмотрим на **конверсию**"
   ]
  },
  {
   "cell_type": "markdown",
   "id": "4c5b9637",
   "metadata": {},
   "source": [
    "Оставим данные по тем юзерам, которые совершили транзакцию после присвоения тега, а также тех, кто не совершил транзакции (вне зависимости от времени регистрации, так как зарегестрировавшиеся до начала эксперимента могли сконвертироваться в ходе теста)"
   ]
  },
  {
   "cell_type": "code",
   "execution_count": 32,
   "id": "4c652c69",
   "metadata": {},
   "outputs": [
    {
     "data": {
      "text/html": [
       "<div>\n",
       "<style scoped>\n",
       "    .dataframe tbody tr th:only-of-type {\n",
       "        vertical-align: middle;\n",
       "    }\n",
       "\n",
       "    .dataframe tbody tr th {\n",
       "        vertical-align: top;\n",
       "    }\n",
       "\n",
       "    .dataframe thead th {\n",
       "        text-align: right;\n",
       "    }\n",
       "</style>\n",
       "<table border=\"1\" class=\"dataframe\">\n",
       "  <thead>\n",
       "    <tr style=\"text-align: right;\">\n",
       "      <th></th>\n",
       "      <th>tag</th>\n",
       "      <th>ts</th>\n",
       "      <th>user_uid</th>\n",
       "      <th>registration_time</th>\n",
       "      <th>conv_ts</th>\n",
       "      <th>time</th>\n",
       "      <th>consumption_mode</th>\n",
       "      <th>element_uid</th>\n",
       "      <th>price</th>\n",
       "    </tr>\n",
       "  </thead>\n",
       "  <tbody>\n",
       "    <tr>\n",
       "      <th>0</th>\n",
       "      <td>test4</td>\n",
       "      <td>30152.843868</td>\n",
       "      <td>001885550d78efd82c0f5cc02ad3369a</td>\n",
       "      <td>27410.154590</td>\n",
       "      <td>29485.529691</td>\n",
       "      <td>NaN</td>\n",
       "      <td>NaN</td>\n",
       "      <td>NaN</td>\n",
       "      <td>NaN</td>\n",
       "    </tr>\n",
       "    <tr>\n",
       "      <th>1</th>\n",
       "      <td>control</td>\n",
       "      <td>30133.146255</td>\n",
       "      <td>deb7d0e9bf9813d4f21b579d3703c6e1</td>\n",
       "      <td>27410.171795</td>\n",
       "      <td>27632.424734</td>\n",
       "      <td>30147.939441</td>\n",
       "      <td>rent</td>\n",
       "      <td>f1ed5620d661f7d604e31509f3542504</td>\n",
       "      <td>25.647059</td>\n",
       "    </tr>\n",
       "    <tr>\n",
       "      <th>2</th>\n",
       "      <td>control</td>\n",
       "      <td>30133.146255</td>\n",
       "      <td>deb7d0e9bf9813d4f21b579d3703c6e1</td>\n",
       "      <td>27410.171795</td>\n",
       "      <td>27632.424734</td>\n",
       "      <td>30133.782798</td>\n",
       "      <td>subscription</td>\n",
       "      <td>dd7f3f7b10fb9b502cbc5d1a9abc067b</td>\n",
       "      <td>50.352941</td>\n",
       "    </tr>\n",
       "    <tr>\n",
       "      <th>7</th>\n",
       "      <td>test1</td>\n",
       "      <td>30140.447675</td>\n",
       "      <td>32095e22f853e595a0f407ad081e7da8</td>\n",
       "      <td>27410.217536</td>\n",
       "      <td>27414.028899</td>\n",
       "      <td>NaN</td>\n",
       "      <td>NaN</td>\n",
       "      <td>NaN</td>\n",
       "      <td>NaN</td>\n",
       "    </tr>\n",
       "    <tr>\n",
       "      <th>8</th>\n",
       "      <td>control</td>\n",
       "      <td>30136.790772</td>\n",
       "      <td>9932d33f40ad07d7f3ddb7c6aee1bc60</td>\n",
       "      <td>27410.227367</td>\n",
       "      <td>27573.751226</td>\n",
       "      <td>30138.171910</td>\n",
       "      <td>subscription</td>\n",
       "      <td>6044f6995c3da1720dd814bafe3b2349</td>\n",
       "      <td>38.588235</td>\n",
       "    </tr>\n",
       "    <tr>\n",
       "      <th>...</th>\n",
       "      <td>...</td>\n",
       "      <td>...</td>\n",
       "      <td>...</td>\n",
       "      <td>...</td>\n",
       "      <td>...</td>\n",
       "      <td>...</td>\n",
       "      <td>...</td>\n",
       "      <td>...</td>\n",
       "      <td>...</td>\n",
       "    </tr>\n",
       "    <tr>\n",
       "      <th>1058733</th>\n",
       "      <td>test4</td>\n",
       "      <td>30157.801078</td>\n",
       "      <td>d679d86c76c03f86e1459bde6b582664</td>\n",
       "      <td>27410.050534</td>\n",
       "      <td>29633.843281</td>\n",
       "      <td>NaN</td>\n",
       "      <td>NaN</td>\n",
       "      <td>NaN</td>\n",
       "      <td>NaN</td>\n",
       "    </tr>\n",
       "    <tr>\n",
       "      <th>1058734</th>\n",
       "      <td>test4</td>\n",
       "      <td>30140.139148</td>\n",
       "      <td>ca7d91f45bcc7eed9402a781e48cd6f5</td>\n",
       "      <td>27410.114820</td>\n",
       "      <td>27448.255112</td>\n",
       "      <td>NaN</td>\n",
       "      <td>NaN</td>\n",
       "      <td>NaN</td>\n",
       "      <td>NaN</td>\n",
       "    </tr>\n",
       "    <tr>\n",
       "      <th>1058735</th>\n",
       "      <td>test4</td>\n",
       "      <td>30135.493437</td>\n",
       "      <td>23f24586aaddd9229c724fac4725c94f</td>\n",
       "      <td>27410.140327</td>\n",
       "      <td>29017.771448</td>\n",
       "      <td>30158.432323</td>\n",
       "      <td>rent</td>\n",
       "      <td>059253ab01a83ccc0d90aa4147ecb11f</td>\n",
       "      <td>26.823529</td>\n",
       "    </tr>\n",
       "    <tr>\n",
       "      <th>1058736</th>\n",
       "      <td>test4</td>\n",
       "      <td>30135.493437</td>\n",
       "      <td>23f24586aaddd9229c724fac4725c94f</td>\n",
       "      <td>27410.140327</td>\n",
       "      <td>29017.771448</td>\n",
       "      <td>30140.484255</td>\n",
       "      <td>dto</td>\n",
       "      <td>783002315b28940b5f249dcacc3a9d00</td>\n",
       "      <td>26.823529</td>\n",
       "    </tr>\n",
       "    <tr>\n",
       "      <th>1058737</th>\n",
       "      <td>test4</td>\n",
       "      <td>30135.493437</td>\n",
       "      <td>23f24586aaddd9229c724fac4725c94f</td>\n",
       "      <td>27410.140327</td>\n",
       "      <td>29017.771448</td>\n",
       "      <td>30138.977930</td>\n",
       "      <td>rent</td>\n",
       "      <td>b7464f0fdf9b8c47e3cceeba6940da8c</td>\n",
       "      <td>26.823529</td>\n",
       "    </tr>\n",
       "  </tbody>\n",
       "</table>\n",
       "<p>675217 rows × 9 columns</p>\n",
       "</div>"
      ],
      "text/plain": [
       "             tag            ts                          user_uid  \\\n",
       "0          test4  30152.843868  001885550d78efd82c0f5cc02ad3369a   \n",
       "1        control  30133.146255  deb7d0e9bf9813d4f21b579d3703c6e1   \n",
       "2        control  30133.146255  deb7d0e9bf9813d4f21b579d3703c6e1   \n",
       "7          test1  30140.447675  32095e22f853e595a0f407ad081e7da8   \n",
       "8        control  30136.790772  9932d33f40ad07d7f3ddb7c6aee1bc60   \n",
       "...          ...           ...                               ...   \n",
       "1058733    test4  30157.801078  d679d86c76c03f86e1459bde6b582664   \n",
       "1058734    test4  30140.139148  ca7d91f45bcc7eed9402a781e48cd6f5   \n",
       "1058735    test4  30135.493437  23f24586aaddd9229c724fac4725c94f   \n",
       "1058736    test4  30135.493437  23f24586aaddd9229c724fac4725c94f   \n",
       "1058737    test4  30135.493437  23f24586aaddd9229c724fac4725c94f   \n",
       "\n",
       "         registration_time       conv_ts          time consumption_mode  \\\n",
       "0             27410.154590  29485.529691           NaN              NaN   \n",
       "1             27410.171795  27632.424734  30147.939441             rent   \n",
       "2             27410.171795  27632.424734  30133.782798     subscription   \n",
       "7             27410.217536  27414.028899           NaN              NaN   \n",
       "8             27410.227367  27573.751226  30138.171910     subscription   \n",
       "...                    ...           ...           ...              ...   \n",
       "1058733       27410.050534  29633.843281           NaN              NaN   \n",
       "1058734       27410.114820  27448.255112           NaN              NaN   \n",
       "1058735       27410.140327  29017.771448  30158.432323             rent   \n",
       "1058736       27410.140327  29017.771448  30140.484255              dto   \n",
       "1058737       27410.140327  29017.771448  30138.977930             rent   \n",
       "\n",
       "                              element_uid      price  \n",
       "0                                     NaN        NaN  \n",
       "1        f1ed5620d661f7d604e31509f3542504  25.647059  \n",
       "2        dd7f3f7b10fb9b502cbc5d1a9abc067b  50.352941  \n",
       "7                                     NaN        NaN  \n",
       "8        6044f6995c3da1720dd814bafe3b2349  38.588235  \n",
       "...                                   ...        ...  \n",
       "1058733                               NaN        NaN  \n",
       "1058734                               NaN        NaN  \n",
       "1058735  059253ab01a83ccc0d90aa4147ecb11f  26.823529  \n",
       "1058736  783002315b28940b5f249dcacc3a9d00  26.823529  \n",
       "1058737  b7464f0fdf9b8c47e3cceeba6940da8c  26.823529  \n",
       "\n",
       "[675217 rows x 9 columns]"
      ]
     },
     "execution_count": 32,
     "metadata": {},
     "output_type": "execute_result"
    }
   ],
   "source": [
    "df_after = df.query(\"time > ts or time.isnull()\")\n",
    "df_after"
   ]
  },
  {
   "cell_type": "code",
   "execution_count": 33,
   "id": "e8589199",
   "metadata": {},
   "outputs": [],
   "source": [
    "df_after['converted'] = np.where(df_after['time'] > 0, 1, 0)"
   ]
  },
  {
   "cell_type": "code",
   "execution_count": 437,
   "id": "ad8d98bb",
   "metadata": {},
   "outputs": [
    {
     "data": {
      "text/html": [
       "<div>\n",
       "<style scoped>\n",
       "    .dataframe tbody tr th:only-of-type {\n",
       "        vertical-align: middle;\n",
       "    }\n",
       "\n",
       "    .dataframe tbody tr th {\n",
       "        vertical-align: top;\n",
       "    }\n",
       "\n",
       "    .dataframe thead th {\n",
       "        text-align: right;\n",
       "    }\n",
       "</style>\n",
       "<table border=\"1\" class=\"dataframe\">\n",
       "  <thead>\n",
       "    <tr style=\"text-align: right;\">\n",
       "      <th></th>\n",
       "      <th>conversion</th>\n",
       "    </tr>\n",
       "    <tr>\n",
       "      <th>tag</th>\n",
       "      <th></th>\n",
       "    </tr>\n",
       "  </thead>\n",
       "  <tbody>\n",
       "    <tr>\n",
       "      <th>control</th>\n",
       "      <td>0.272493</td>\n",
       "    </tr>\n",
       "    <tr>\n",
       "      <th>test1</th>\n",
       "      <td>0.282117</td>\n",
       "    </tr>\n",
       "    <tr>\n",
       "      <th>test2</th>\n",
       "      <td>0.279162</td>\n",
       "    </tr>\n",
       "    <tr>\n",
       "      <th>test3</th>\n",
       "      <td>0.279821</td>\n",
       "    </tr>\n",
       "    <tr>\n",
       "      <th>test4</th>\n",
       "      <td>0.279887</td>\n",
       "    </tr>\n",
       "  </tbody>\n",
       "</table>\n",
       "</div>"
      ],
      "text/plain": [
       "         conversion\n",
       "tag                \n",
       "control    0.272493\n",
       "test1      0.282117\n",
       "test2      0.279162\n",
       "test3      0.279821\n",
       "test4      0.279887"
      ]
     },
     "execution_count": 437,
     "metadata": {},
     "output_type": "execute_result"
    }
   ],
   "source": [
    "df_after_conv = df_after.groupby('user_uid', as_index=False).agg({'tag': 'max', 'converted': 'max'})\n",
    "df_after_conv.groupby('tag').agg({'converted': 'mean'}).rename(columns={'converted': 'conversion'})"
   ]
  },
  {
   "cell_type": "code",
   "execution_count": 438,
   "id": "2d868ec7",
   "metadata": {},
   "outputs": [
    {
     "data": {
      "text/plain": [
       "(29.039865897309706, 7.672962636732087e-06)"
      ]
     },
     "execution_count": 438,
     "metadata": {},
     "output_type": "execute_result"
    }
   ],
   "source": [
    "stat, p, dof, expected = chi2_contingency(pd.crosstab(df_after_conv.tag, df_after_conv.converted))\n",
    "stat, p"
   ]
  },
  {
   "cell_type": "markdown",
   "id": "d992a977",
   "metadata": {},
   "source": [
    "Конверсии статистически значимо отличаются. Посмотрим, в каких группах есть это различие - проведем попарные сравнения. Но так как при попарных сравнениях растет вероятность ошибки первого рода - применим поправку Бонферони (для каждой пары стат значимость различий подтверждается не при p-value ниже альфы 0.05, а при p-value ниже альфы, деленной на кол-во всех попарных сравнений). Так как у нас 5 групп, то совершается 10 попарных сравнений (при этом мы будем смотреть только разницу каждого теста с контролем). Соответственно, пи-велью для каждого попарного сравнения должен быть ниже 0.005"
   ]
  },
  {
   "cell_type": "code",
   "execution_count": 439,
   "id": "422ff841",
   "metadata": {},
   "outputs": [
    {
     "data": {
      "text/plain": [
       "(25.436913641125088, 4.5708769945957217e-07)"
      ]
     },
     "execution_count": 439,
     "metadata": {},
     "output_type": "execute_result"
    }
   ],
   "source": [
    "stat, p, dof, expected = chi2_contingency(pd.crosstab(df_after_conv.query(\"tag == 'control' or tag == 'test1'\").tag, \n",
    "                                                      df_after_conv.query(\"tag == 'control' or tag == 'test1'\").converted))\n",
    "stat, p"
   ]
  },
  {
   "cell_type": "code",
   "execution_count": 440,
   "id": "12ec7266",
   "metadata": {},
   "outputs": [
    {
     "data": {
      "text/plain": [
       "(12.22278423613238, 0.00047209426865192275)"
      ]
     },
     "execution_count": 440,
     "metadata": {},
     "output_type": "execute_result"
    }
   ],
   "source": [
    "stat, p, dof, expected = chi2_contingency(pd.crosstab(df_after_conv.query(\"tag == 'control' or tag == 'test2'\").tag, \n",
    "                                                      df_after_conv.query(\"tag == 'control' or tag == 'test2'\").converted))\n",
    "stat, p"
   ]
  },
  {
   "cell_type": "code",
   "execution_count": 441,
   "id": "5c3cf71d",
   "metadata": {},
   "outputs": [
    {
     "data": {
      "text/plain": [
       "(14.753179344181333, 0.00012254072111288805)"
      ]
     },
     "execution_count": 441,
     "metadata": {},
     "output_type": "execute_result"
    }
   ],
   "source": [
    "stat, p, dof, expected = chi2_contingency(pd.crosstab(df_after_conv.query(\"tag == 'control' or tag == 'test3'\").tag, \n",
    "                                                      df_after_conv.query(\"tag == 'control' or tag == 'test3'\").converted))\n",
    "stat, p"
   ]
  },
  {
   "cell_type": "code",
   "execution_count": 442,
   "id": "9dd0e948",
   "metadata": {},
   "outputs": [
    {
     "data": {
      "text/plain": [
       "(15.025860440430986, 0.00010604798801522589)"
      ]
     },
     "execution_count": 442,
     "metadata": {},
     "output_type": "execute_result"
    }
   ],
   "source": [
    "stat, p, dof, expected = chi2_contingency(pd.crosstab(df_after_conv.query(\"tag == 'control' or tag == 'test4'\").tag, \n",
    "                                                      df_after_conv.query(\"tag == 'control' or tag == 'test4'\").converted))\n",
    "stat, p"
   ]
  },
  {
   "cell_type": "markdown",
   "id": "b41454d9",
   "metadata": {},
   "source": [
    "**В каждой группе конверсия выросла значимо.** В первой группе - на 3.5%, во второй группе - на 2.4%, в третьей группе - на 2.7%, в четвертой группе - на 2.7%"
   ]
  },
  {
   "cell_type": "markdown",
   "id": "40cdc6b2",
   "metadata": {},
   "source": [
    "Посмотрим на **конверсию в повторную покупку**"
   ]
  },
  {
   "cell_type": "code",
   "execution_count": 443,
   "id": "7bff3abe",
   "metadata": {},
   "outputs": [],
   "source": [
    "df_after_conv2 = df_after.query(\"time > 0\").groupby(\"user_uid\", as_index=False).agg({'tag': 'max', 'price': 'count'})"
   ]
  },
  {
   "cell_type": "code",
   "execution_count": 444,
   "id": "81fe688b",
   "metadata": {},
   "outputs": [],
   "source": [
    "df_after_conv2['converted'] = np.where(df_after_conv2['price'] > 1, 1, 0)"
   ]
  },
  {
   "cell_type": "code",
   "execution_count": 445,
   "id": "21df83f1",
   "metadata": {},
   "outputs": [
    {
     "data": {
      "text/html": [
       "<div>\n",
       "<style scoped>\n",
       "    .dataframe tbody tr th:only-of-type {\n",
       "        vertical-align: middle;\n",
       "    }\n",
       "\n",
       "    .dataframe tbody tr th {\n",
       "        vertical-align: top;\n",
       "    }\n",
       "\n",
       "    .dataframe thead th {\n",
       "        text-align: right;\n",
       "    }\n",
       "</style>\n",
       "<table border=\"1\" class=\"dataframe\">\n",
       "  <thead>\n",
       "    <tr style=\"text-align: right;\">\n",
       "      <th></th>\n",
       "      <th>conversion</th>\n",
       "    </tr>\n",
       "    <tr>\n",
       "      <th>tag</th>\n",
       "      <th></th>\n",
       "    </tr>\n",
       "  </thead>\n",
       "  <tbody>\n",
       "    <tr>\n",
       "      <th>control</th>\n",
       "      <td>0.369376</td>\n",
       "    </tr>\n",
       "    <tr>\n",
       "      <th>test1</th>\n",
       "      <td>0.383863</td>\n",
       "    </tr>\n",
       "    <tr>\n",
       "      <th>test2</th>\n",
       "      <td>0.385510</td>\n",
       "    </tr>\n",
       "    <tr>\n",
       "      <th>test3</th>\n",
       "      <td>0.384924</td>\n",
       "    </tr>\n",
       "    <tr>\n",
       "      <th>test4</th>\n",
       "      <td>0.389199</td>\n",
       "    </tr>\n",
       "  </tbody>\n",
       "</table>\n",
       "</div>"
      ],
      "text/plain": [
       "         conversion\n",
       "tag                \n",
       "control    0.369376\n",
       "test1      0.383863\n",
       "test2      0.385510\n",
       "test3      0.384924\n",
       "test4      0.389199"
      ]
     },
     "execution_count": 445,
     "metadata": {},
     "output_type": "execute_result"
    }
   ],
   "source": [
    "df_after_conv2.groupby('tag').agg({'converted': 'mean'}).rename(columns={'converted': 'conversion'})"
   ]
  },
  {
   "cell_type": "code",
   "execution_count": 446,
   "id": "e6d89cb1",
   "metadata": {},
   "outputs": [
    {
     "data": {
      "text/plain": [
       "(29.845909907981287, 5.260980308667034e-06)"
      ]
     },
     "execution_count": 446,
     "metadata": {},
     "output_type": "execute_result"
    }
   ],
   "source": [
    "stat, p, dof, expected = chi2_contingency(pd.crosstab(df_after_conv2.tag, df_after_conv2.converted))\n",
    "stat, p"
   ]
  },
  {
   "cell_type": "markdown",
   "id": "3e8c4be2",
   "metadata": {},
   "source": [
    "Отличия значимы. Так же, как и с конверсией в первую транзакцию, сделаем попарные сравнения, помня, что уровень значимости теперь 0.005"
   ]
  },
  {
   "cell_type": "code",
   "execution_count": 447,
   "id": "669b47af",
   "metadata": {},
   "outputs": [
    {
     "data": {
      "text/plain": [
       "(13.598667233785346, 0.0002263461635658186)"
      ]
     },
     "execution_count": 447,
     "metadata": {},
     "output_type": "execute_result"
    }
   ],
   "source": [
    "stat, p, dof, expected = chi2_contingency(pd.crosstab(df_after_conv2.query(\"tag == 'control' or tag == 'test1'\").tag, \n",
    "                                                      df_after_conv2.query(\"tag == 'control' or tag == 'test1'\").converted))\n",
    "stat, p"
   ]
  },
  {
   "cell_type": "code",
   "execution_count": 448,
   "id": "712e37fa",
   "metadata": {},
   "outputs": [
    {
     "data": {
      "text/plain": [
       "(16.74520865132184, 4.275008380617694e-05)"
      ]
     },
     "execution_count": 448,
     "metadata": {},
     "output_type": "execute_result"
    }
   ],
   "source": [
    "stat, p, dof, expected = chi2_contingency(pd.crosstab(df_after_conv2.query(\"tag == 'control' or tag == 'test2'\").tag, \n",
    "                                                      df_after_conv2.query(\"tag == 'control' or tag == 'test2'\").converted))\n",
    "stat, p"
   ]
  },
  {
   "cell_type": "code",
   "execution_count": 449,
   "id": "6e31c0be",
   "metadata": {},
   "outputs": [
    {
     "data": {
      "text/plain": [
       "(15.573397445611588, 7.936338405346471e-05)"
      ]
     },
     "execution_count": 449,
     "metadata": {},
     "output_type": "execute_result"
    }
   ],
   "source": [
    "stat, p, dof, expected = chi2_contingency(pd.crosstab(df_after_conv2.query(\"tag == 'control' or tag == 'test3'\").tag, \n",
    "                                                      df_after_conv2.query(\"tag == 'control' or tag == 'test3'\").converted))\n",
    "stat, p"
   ]
  },
  {
   "cell_type": "code",
   "execution_count": 450,
   "id": "1a6ed979",
   "metadata": {},
   "outputs": [
    {
     "data": {
      "text/plain": [
       "(25.294573525867193, 4.920912141076293e-07)"
      ]
     },
     "execution_count": 450,
     "metadata": {},
     "output_type": "execute_result"
    }
   ],
   "source": [
    "stat, p, dof, expected = chi2_contingency(pd.crosstab(df_after_conv2.query(\"tag == 'control' or tag == 'test4'\").tag, \n",
    "                                                      df_after_conv2.query(\"tag == 'control' or tag == 'test4'\").converted))\n",
    "stat, p"
   ]
  },
  {
   "cell_type": "markdown",
   "id": "54a942fb",
   "metadata": {},
   "source": [
    "**В каждой группе конверсия в повторную транзакцию стат значимо выросла.** У первой группы - на 3.9%, у второй группы - на 4.4%, у третьей группы - на 4.3%, у четвертой - на 5.4%"
   ]
  },
  {
   "cell_type": "markdown",
   "id": "38dbbf65",
   "metadata": {},
   "source": [
    "Посмотрим на **конверсии в каждый тип транзакций. Начнем с покупки.**"
   ]
  },
  {
   "cell_type": "code",
   "execution_count": 451,
   "id": "c3a3117c",
   "metadata": {},
   "outputs": [],
   "source": [
    "df_after_dto = df_after\n",
    "df_after_dto['converted'] = np.where(df_after_dto['consumption_mode'] == 'dto', 1, 0)"
   ]
  },
  {
   "cell_type": "code",
   "execution_count": 452,
   "id": "0ddbeef8",
   "metadata": {},
   "outputs": [
    {
     "data": {
      "text/html": [
       "<div>\n",
       "<style scoped>\n",
       "    .dataframe tbody tr th:only-of-type {\n",
       "        vertical-align: middle;\n",
       "    }\n",
       "\n",
       "    .dataframe tbody tr th {\n",
       "        vertical-align: top;\n",
       "    }\n",
       "\n",
       "    .dataframe thead th {\n",
       "        text-align: right;\n",
       "    }\n",
       "</style>\n",
       "<table border=\"1\" class=\"dataframe\">\n",
       "  <thead>\n",
       "    <tr style=\"text-align: right;\">\n",
       "      <th></th>\n",
       "      <th>tag</th>\n",
       "      <th>conversion_dto</th>\n",
       "    </tr>\n",
       "  </thead>\n",
       "  <tbody>\n",
       "    <tr>\n",
       "      <th>0</th>\n",
       "      <td>control</td>\n",
       "      <td>0.105396</td>\n",
       "    </tr>\n",
       "    <tr>\n",
       "      <th>1</th>\n",
       "      <td>test1</td>\n",
       "      <td>0.116498</td>\n",
       "    </tr>\n",
       "    <tr>\n",
       "      <th>2</th>\n",
       "      <td>test2</td>\n",
       "      <td>0.114033</td>\n",
       "    </tr>\n",
       "    <tr>\n",
       "      <th>3</th>\n",
       "      <td>test3</td>\n",
       "      <td>0.115765</td>\n",
       "    </tr>\n",
       "    <tr>\n",
       "      <th>4</th>\n",
       "      <td>test4</td>\n",
       "      <td>0.118734</td>\n",
       "    </tr>\n",
       "  </tbody>\n",
       "</table>\n",
       "</div>"
      ],
      "text/plain": [
       "       tag  conversion_dto\n",
       "0  control        0.105396\n",
       "1    test1        0.116498\n",
       "2    test2        0.114033\n",
       "3    test3        0.115765\n",
       "4    test4        0.118734"
      ]
     },
     "execution_count": 452,
     "metadata": {},
     "output_type": "execute_result"
    }
   ],
   "source": [
    "df_after_dto.groupby('user_uid', as_index=False) \\\n",
    "    .agg({'tag': 'max', 'converted': 'max'}) \\\n",
    "    .groupby('tag', as_index=False) \\\n",
    "    .agg({'converted': 'mean'}) \\\n",
    "    .rename(columns={'converted': 'conversion_dto'})"
   ]
  },
  {
   "cell_type": "code",
   "execution_count": 453,
   "id": "cc39fc7d",
   "metadata": {},
   "outputs": [
    {
     "data": {
      "text/plain": [
       "(178.22384138762862, 1.7945965042914303e-37)"
      ]
     },
     "execution_count": 453,
     "metadata": {},
     "output_type": "execute_result"
    }
   ],
   "source": [
    "stat, p, dof, expected = chi2_contingency(pd.crosstab(df_after_dto.converted, df_after_dto.tag))\n",
    "stat, p"
   ]
  },
  {
   "cell_type": "markdown",
   "id": "ff41d65e",
   "metadata": {},
   "source": [
    "Посмотрим на различия между группами, помня, что уровень значимости теперь 0.005"
   ]
  },
  {
   "cell_type": "code",
   "execution_count": 454,
   "id": "bbbbc3a4",
   "metadata": {},
   "outputs": [
    {
     "data": {
      "text/plain": [
       "(89.5106475559878, 3.049925766087801e-21)"
      ]
     },
     "execution_count": 454,
     "metadata": {},
     "output_type": "execute_result"
    }
   ],
   "source": [
    "stat, p, dof, expected = chi2_contingency(pd.crosstab(df_after_dto.query(\"tag == 'control' or tag == 'test1'\").converted,\n",
    "                                                      df_after_dto.query(\"tag == 'control' or tag == 'test1'\").tag))\n",
    "stat, p"
   ]
  },
  {
   "cell_type": "code",
   "execution_count": 455,
   "id": "93f05790",
   "metadata": {},
   "outputs": [
    {
     "data": {
      "text/plain": [
       "(80.21871976552029, 3.351767047303828e-19)"
      ]
     },
     "execution_count": 455,
     "metadata": {},
     "output_type": "execute_result"
    }
   ],
   "source": [
    "stat, p, dof, expected = chi2_contingency(pd.crosstab(df_after_dto.query(\"tag == 'control' or tag == 'test2'\").converted,\n",
    "                                                      df_after_dto.query(\"tag == 'control' or tag == 'test2'\").tag))\n",
    "stat, p"
   ]
  },
  {
   "cell_type": "code",
   "execution_count": 456,
   "id": "e7610eec",
   "metadata": {},
   "outputs": [
    {
     "data": {
      "text/plain": [
       "(96.29386087626413, 9.903665349988011e-23)"
      ]
     },
     "execution_count": 456,
     "metadata": {},
     "output_type": "execute_result"
    }
   ],
   "source": [
    "stat, p, dof, expected = chi2_contingency(pd.crosstab(df_after_dto.query(\"tag == 'control' or tag == 'test3'\").converted,\n",
    "                                                      df_after_dto.query(\"tag == 'control' or tag == 'test3'\").tag))\n",
    "stat, p"
   ]
  },
  {
   "cell_type": "code",
   "execution_count": 457,
   "id": "84643052",
   "metadata": {},
   "outputs": [
    {
     "data": {
      "text/plain": [
       "(158.21283603429816, 2.7805803839837253e-36)"
      ]
     },
     "execution_count": 457,
     "metadata": {},
     "output_type": "execute_result"
    }
   ],
   "source": [
    "stat, p, dof, expected = chi2_contingency(pd.crosstab(df_after_dto.query(\"tag == 'control' or tag == 'test4'\").converted,\n",
    "                                                      df_after_dto.query(\"tag == 'control' or tag == 'test4'\").tag))\n",
    "stat, p"
   ]
  },
  {
   "cell_type": "markdown",
   "id": "c57ad957",
   "metadata": {},
   "source": [
    "**Конверсия в покупку стат значимо увеличилось в каждой группе.** У первой группы - на 10.5%, у второй группы - на 8.2%, у третьей группы - на 9.8%, у четвертой группы - на 12.6%"
   ]
  },
  {
   "cell_type": "markdown",
   "id": "a0f9ef7e",
   "metadata": {},
   "source": [
    "Посмотрим на **конверсию в аренду**"
   ]
  },
  {
   "cell_type": "code",
   "execution_count": 458,
   "id": "d4864904",
   "metadata": {},
   "outputs": [],
   "source": [
    "df_after_rent = df_after\n",
    "df_after_rent['converted'] = np.where(df_after_dto['consumption_mode'] == 'rent', 1, 0)"
   ]
  },
  {
   "cell_type": "code",
   "execution_count": 459,
   "id": "e6e1a827",
   "metadata": {},
   "outputs": [
    {
     "data": {
      "text/html": [
       "<div>\n",
       "<style scoped>\n",
       "    .dataframe tbody tr th:only-of-type {\n",
       "        vertical-align: middle;\n",
       "    }\n",
       "\n",
       "    .dataframe tbody tr th {\n",
       "        vertical-align: top;\n",
       "    }\n",
       "\n",
       "    .dataframe thead th {\n",
       "        text-align: right;\n",
       "    }\n",
       "</style>\n",
       "<table border=\"1\" class=\"dataframe\">\n",
       "  <thead>\n",
       "    <tr style=\"text-align: right;\">\n",
       "      <th></th>\n",
       "      <th>tag</th>\n",
       "      <th>conversion_rent</th>\n",
       "    </tr>\n",
       "  </thead>\n",
       "  <tbody>\n",
       "    <tr>\n",
       "      <th>0</th>\n",
       "      <td>control</td>\n",
       "      <td>0.104146</td>\n",
       "    </tr>\n",
       "    <tr>\n",
       "      <th>1</th>\n",
       "      <td>test1</td>\n",
       "      <td>0.106275</td>\n",
       "    </tr>\n",
       "    <tr>\n",
       "      <th>2</th>\n",
       "      <td>test2</td>\n",
       "      <td>0.107267</td>\n",
       "    </tr>\n",
       "    <tr>\n",
       "      <th>3</th>\n",
       "      <td>test3</td>\n",
       "      <td>0.105956</td>\n",
       "    </tr>\n",
       "    <tr>\n",
       "      <th>4</th>\n",
       "      <td>test4</td>\n",
       "      <td>0.104993</td>\n",
       "    </tr>\n",
       "  </tbody>\n",
       "</table>\n",
       "</div>"
      ],
      "text/plain": [
       "       tag  conversion_rent\n",
       "0  control         0.104146\n",
       "1    test1         0.106275\n",
       "2    test2         0.107267\n",
       "3    test3         0.105956\n",
       "4    test4         0.104993"
      ]
     },
     "execution_count": 459,
     "metadata": {},
     "output_type": "execute_result"
    }
   ],
   "source": [
    "df_after_rent.groupby('user_uid', as_index=False) \\\n",
    "    .agg({'tag': 'max', 'converted': 'max'}) \\\n",
    "    .groupby('tag', as_index=False) \\\n",
    "    .agg({'converted': 'mean'}) \\\n",
    "    .rename(columns={'converted': 'conversion_rent'})"
   ]
  },
  {
   "cell_type": "code",
   "execution_count": 460,
   "id": "ac02cb78",
   "metadata": {},
   "outputs": [
    {
     "data": {
      "text/plain": [
       "(9.272181138493414, 0.054644871818728374)"
      ]
     },
     "execution_count": 460,
     "metadata": {},
     "output_type": "execute_result"
    }
   ],
   "source": [
    "stat, p, dof, expected = chi2_contingency(pd.crosstab(df_after_rent.converted, df_after_rent.tag))\n",
    "stat, p"
   ]
  },
  {
   "cell_type": "markdown",
   "id": "4b9fbdc3",
   "metadata": {},
   "source": [
    "Пи-велью выше уровня значимости. **Не можем утверждать, что есть различия между конверсиями в аренду хотя бы в одной группе**"
   ]
  },
  {
   "cell_type": "markdown",
   "id": "cd4d52c7",
   "metadata": {},
   "source": [
    "Посмотрим на **конверсию в приобретение подписки**"
   ]
  },
  {
   "cell_type": "code",
   "execution_count": 461,
   "id": "70260e30",
   "metadata": {},
   "outputs": [],
   "source": [
    "df_after_sub = df_after\n",
    "df_after_sub['converted'] = np.where(df_after_sub['consumption_mode'] == 'subscription', 1, 0)"
   ]
  },
  {
   "cell_type": "code",
   "execution_count": 462,
   "id": "532eee85",
   "metadata": {},
   "outputs": [
    {
     "data": {
      "text/html": [
       "<div>\n",
       "<style scoped>\n",
       "    .dataframe tbody tr th:only-of-type {\n",
       "        vertical-align: middle;\n",
       "    }\n",
       "\n",
       "    .dataframe tbody tr th {\n",
       "        vertical-align: top;\n",
       "    }\n",
       "\n",
       "    .dataframe thead th {\n",
       "        text-align: right;\n",
       "    }\n",
       "</style>\n",
       "<table border=\"1\" class=\"dataframe\">\n",
       "  <thead>\n",
       "    <tr style=\"text-align: right;\">\n",
       "      <th></th>\n",
       "      <th>tag</th>\n",
       "      <th>conversion_sub</th>\n",
       "    </tr>\n",
       "  </thead>\n",
       "  <tbody>\n",
       "    <tr>\n",
       "      <th>0</th>\n",
       "      <td>control</td>\n",
       "      <td>0.133072</td>\n",
       "    </tr>\n",
       "    <tr>\n",
       "      <th>1</th>\n",
       "      <td>test1</td>\n",
       "      <td>0.135357</td>\n",
       "    </tr>\n",
       "    <tr>\n",
       "      <th>2</th>\n",
       "      <td>test2</td>\n",
       "      <td>0.133516</td>\n",
       "    </tr>\n",
       "    <tr>\n",
       "      <th>3</th>\n",
       "      <td>test3</td>\n",
       "      <td>0.135412</td>\n",
       "    </tr>\n",
       "    <tr>\n",
       "      <th>4</th>\n",
       "      <td>test4</td>\n",
       "      <td>0.132765</td>\n",
       "    </tr>\n",
       "  </tbody>\n",
       "</table>\n",
       "</div>"
      ],
      "text/plain": [
       "       tag  conversion_sub\n",
       "0  control        0.133072\n",
       "1    test1        0.135357\n",
       "2    test2        0.133516\n",
       "3    test3        0.135412\n",
       "4    test4        0.132765"
      ]
     },
     "execution_count": 462,
     "metadata": {},
     "output_type": "execute_result"
    }
   ],
   "source": [
    "df_after_sub.groupby('user_uid', as_index=False) \\\n",
    "    .agg({'tag': 'max', 'converted': 'max'}) \\\n",
    "    .groupby('tag', as_index=False) \\\n",
    "    .agg({'converted': 'mean'}) \\\n",
    "    .rename(columns={'converted': 'conversion_sub'})"
   ]
  },
  {
   "cell_type": "code",
   "execution_count": 463,
   "id": "eb6a8352",
   "metadata": {},
   "outputs": [
    {
     "data": {
      "text/plain": [
       "(4.9566318656252, 0.29177635330640694)"
      ]
     },
     "execution_count": 463,
     "metadata": {},
     "output_type": "execute_result"
    }
   ],
   "source": [
    "stat, p, dof, expected = chi2_contingency(pd.crosstab(df_after_sub.converted, df_after_sub.tag))\n",
    "stat, p"
   ]
  },
  {
   "cell_type": "markdown",
   "id": "0359d866",
   "metadata": {},
   "source": [
    "Конверсия в подписку значимо не изменилась"
   ]
  },
  {
   "cell_type": "markdown",
   "id": "c21af7a7",
   "metadata": {},
   "source": [
    "**Наибольший прирост конверсии (повторной, в покупку) наблюдается у 4 тестовой группы. Наибольший прирост первой конверсии в транзакцию - у 1 тестовой группы**"
   ]
  },
  {
   "cell_type": "markdown",
   "id": "4b270c87",
   "metadata": {},
   "source": [
    "Посмотрим на **средний чек**"
   ]
  },
  {
   "cell_type": "code",
   "execution_count": 464,
   "id": "8c4ca3d6",
   "metadata": {},
   "outputs": [
    {
     "data": {
      "text/html": [
       "<div>\n",
       "<style scoped>\n",
       "    .dataframe tbody tr th:only-of-type {\n",
       "        vertical-align: middle;\n",
       "    }\n",
       "\n",
       "    .dataframe tbody tr th {\n",
       "        vertical-align: top;\n",
       "    }\n",
       "\n",
       "    .dataframe thead th {\n",
       "        text-align: right;\n",
       "    }\n",
       "</style>\n",
       "<table border=\"1\" class=\"dataframe\">\n",
       "  <thead>\n",
       "    <tr style=\"text-align: right;\">\n",
       "      <th></th>\n",
       "      <th>tag</th>\n",
       "      <th>avg_check</th>\n",
       "    </tr>\n",
       "  </thead>\n",
       "  <tbody>\n",
       "    <tr>\n",
       "      <th>0</th>\n",
       "      <td>control</td>\n",
       "      <td>38.618944</td>\n",
       "    </tr>\n",
       "    <tr>\n",
       "      <th>1</th>\n",
       "      <td>test1</td>\n",
       "      <td>38.280936</td>\n",
       "    </tr>\n",
       "    <tr>\n",
       "      <th>2</th>\n",
       "      <td>test2</td>\n",
       "      <td>38.399636</td>\n",
       "    </tr>\n",
       "    <tr>\n",
       "      <th>3</th>\n",
       "      <td>test3</td>\n",
       "      <td>38.322629</td>\n",
       "    </tr>\n",
       "    <tr>\n",
       "      <th>4</th>\n",
       "      <td>test4</td>\n",
       "      <td>38.174531</td>\n",
       "    </tr>\n",
       "  </tbody>\n",
       "</table>\n",
       "</div>"
      ],
      "text/plain": [
       "       tag  avg_check\n",
       "0  control  38.618944\n",
       "1    test1  38.280936\n",
       "2    test2  38.399636\n",
       "3    test3  38.322629\n",
       "4    test4  38.174531"
      ]
     },
     "execution_count": 464,
     "metadata": {},
     "output_type": "execute_result"
    }
   ],
   "source": [
    "df_after.groupby('tag', as_index=False).agg({'price': 'mean'}).rename(columns={'price': 'avg_check'})"
   ]
  },
  {
   "cell_type": "code",
   "execution_count": 52,
   "id": "ac0ca1ec",
   "metadata": {},
   "outputs": [
    {
     "data": {
      "text/plain": [
       "[Text(0.5, 1.0, 'Распределение чеков')]"
      ]
     },
     "execution_count": 52,
     "metadata": {},
     "output_type": "execute_result"
    },
    {
     "data": {
      "image/png": "[encoded data removed]",
      "text/plain": [
       "<Figure size 432x288 with 1 Axes>"
      ]
     },
     "metadata": {
      "needs_background": "light"
     },
     "output_type": "display_data"
    }
   ],
   "source": [
    "ax = sns.distplot(df_after.price)\n",
    "ax.set(title='Распределение чеков')"
   ]
  },
  {
   "cell_type": "code",
   "execution_count": 38,
   "id": "82b11b91",
   "metadata": {},
   "outputs": [
    {
     "data": {
      "text/plain": [
       "<seaborn.axisgrid.FacetGrid at 0x1d9048583d0>"
      ]
     },
     "execution_count": 38,
     "metadata": {},
     "output_type": "execute_result"
    },
    {
     "data": {
      "image/png": "[encoded data removed]",
      "text/plain": [
       "<Figure size 1800x360 with 5 Axes>"
      ]
     },
     "metadata": {
      "needs_background": "light"
     },
     "output_type": "display_data"
    }
   ],
   "source": [
    "ax = sns.displot(df_after, x='price', col='tag')\n",
    "ax.set(xlabel='Сумма чека', ylabel='Количество чеков')"
   ]
  },
  {
   "cell_type": "code",
   "execution_count": 41,
   "id": "3d5e1dc9",
   "metadata": {},
   "outputs": [],
   "source": [
    "df_after['log_price'] = np.log(df_after['price'])"
   ]
  },
  {
   "cell_type": "code",
   "execution_count": 49,
   "id": "0a30adab",
   "metadata": {},
   "outputs": [
    {
     "data": {
      "text/plain": [
       "[Text(0.5, 1.0, 'Распределение логарифма чеков')]"
      ]
     },
     "execution_count": 49,
     "metadata": {},
     "output_type": "execute_result"
    },
    {
     "data": {
      "image/png": "[encoded data removed]",
      "text/plain": [
       "<Figure size 432x288 with 1 Axes>"
      ]
     },
     "metadata": {
      "needs_background": "light"
     },
     "output_type": "display_data"
    }
   ],
   "source": [
    "ax = sns.distplot(df_after.log_price)\n",
    "ax.set(title='Распределение логарифма чеков')"
   ]
  },
  {
   "cell_type": "code",
   "execution_count": 43,
   "id": "eedfaff0",
   "metadata": {},
   "outputs": [
    {
     "data": {
      "text/plain": [
       "[Text(0.5, 17.200000000000003, 'Логарифм суммы чека'),\n",
       " Text(17.200000000000003, 0.5, 'Количество чеков')]"
      ]
     },
     "execution_count": 43,
     "metadata": {},
     "output_type": "execute_result"
    },
    {
     "data": {
      "image/png": "[encoded data removed]",
      "text/plain": [
       "<Figure size 1800x360 with 5 Axes>"
      ]
     },
     "metadata": {
      "needs_background": "light"
     },
     "output_type": "display_data"
    }
   ],
   "source": [
    "sns.displot(df_after, x='log_price', col='tag')\n",
    "ax.set(xlabel='Логарифм суммы чека', ylabel='Количество чеков')"
   ]
  },
  {
   "cell_type": "code",
   "execution_count": 470,
   "id": "9a9756ce",
   "metadata": {},
   "outputs": [
    {
     "data": {
      "text/plain": [
       "ShapiroResult(statistic=0.9452977180480957, pvalue=9.020404579890767e-19)"
      ]
     },
     "execution_count": 470,
     "metadata": {},
     "output_type": "execute_result"
    }
   ],
   "source": [
    "stats.shapiro(df_after.query(\"time > 0 and tag == 'control'\").log_price.sample(1000, random_state=17))"
   ]
  },
  {
   "cell_type": "code",
   "execution_count": 471,
   "id": "463855c5",
   "metadata": {},
   "outputs": [
    {
     "data": {
      "text/plain": [
       "ShapiroResult(statistic=0.9449132084846497, pvalue=7.731624098308648e-19)"
      ]
     },
     "execution_count": 471,
     "metadata": {},
     "output_type": "execute_result"
    }
   ],
   "source": [
    "stats.shapiro(df_after.query(\"time > 0 and tag == 'test1'\").log_price.sample(1000, random_state=17))"
   ]
  },
  {
   "cell_type": "code",
   "execution_count": 472,
   "id": "d7d7bb53",
   "metadata": {},
   "outputs": [
    {
     "data": {
      "text/plain": [
       "ShapiroResult(statistic=0.941478431224823, pvalue=2.0168315110328507e-19)"
      ]
     },
     "execution_count": 472,
     "metadata": {},
     "output_type": "execute_result"
    }
   ],
   "source": [
    "stats.shapiro(df_after.query(\"time > 0 and tag == 'test2'\").log_price.sample(1000, random_state=17))"
   ]
  },
  {
   "cell_type": "code",
   "execution_count": 473,
   "id": "16315365",
   "metadata": {},
   "outputs": [
    {
     "data": {
      "text/plain": [
       "ShapiroResult(statistic=0.9461568593978882, pvalue=1.2767010596994308e-18)"
      ]
     },
     "execution_count": 473,
     "metadata": {},
     "output_type": "execute_result"
    }
   ],
   "source": [
    "stats.shapiro(df_after.query(\"time > 0 and tag == 'test3'\").log_price.sample(1000, random_state=17))"
   ]
  },
  {
   "cell_type": "code",
   "execution_count": 474,
   "id": "6eec4469",
   "metadata": {},
   "outputs": [
    {
     "data": {
      "text/plain": [
       "ShapiroResult(statistic=0.9445818662643433, pvalue=6.773861135342819e-19)"
      ]
     },
     "execution_count": 474,
     "metadata": {},
     "output_type": "execute_result"
    }
   ],
   "source": [
    "stats.shapiro(df_after.query(\"time > 0 and tag == 'test4'\").log_price.sample(1000, random_state=17))"
   ]
  },
  {
   "cell_type": "code",
   "execution_count": 475,
   "id": "55ed09e9",
   "metadata": {},
   "outputs": [
    {
     "data": {
      "text/plain": [
       "LeveneResult(statistic=22.1314235135009, pvalue=2.7262735367326688e-18)"
      ]
     },
     "execution_count": 475,
     "metadata": {},
     "output_type": "execute_result"
    }
   ],
   "source": [
    "stats.levene(df_after.query(\"time > 0 and tag == 'control'\").log_price,\n",
    "            df_after.query(\"time > 0 and tag == 'test1'\").log_price,\n",
    "            df_after.query(\"time > 0 and tag == 'test2'\").log_price,\n",
    "            df_after.query(\"time > 0 and tag == 'test3'\").log_price,\n",
    "            df_after.query(\"time > 0 and tag == 'test4'\").log_price)"
   ]
  },
  {
   "cell_type": "markdown",
   "id": "0868a265",
   "metadata": {},
   "source": [
    "Не соблюдаются требования ни гомогенности дисперсий, ни нормальности распределения. Используем непараметрический критерий Краскела-Уоллиса"
   ]
  },
  {
   "cell_type": "code",
   "execution_count": 476,
   "id": "495ad8ca",
   "metadata": {},
   "outputs": [
    {
     "data": {
      "text/plain": [
       "KruskalResult(statistic=56.504587927678244, pvalue=1.5716091893450485e-11)"
      ]
     },
     "execution_count": 476,
     "metadata": {},
     "output_type": "execute_result"
    }
   ],
   "source": [
    "stats.kruskal(df_after.query(\"time > 0 and tag == 'control'\").price,\n",
    "            df_after.query(\"time > 0 and tag == 'test1'\").price,\n",
    "            df_after.query(\"time > 0 and tag == 'test2'\").price,\n",
    "            df_after.query(\"time > 0 and tag == 'test3'\").price,\n",
    "            df_after.query(\"time > 0 and tag == 'test4'\").price)"
   ]
  },
  {
   "cell_type": "markdown",
   "id": "5f97874f",
   "metadata": {},
   "source": [
    "Различия между группами есть. Проведем пост-хок тест Данна, чтобы понять, в каких именно группах значение отличается от контроля"
   ]
  },
  {
   "cell_type": "code",
   "execution_count": 270,
   "id": "58db0290",
   "metadata": {},
   "outputs": [],
   "source": [
    "import scikit_posthocs as sp "
   ]
  },
  {
   "cell_type": "code",
   "execution_count": 477,
   "id": "0dbe38ba",
   "metadata": {},
   "outputs": [
    {
     "data": {
      "text/html": [
       "<div>\n",
       "<style scoped>\n",
       "    .dataframe tbody tr th:only-of-type {\n",
       "        vertical-align: middle;\n",
       "    }\n",
       "\n",
       "    .dataframe tbody tr th {\n",
       "        vertical-align: top;\n",
       "    }\n",
       "\n",
       "    .dataframe thead th {\n",
       "        text-align: right;\n",
       "    }\n",
       "</style>\n",
       "<table border=\"1\" class=\"dataframe\">\n",
       "  <thead>\n",
       "    <tr style=\"text-align: right;\">\n",
       "      <th></th>\n",
       "      <th>control</th>\n",
       "      <th>test1</th>\n",
       "      <th>test2</th>\n",
       "      <th>test3</th>\n",
       "      <th>test4</th>\n",
       "    </tr>\n",
       "  </thead>\n",
       "  <tbody>\n",
       "    <tr>\n",
       "      <th>control</th>\n",
       "      <td>1.000000e+00</td>\n",
       "      <td>7.663195e-08</td>\n",
       "      <td>0.019353</td>\n",
       "      <td>0.001303</td>\n",
       "      <td>9.862214e-11</td>\n",
       "    </tr>\n",
       "    <tr>\n",
       "      <th>test1</th>\n",
       "      <td>7.663195e-08</td>\n",
       "      <td>1.000000e+00</td>\n",
       "      <td>0.014681</td>\n",
       "      <td>0.121904</td>\n",
       "      <td>5.623712e-01</td>\n",
       "    </tr>\n",
       "    <tr>\n",
       "      <th>test2</th>\n",
       "      <td>1.935265e-02</td>\n",
       "      <td>1.468087e-02</td>\n",
       "      <td>1.000000</td>\n",
       "      <td>0.562371</td>\n",
       "      <td>4.200755e-04</td>\n",
       "    </tr>\n",
       "    <tr>\n",
       "      <th>test3</th>\n",
       "      <td>1.302757e-03</td>\n",
       "      <td>1.219043e-01</td>\n",
       "      <td>0.562371</td>\n",
       "      <td>1.000000</td>\n",
       "      <td>1.084869e-02</td>\n",
       "    </tr>\n",
       "    <tr>\n",
       "      <th>test4</th>\n",
       "      <td>9.862214e-11</td>\n",
       "      <td>5.623712e-01</td>\n",
       "      <td>0.000420</td>\n",
       "      <td>0.010849</td>\n",
       "      <td>1.000000e+00</td>\n",
       "    </tr>\n",
       "  </tbody>\n",
       "</table>\n",
       "</div>"
      ],
      "text/plain": [
       "              control         test1     test2     test3         test4\n",
       "control  1.000000e+00  7.663195e-08  0.019353  0.001303  9.862214e-11\n",
       "test1    7.663195e-08  1.000000e+00  0.014681  0.121904  5.623712e-01\n",
       "test2    1.935265e-02  1.468087e-02  1.000000  0.562371  4.200755e-04\n",
       "test3    1.302757e-03  1.219043e-01  0.562371  1.000000  1.084869e-02\n",
       "test4    9.862214e-11  5.623712e-01  0.000420  0.010849  1.000000e+00"
      ]
     },
     "execution_count": 477,
     "metadata": {},
     "output_type": "execute_result"
    }
   ],
   "source": [
    "sp.posthoc_dunn(df_after.query(\"time > 0\"), 'price', 'tag', p_adjust='holm')"
   ]
  },
  {
   "cell_type": "markdown",
   "id": "6b723ffa",
   "metadata": {},
   "source": [
    "**Средний чек в каждой группе статистически значимо снизился.** У первой группы - на 0.9%, у второй группы - на 0.6%, у третьей группы - на 0.8%, у четвертой группы - на 1.1%"
   ]
  },
  {
   "cell_type": "markdown",
   "id": "4fb4a01f",
   "metadata": {},
   "source": [
    "Посчитаем **ARPU** и посмотрим, отличаются ли значения статистически значимо"
   ]
  },
  {
   "cell_type": "code",
   "execution_count": 44,
   "id": "29173b50",
   "metadata": {},
   "outputs": [],
   "source": [
    "df_arpu = df_after\n",
    "df_arpu['price'] = df_arpu['price'].fillna(0)"
   ]
  },
  {
   "cell_type": "code",
   "execution_count": 45,
   "id": "6834def4",
   "metadata": {},
   "outputs": [],
   "source": [
    "df_arpu = df_arpu.groupby('user_uid', as_index=False).agg({'tag': 'max', 'price': 'sum'})"
   ]
  },
  {
   "cell_type": "code",
   "execution_count": 50,
   "id": "875c57d0",
   "metadata": {},
   "outputs": [
    {
     "data": {
      "text/plain": [
       "[Text(0.5, 1.0, 'Распределение сумм, которые получаем от каждого пользователя')]"
      ]
     },
     "execution_count": 50,
     "metadata": {},
     "output_type": "execute_result"
    },
    {
     "data": {
      "image/png": "[encoded data removed]",
      "text/plain": [
       "<Figure size 432x288 with 1 Axes>"
      ]
     },
     "metadata": {
      "needs_background": "light"
     },
     "output_type": "display_data"
    }
   ],
   "source": [
    "ax = sns.distplot(df_arpu.price)\n",
    "ax.set(title='Распределение сумм, которые получаем от каждого пользователя')"
   ]
  },
  {
   "cell_type": "code",
   "execution_count": 481,
   "id": "efae403f",
   "metadata": {},
   "outputs": [
    {
     "data": {
      "text/html": [
       "<div>\n",
       "<style scoped>\n",
       "    .dataframe tbody tr th:only-of-type {\n",
       "        vertical-align: middle;\n",
       "    }\n",
       "\n",
       "    .dataframe tbody tr th {\n",
       "        vertical-align: top;\n",
       "    }\n",
       "\n",
       "    .dataframe thead th {\n",
       "        text-align: right;\n",
       "    }\n",
       "</style>\n",
       "<table border=\"1\" class=\"dataframe\">\n",
       "  <thead>\n",
       "    <tr style=\"text-align: right;\">\n",
       "      <th></th>\n",
       "      <th>tag</th>\n",
       "      <th>ARPU</th>\n",
       "    </tr>\n",
       "  </thead>\n",
       "  <tbody>\n",
       "    <tr>\n",
       "      <th>0</th>\n",
       "      <td>control</td>\n",
       "      <td>18.561048</td>\n",
       "    </tr>\n",
       "    <tr>\n",
       "      <th>1</th>\n",
       "      <td>test1</td>\n",
       "      <td>19.448464</td>\n",
       "    </tr>\n",
       "    <tr>\n",
       "      <th>2</th>\n",
       "      <td>test2</td>\n",
       "      <td>19.348823</td>\n",
       "    </tr>\n",
       "    <tr>\n",
       "      <th>3</th>\n",
       "      <td>test3</td>\n",
       "      <td>19.412692</td>\n",
       "    </tr>\n",
       "    <tr>\n",
       "      <th>4</th>\n",
       "      <td>test4</td>\n",
       "      <td>19.313863</td>\n",
       "    </tr>\n",
       "  </tbody>\n",
       "</table>\n",
       "</div>"
      ],
      "text/plain": [
       "       tag       ARPU\n",
       "0  control  18.561048\n",
       "1    test1  19.448464\n",
       "2    test2  19.348823\n",
       "3    test3  19.412692\n",
       "4    test4  19.313863"
      ]
     },
     "execution_count": 481,
     "metadata": {},
     "output_type": "execute_result"
    }
   ],
   "source": [
    "df_arpu.groupby('tag', as_index=False).agg({'price': 'mean'}).rename(columns={'price': 'ARPU'})"
   ]
  },
  {
   "cell_type": "code",
   "execution_count": 53,
   "id": "d1b48c24",
   "metadata": {},
   "outputs": [
    {
     "data": {
      "text/plain": [
       "<seaborn.axisgrid.FacetGrid at 0x1d90ad19fa0>"
      ]
     },
     "execution_count": 53,
     "metadata": {},
     "output_type": "execute_result"
    },
    {
     "data": {
      "image/png": "[encoded data removed]",
      "text/plain": [
       "<Figure size 1800x360 with 5 Axes>"
      ]
     },
     "metadata": {
      "needs_background": "light"
     },
     "output_type": "display_data"
    }
   ],
   "source": [
    "ax = sns.displot(df_arpu, x='price', col='tag')\n",
    "ax.set(xlabel='Суммы чека', ylabel='Количество чеков')"
   ]
  },
  {
   "cell_type": "markdown",
   "id": "e2b85d82",
   "metadata": {},
   "source": [
    "Распределения явно отличаются от нормального, логарифмирование бессмысленно, так как логарифм нуля не определен. Проверим статистическую значимость различий непараметрическим тестом"
   ]
  },
  {
   "cell_type": "code",
   "execution_count": 483,
   "id": "3f75dff3",
   "metadata": {},
   "outputs": [
    {
     "data": {
      "text/plain": [
       "KruskalResult(statistic=33.596195657523204, pvalue=9.016799154999556e-07)"
      ]
     },
     "execution_count": 483,
     "metadata": {},
     "output_type": "execute_result"
    }
   ],
   "source": [
    "stats.kruskal(df_arpu.query(\"tag == 'control'\").price,\n",
    "             df_arpu.query(\"tag == 'test1'\").price,\n",
    "             df_arpu.query(\"tag == 'test2'\").price,\n",
    "             df_arpu.query(\"tag == 'test3'\").price,\n",
    "             df_arpu.query(\"tag == 'test4'\").price)"
   ]
  },
  {
   "cell_type": "markdown",
   "id": "1d0e1076",
   "metadata": {},
   "source": [
    "Отличия между граппами значимы. Посмотрим, между какими именно"
   ]
  },
  {
   "cell_type": "code",
   "execution_count": 484,
   "id": "edb65108",
   "metadata": {},
   "outputs": [
    {
     "data": {
      "text/html": [
       "<div>\n",
       "<style scoped>\n",
       "    .dataframe tbody tr th:only-of-type {\n",
       "        vertical-align: middle;\n",
       "    }\n",
       "\n",
       "    .dataframe tbody tr th {\n",
       "        vertical-align: top;\n",
       "    }\n",
       "\n",
       "    .dataframe thead th {\n",
       "        text-align: right;\n",
       "    }\n",
       "</style>\n",
       "<table border=\"1\" class=\"dataframe\">\n",
       "  <thead>\n",
       "    <tr style=\"text-align: right;\">\n",
       "      <th></th>\n",
       "      <th>control</th>\n",
       "      <th>test1</th>\n",
       "      <th>test2</th>\n",
       "      <th>test3</th>\n",
       "      <th>test4</th>\n",
       "    </tr>\n",
       "  </thead>\n",
       "  <tbody>\n",
       "    <tr>\n",
       "      <th>control</th>\n",
       "      <td>1.000000</td>\n",
       "      <td>0.000001</td>\n",
       "      <td>0.000595</td>\n",
       "      <td>0.000142</td>\n",
       "      <td>0.000174</td>\n",
       "    </tr>\n",
       "    <tr>\n",
       "      <th>test1</th>\n",
       "      <td>0.000001</td>\n",
       "      <td>1.000000</td>\n",
       "      <td>1.000000</td>\n",
       "      <td>1.000000</td>\n",
       "      <td>1.000000</td>\n",
       "    </tr>\n",
       "    <tr>\n",
       "      <th>test2</th>\n",
       "      <td>0.000595</td>\n",
       "      <td>1.000000</td>\n",
       "      <td>1.000000</td>\n",
       "      <td>1.000000</td>\n",
       "      <td>1.000000</td>\n",
       "    </tr>\n",
       "    <tr>\n",
       "      <th>test3</th>\n",
       "      <td>0.000142</td>\n",
       "      <td>1.000000</td>\n",
       "      <td>1.000000</td>\n",
       "      <td>1.000000</td>\n",
       "      <td>1.000000</td>\n",
       "    </tr>\n",
       "    <tr>\n",
       "      <th>test4</th>\n",
       "      <td>0.000174</td>\n",
       "      <td>1.000000</td>\n",
       "      <td>1.000000</td>\n",
       "      <td>1.000000</td>\n",
       "      <td>1.000000</td>\n",
       "    </tr>\n",
       "  </tbody>\n",
       "</table>\n",
       "</div>"
      ],
      "text/plain": [
       "          control     test1     test2     test3     test4\n",
       "control  1.000000  0.000001  0.000595  0.000142  0.000174\n",
       "test1    0.000001  1.000000  1.000000  1.000000  1.000000\n",
       "test2    0.000595  1.000000  1.000000  1.000000  1.000000\n",
       "test3    0.000142  1.000000  1.000000  1.000000  1.000000\n",
       "test4    0.000174  1.000000  1.000000  1.000000  1.000000"
      ]
     },
     "execution_count": 484,
     "metadata": {},
     "output_type": "execute_result"
    }
   ],
   "source": [
    "sp.posthoc_dunn(df_arpu, 'price', 'tag', p_adjust='holm')"
   ]
  },
  {
   "cell_type": "markdown",
   "id": "e08e9f45",
   "metadata": {},
   "source": [
    "**В каждой из тестовых групп ARPU выросла статистически значимо.** У первой группы - на 4.8%, у второй группы - на 4.2%, у третьей группы - на 4.6%, у четвертой группы - на 4.1%"
   ]
  },
  {
   "cell_type": "markdown",
   "id": "c5c0f318",
   "metadata": {},
   "source": [
    "Посмотрим на **ARPPU**"
   ]
  },
  {
   "cell_type": "code",
   "execution_count": 55,
   "id": "b0146a87",
   "metadata": {},
   "outputs": [],
   "source": [
    "df_arppu = df_after.query(\"time > 0\")"
   ]
  },
  {
   "cell_type": "code",
   "execution_count": 56,
   "id": "c11c5891",
   "metadata": {},
   "outputs": [],
   "source": [
    "df_arppu = df_arppu.groupby('user_uid').agg({'tag': 'max', 'price': 'sum'})"
   ]
  },
  {
   "cell_type": "code",
   "execution_count": 487,
   "id": "142f7b53",
   "metadata": {},
   "outputs": [
    {
     "data": {
      "text/html": [
       "<div>\n",
       "<style scoped>\n",
       "    .dataframe tbody tr th:only-of-type {\n",
       "        vertical-align: middle;\n",
       "    }\n",
       "\n",
       "    .dataframe tbody tr th {\n",
       "        vertical-align: top;\n",
       "    }\n",
       "\n",
       "    .dataframe thead th {\n",
       "        text-align: right;\n",
       "    }\n",
       "</style>\n",
       "<table border=\"1\" class=\"dataframe\">\n",
       "  <thead>\n",
       "    <tr style=\"text-align: right;\">\n",
       "      <th></th>\n",
       "      <th>tag</th>\n",
       "      <th>ARPPU</th>\n",
       "    </tr>\n",
       "  </thead>\n",
       "  <tbody>\n",
       "    <tr>\n",
       "      <th>0</th>\n",
       "      <td>control</td>\n",
       "      <td>68.115792</td>\n",
       "    </tr>\n",
       "    <tr>\n",
       "      <th>1</th>\n",
       "      <td>test1</td>\n",
       "      <td>68.937489</td>\n",
       "    </tr>\n",
       "    <tr>\n",
       "      <th>2</th>\n",
       "      <td>test2</td>\n",
       "      <td>69.310454</td>\n",
       "    </tr>\n",
       "    <tr>\n",
       "      <th>3</th>\n",
       "      <td>test3</td>\n",
       "      <td>69.375487</td>\n",
       "    </tr>\n",
       "    <tr>\n",
       "      <th>4</th>\n",
       "      <td>test4</td>\n",
       "      <td>69.005958</td>\n",
       "    </tr>\n",
       "  </tbody>\n",
       "</table>\n",
       "</div>"
      ],
      "text/plain": [
       "       tag      ARPPU\n",
       "0  control  68.115792\n",
       "1    test1  68.937489\n",
       "2    test2  69.310454\n",
       "3    test3  69.375487\n",
       "4    test4  69.005958"
      ]
     },
     "execution_count": 487,
     "metadata": {},
     "output_type": "execute_result"
    }
   ],
   "source": [
    "df_arppu.groupby('tag', as_index=False).agg({'price': 'mean'}).rename(columns={'price': 'ARPPU'})"
   ]
  },
  {
   "cell_type": "code",
   "execution_count": 57,
   "id": "5c4ee4e1",
   "metadata": {},
   "outputs": [
    {
     "data": {
      "text/plain": [
       "<seaborn.axisgrid.FacetGrid at 0x1d924f7bcd0>"
      ]
     },
     "execution_count": 57,
     "metadata": {},
     "output_type": "execute_result"
    },
    {
     "data": {
      "image/png": "[encoded data removed]",
      "text/plain": [
       "<Figure size 1800x360 with 5 Axes>"
      ]
     },
     "metadata": {
      "needs_background": "light"
     },
     "output_type": "display_data"
    }
   ],
   "source": [
    "ax = sns.displot(df_arppu, x='price', col='tag')\n",
    "ax.set(xlabel='Суммы чека', ylabel='Количество чеков')"
   ]
  },
  {
   "cell_type": "code",
   "execution_count": 489,
   "id": "430ed091",
   "metadata": {},
   "outputs": [
    {
     "data": {
      "text/plain": [
       "KruskalResult(statistic=11.29006462451837, pvalue=0.02349041631338823)"
      ]
     },
     "execution_count": 489,
     "metadata": {},
     "output_type": "execute_result"
    }
   ],
   "source": [
    "stats.kruskal(df_arppu.query(\"tag == 'control'\").price,\n",
    "             df_arppu.query(\"tag == 'test1'\").price,\n",
    "             df_arppu.query(\"tag == 'test2'\").price,\n",
    "             df_arppu.query(\"tag == 'test3'\").price,\n",
    "             df_arppu.query(\"tag == 'test4'\").price)"
   ]
  },
  {
   "cell_type": "code",
   "execution_count": 490,
   "id": "8d9ae969",
   "metadata": {},
   "outputs": [
    {
     "data": {
      "text/html": [
       "<div>\n",
       "<style scoped>\n",
       "    .dataframe tbody tr th:only-of-type {\n",
       "        vertical-align: middle;\n",
       "    }\n",
       "\n",
       "    .dataframe tbody tr th {\n",
       "        vertical-align: top;\n",
       "    }\n",
       "\n",
       "    .dataframe thead th {\n",
       "        text-align: right;\n",
       "    }\n",
       "</style>\n",
       "<table border=\"1\" class=\"dataframe\">\n",
       "  <thead>\n",
       "    <tr style=\"text-align: right;\">\n",
       "      <th></th>\n",
       "      <th>control</th>\n",
       "      <th>test1</th>\n",
       "      <th>test2</th>\n",
       "      <th>test3</th>\n",
       "      <th>test4</th>\n",
       "    </tr>\n",
       "  </thead>\n",
       "  <tbody>\n",
       "    <tr>\n",
       "      <th>control</th>\n",
       "      <td>1.000000</td>\n",
       "      <td>0.453437</td>\n",
       "      <td>0.057906</td>\n",
       "      <td>0.028896</td>\n",
       "      <td>0.125168</td>\n",
       "    </tr>\n",
       "    <tr>\n",
       "      <th>test1</th>\n",
       "      <td>0.453437</td>\n",
       "      <td>1.000000</td>\n",
       "      <td>1.000000</td>\n",
       "      <td>1.000000</td>\n",
       "      <td>1.000000</td>\n",
       "    </tr>\n",
       "    <tr>\n",
       "      <th>test2</th>\n",
       "      <td>0.057906</td>\n",
       "      <td>1.000000</td>\n",
       "      <td>1.000000</td>\n",
       "      <td>1.000000</td>\n",
       "      <td>1.000000</td>\n",
       "    </tr>\n",
       "    <tr>\n",
       "      <th>test3</th>\n",
       "      <td>0.028896</td>\n",
       "      <td>1.000000</td>\n",
       "      <td>1.000000</td>\n",
       "      <td>1.000000</td>\n",
       "      <td>1.000000</td>\n",
       "    </tr>\n",
       "    <tr>\n",
       "      <th>test4</th>\n",
       "      <td>0.125168</td>\n",
       "      <td>1.000000</td>\n",
       "      <td>1.000000</td>\n",
       "      <td>1.000000</td>\n",
       "      <td>1.000000</td>\n",
       "    </tr>\n",
       "  </tbody>\n",
       "</table>\n",
       "</div>"
      ],
      "text/plain": [
       "          control     test1     test2     test3     test4\n",
       "control  1.000000  0.453437  0.057906  0.028896  0.125168\n",
       "test1    0.453437  1.000000  1.000000  1.000000  1.000000\n",
       "test2    0.057906  1.000000  1.000000  1.000000  1.000000\n",
       "test3    0.028896  1.000000  1.000000  1.000000  1.000000\n",
       "test4    0.125168  1.000000  1.000000  1.000000  1.000000"
      ]
     },
     "execution_count": 490,
     "metadata": {},
     "output_type": "execute_result"
    }
   ],
   "source": [
    "sp.posthoc_dunn(df_arppu, 'price', 'tag', p_adjust='holm')"
   ]
  },
  {
   "cell_type": "markdown",
   "id": "d782f72b",
   "metadata": {},
   "source": [
    "**Значимо ARPPU вырос только для третьей тестовой группы - на 1.8%**"
   ]
  },
  {
   "cell_type": "markdown",
   "id": "a5658dce",
   "metadata": {},
   "source": [
    "# Часть 4: Заключение"
   ]
  },
  {
   "cell_type": "markdown",
   "id": "3b6bcef7",
   "metadata": {},
   "source": [
    "Выводы: \n",
    "<br>\n",
    "<br>\n",
    "Конверсия выросла во всех группах. В первой группе - на 3.5%, во второй группе - на 2.4%, в третьей группе - на 2.7%, в четвертой группе - на 2.7%\n",
    "<br>\n",
    "<br>\n",
    "Конверсия в повторную покупку выросла. У первой группы - на 3.9%, у второй группы - на 4.4%, у третьей группы - на 4.3%, у четвертой - на 5.4%\n",
    "<br>\n",
    "<br>\n",
    "Конверсия в покупку контента выросла. У первой группы - на 10.5%, у второй группы - на 8.2%, у третьей группы - на 9.8%, у четвертой группы - на 12.6%. В другие типы транзакций - не изменилась (для всех групп)\n",
    "<br>\n",
    "<br>\n",
    "Средний чек снизился в каждой группе. У первой группы - на 0.9%, у второй группы - на 0.6%, у третьей группы - на 0.8%, у четвертой группы - на 1.1%\n",
    "<br>\n",
    "<br>\n",
    "ARPU выросла в каждой группе. У первой группы - на 4.8%, у второй группы - на 4.2%, у третьей группы - на 4.6%, у четвертой группы - на 4.1%\n",
    "<br>\n",
    "<br>\n",
    "ARPPU выросла только в третьей группе на 1.8%. "
   ]
  },
  {
   "cell_type": "markdown",
   "id": "fa26a727",
   "metadata": {},
   "source": [
    "Каких данных не хватает: \n",
    "<br>\n",
    "<br>\n",
    "1) реальных данных по дате, чтобы посчитать удержание;\n",
    "<br>\n",
    "<br>\n",
    "2) типа подписки (месячная, полугодовая, годовая), чтобы посмотреть динамику конверсий в них; \n",
    "<br>\n",
    "<br>\n",
    "3) данных по удовлетворенностью новой системы оплаты, чтобы посчитать CSI"
   ]
  }
 ],
 "metadata": {
  "kernelspec": {
   "display_name": "Python 3 (ipykernel)",
   "language": "python",
   "name": "python3"
  },
  "language_info": {
   "codemirror_mode": {
    "name": "ipython",
    "version": 3
   },
   "file_extension": ".py",
   "mimetype": "text/x-python",
   "name": "python",
   "nbconvert_exporter": "python",
   "pygments_lexer": "ipython3",
   "version": "3.9.12"
  }
 },
 "nbformat": 4,
 "nbformat_minor": 5
}
